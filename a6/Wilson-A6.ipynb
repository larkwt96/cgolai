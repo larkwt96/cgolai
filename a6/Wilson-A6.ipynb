{
 "cells": [
  {
   "cell_type": "markdown",
   "metadata": {},
   "source": [
    "$\\newcommand{\\xv}{\\mathbf{x}}\n",
    "\\newcommand{\\Xv}{\\mathbf{X}}\n",
    "\\newcommand{\\yv}{\\mathbf{y}}\n",
    "\\newcommand{\\zv}{\\mathbf{z}}\n",
    "\\newcommand{\\av}{\\mathbf{a}}\n",
    "\\newcommand{\\Wv}{\\mathbf{W}}\n",
    "\\newcommand{\\wv}{\\mathbf{w}}\n",
    "\\newcommand{\\tv}{\\mathbf{t}}\n",
    "\\newcommand{\\Tv}{\\mathbf{T}}\n",
    "\\newcommand{\\muv}{\\boldsymbol{\\mu}}\n",
    "\\newcommand{\\sigmav}{\\boldsymbol{\\sigma}}\n",
    "\\newcommand{\\phiv}{\\boldsymbol{\\phi}}\n",
    "\\newcommand{\\Phiv}{\\boldsymbol{\\Phi}}\n",
    "\\newcommand{\\Sigmav}{\\boldsymbol{\\Sigma}}\n",
    "\\newcommand{\\Lambdav}{\\boldsymbol{\\Lambda}}\n",
    "\\newcommand{\\half}{\\frac{1}{2}}\n",
    "\\newcommand{\\argmax}[1]{\\underset{#1}{\\operatorname{argmax}}}\n",
    "\\newcommand{\\argmin}[1]{\\underset{#1}{\\operatorname{argmin}}}$"
   ]
  },
  {
   "cell_type": "markdown",
   "metadata": {},
   "source": [
    "# Assignment 6: Min-Conflicts"
   ]
  },
  {
   "cell_type": "markdown",
   "metadata": {},
   "source": [
    "Lucas Wilson\n",
    "\n",
    "Add more sections to present your code, results, and discussions.*"
   ]
  },
  {
   "cell_type": "markdown",
   "metadata": {},
   "source": [
    "# Code\n",
    "\n",
    "## Imports"
   ]
  },
  {
   "cell_type": "code",
   "execution_count": 1,
   "metadata": {},
   "outputs": [],
   "source": [
    "import random"
   ]
  },
  {
   "cell_type": "markdown",
   "metadata": {},
   "source": [
    "## Given Code"
   ]
  },
  {
   "cell_type": "code",
   "execution_count": 2,
   "metadata": {},
   "outputs": [],
   "source": [
    "def min_conflicts(vars, domains, constraints, neighbors, max_steps=1000): \n",
    "    \"\"\"Solve a CSP by stochastic hillclimbing on the number of conflicts.\"\"\"\n",
    "    # Generate a complete assignment for all vars (probably with conflicts)\n",
    "    current = {}\n",
    "    for var in vars:\n",
    "        val = min_conflicts_value(var, current, domains, constraints, neighbors)\n",
    "        current[var] = val\n",
    "    # Now repeatedly choose a random conflicted variable and change it\n",
    "    for i in range(max_steps):\n",
    "        conflicted = conflicted_vars(current,vars,constraints,neighbors)\n",
    "        if not conflicted:\n",
    "            return (current,i)\n",
    "        var = random.choice(conflicted)\n",
    "        val = min_conflicts_value(var, current, domains, constraints, neighbors)\n",
    "        current[var] = val\n",
    "    return (None,None)\n",
    "\n",
    "def min_conflicts_value(var, current, domains, constraints, neighbors):\n",
    "    \"\"\"Return the value that will give var the least number of conflicts.\n",
    "    If there is a tie, choose at random.\"\"\"\n",
    "    return argmin_random_tie(domains[var],\n",
    "                             lambda val: nconflicts(var, val, current, constraints, neighbors)) \n",
    "\n",
    "def conflicted_vars(current,vars,constraints,neighbors):\n",
    "    \"Return a list of variables in current assignment that are in conflict\"\n",
    "    return [var for var in vars\n",
    "            if nconflicts(var, current[var], current, constraints, neighbors) > 0]\n",
    "\n",
    "def nconflicts(var, val, assignment, constraints, neighbors):\n",
    "    \"Return the number of conflicts var=val has with other variables.\"\n",
    "    # Subclasses may implement this more efficiently\n",
    "    def conflict(var2):\n",
    "        val2 = assignment.get(var2, None)\n",
    "        return val2 != None and not constraints(var, val, var2, val2)\n",
    "    return len(list(filter(conflict, neighbors[var])))\n",
    "\n",
    "def argmin_random_tie(seq, fn):\n",
    "    \"\"\"Return an element with lowest fn(seq[i]) score; break ties at random.\n",
    "    Thus, for all s,f: argmin_random_tie(s, f) in argmin_list(s, f)\"\"\"\n",
    "    best_score = fn(seq[0]); n = 0\n",
    "    for x in seq:\n",
    "        x_score = fn(x)\n",
    "        if x_score < best_score:\n",
    "            best, best_score = x, x_score; n = 1\n",
    "        elif x_score == best_score:\n",
    "            n += 1\n",
    "            if random.randrange(n) == 0:\n",
    "                    best = x\n",
    "    return best"
   ]
  },
  {
   "cell_type": "markdown",
   "metadata": {},
   "source": [
    "## Required Functions\n",
    "\n",
    "See method bodies for explanations.\n",
    "\n",
    "### Schedule Function"
   ]
  },
  {
   "cell_type": "code",
   "execution_count": 3,
   "metadata": {},
   "outputs": [],
   "source": [
    "def schedule(classes, times, rooms, max_steps):\n",
    "    \"\"\"\n",
    "    Args:\n",
    "        - classes: list of all class names, like 'CS410'\n",
    "        - times: list of all start times, like '10 am' and ' 1 pm'\n",
    "        - rooms: list of all rooms, like 'CSB 325'\n",
    "        - max_steps: maximum number of assignments to try\n",
    "    \n",
    "    Returns:\n",
    "        - assignments: dictionary of values assigned to variables, like\n",
    "          {'CS410': ('CSB 425', '10 am'), ...}\n",
    "        - steps: actual number of assignments tested before solution found\n",
    "          assignments and steps will each be None if solution was not found.\n",
    "    \"\"\"\n",
    "    \n",
    "    # Variables:\n",
    "    # Each class in classes is a variable which we are trying to solve given\n",
    "    # contraints.\n",
    "    \n",
    "    # Domain:\n",
    "    # Each variable maps to a tuple of (room, time). No variable is unique in\n",
    "    # anyway, so the domain is the same for all. The domain is a combination of\n",
    "    # room and time. We build the domain as such:\n",
    "    domain = []\n",
    "    for room in rooms:\n",
    "        for time in times:\n",
    "            domain.append((room, time))\n",
    "    # Then build map for every variable to this domain.\n",
    "    domains = {var: domain for var in classes}\n",
    "\n",
    "    # Again, nothing special about any class, so the neighbors to check for \n",
    "    # constraints are just everyone else.\n",
    "    neighbors = {var: [v for v in classes if v != var] for var in classes}\n",
    "    \n",
    "    # Once we have defined the problem as above, we can use min_conflicts to\n",
    "    # solve it.\n",
    "    return min_conflicts(classes, domains, constraints_ok, neighbors, max_steps)"
   ]
  },
  {
   "cell_type": "markdown",
   "metadata": {},
   "source": [
    "### Constraints Function"
   ]
  },
  {
   "cell_type": "code",
   "execution_count": 4,
   "metadata": {},
   "outputs": [],
   "source": [
    "def constraints_ok(class_name_1, value_1, class_name_2, value_2):\n",
    "    \"\"\"\n",
    "    Args:\n",
    "        - class_name_1: as above, like 'CS410'\n",
    "        - value_1: tuple containing room and time.\n",
    "        - class_name_2: a second class name\n",
    "        - value_2: another tuple containing a room and time\n",
    "    \n",
    "    Returns:\n",
    "        - result: True of the assignment of value_1 to class_name 1 and value_2\n",
    "          to class_name 2 does not violate any constraints.  False otherwise.\n",
    "\n",
    "    Constraints:\n",
    "        - Two classes cannot meet in the same room at the same time.\n",
    "        - Classes with the same first digit cannot meet at the same time,\n",
    "          because students might take a subset of these in one semester. There\n",
    "          is one exception to this rule. CS163 and CS164 can meet at the same\n",
    "          time.\n",
    "    \"\"\"\n",
    "    # Renaming variables for easier reading.\n",
    "    c1, c2 = class_name_1, class_name_2\n",
    "    r1, t1 = value_1\n",
    "    r2, t2 = value_2\n",
    "    \n",
    "    # First, we check if its the same variable. This will never be true\n",
    "    # because we specified neighbors. It seems like the Queen code put it\n",
    "    # here, so I will too. It will filter a poor problem definition.\n",
    "    if c1==c2:\n",
    "        return False\n",
    "    \n",
    "    # Second, we check if the assignments are trying to use the same room at\n",
    "    # the same time\n",
    "    if r1==r2 and t1==t2: # constraint 1\n",
    "        return False # they are\n",
    "    \n",
    "    # Third, we check if they have the same hundred level class and are at the\n",
    "    # same time.\n",
    "    elif c1[2] == c2[2] and t1==t2: # constraint 2\n",
    "        # If they are, we need to see if they are the exception.\n",
    "        return (c1 == 'CS163' and c2=='CS164') or (c1 == 'CS164' and c2=='CS163')\n",
    "    \n",
    "    # Finally, it passed all the constraints, so return true.\n",
    "    else:\n",
    "        return True"
   ]
  },
  {
   "cell_type": "markdown",
   "metadata": {},
   "source": [
    "### Display Function"
   ]
  },
  {
   "cell_type": "code",
   "execution_count": 5,
   "metadata": {},
   "outputs": [],
   "source": [
    "def display(assignments, rooms, times):\n",
    "    \"\"\"\n",
    "    Args:\n",
    "        - assignments: returned from call to your schedule function\n",
    "        - rooms: list of all rooms as above\n",
    "        - times: list of all times as above pass\n",
    "    \"\"\"\n",
    "    # First, we check to see if there is anything to print. If not, no\n",
    "    # solution was found, and we print that.\n",
    "    if assignments == None:\n",
    "        print(\"No solution found!\")\n",
    "        return\n",
    "\n",
    "    # Prep:\n",
    "    # We need to print classes in a table: times by rooms. Printing moves\n",
    "    # vertical, so we need to have a dictionary for times -> rooms -> class.\n",
    "    # Then we can iterate times, print for each room the class. Assignments\n",
    "    # comes in the format of class -> (room, time), so I reshape that:\n",
    "    printMap = {} # times -> rooms -> classes\n",
    "    timeSpace = len(times[0])\n",
    "    for className in assignments:\n",
    "        room, time = assignments[className]\n",
    "        if time not in printMap:\n",
    "            printMap[time] = {}\n",
    "        printMap[time][room] = className\n",
    "    \n",
    "    # Print:\n",
    "    # Printing is pretty standard stuff. Print the header (the rooms). Then print each row\n",
    "    # Each row starts with the time, and then prints the classes.\n",
    "    timeSpace = len(times[-1])\n",
    "    print(' '*timeSpace, end='')\n",
    "    for room in rooms:\n",
    "        print('{:>9}'.format(room), end='')\n",
    "    print()\n",
    "    print('-'*(timeSpace+9*len(rooms)))\n",
    "    for time in times:\n",
    "        print(time, end='')\n",
    "        for room in rooms:\n",
    "            toPrint = printMap.get(time, {}).get(room, '')\n",
    "            print('{:>9}'.format(toPrint), end='')\n",
    "        print()"
   ]
  },
  {
   "cell_type": "markdown",
   "metadata": {},
   "source": [
    "## Results"
   ]
  },
  {
   "cell_type": "markdown",
   "metadata": {},
   "source": [
    "First, we need to define the classes, times, and rooms:"
   ]
  },
  {
   "cell_type": "code",
   "execution_count": 6,
   "metadata": {},
   "outputs": [],
   "source": [
    "classes = ['CS160', 'CS163', 'CS164',\n",
    "           'CS220', 'CS270', 'CS253',\n",
    "           'CS320', 'CS314', 'CS356', 'CS370',\n",
    "           'CS410', 'CS414', 'CS420', 'CS430', 'CS440', 'CS445', 'CS453', 'CS464',\n",
    "           'CS510', 'CS514', 'CS535', 'CS540', 'CS545']\n",
    "\n",
    "times = [' 9 am',\n",
    "         '10 am',\n",
    "         '11 am',\n",
    "         '12 pm',\n",
    "         ' 1 pm',\n",
    "         ' 2 pm',\n",
    "         ' 3 pm',\n",
    "         ' 4 pm']\n",
    "\n",
    "rooms = ['CSB 130', 'CSB 325', 'CSB 425']"
   ]
  },
  {
   "cell_type": "markdown",
   "metadata": {},
   "source": [
    "Here is an example of solving the problem:"
   ]
  },
  {
   "cell_type": "code",
   "execution_count": 7,
   "metadata": {},
   "outputs": [
    {
     "name": "stdout",
     "output_type": "stream",
     "text": [
      "Took 0 steps\n",
      "{'CS160': ('CSB 425', ' 2 pm'), 'CS163': ('CSB 325', ' 9 am'), 'CS164': ('CSB 130', '11 am'), 'CS220': ('CSB 425', ' 3 pm'), 'CS270': ('CSB 425', '10 am'), 'CS253': ('CSB 130', ' 4 pm'), 'CS320': ('CSB 325', '12 pm'), 'CS314': ('CSB 325', ' 3 pm'), 'CS356': ('CSB 425', ' 1 pm'), 'CS370': ('CSB 425', ' 4 pm'), 'CS410': ('CSB 325', '10 am'), 'CS414': ('CSB 425', ' 9 am'), 'CS420': ('CSB 425', '11 am'), 'CS430': ('CSB 130', ' 2 pm'), 'CS440': ('CSB 325', ' 1 pm'), 'CS445': ('CSB 130', '12 pm'), 'CS453': ('CSB 130', ' 3 pm'), 'CS464': ('CSB 325', ' 4 pm'), 'CS510': ('CSB 325', ' 2 pm'), 'CS514': ('CSB 130', ' 1 pm'), 'CS535': ('CSB 130', ' 9 am'), 'CS540': ('CSB 425', '12 pm'), 'CS545': ('CSB 325', '11 am')}\n"
     ]
    }
   ],
   "source": [
    "max_steps = 100\n",
    "assignments, steps = schedule(classes, times, rooms, max_steps)\n",
    "print('Took', steps, 'steps')\n",
    "print(assignments)"
   ]
  },
  {
   "cell_type": "markdown",
   "metadata": {},
   "source": [
    "Here is a more readable interpretation:"
   ]
  },
  {
   "cell_type": "code",
   "execution_count": 8,
   "metadata": {},
   "outputs": [
    {
     "name": "stdout",
     "output_type": "stream",
     "text": [
      "       CSB 130  CSB 325  CSB 425\n",
      "--------------------------------\n",
      " 9 am    CS535    CS163    CS414\n",
      "10 am             CS410    CS270\n",
      "11 am    CS164    CS545    CS420\n",
      "12 pm    CS445    CS320    CS540\n",
      " 1 pm    CS514    CS440    CS356\n",
      " 2 pm    CS430    CS510    CS160\n",
      " 3 pm    CS453    CS314    CS220\n",
      " 4 pm    CS253    CS464    CS370\n"
     ]
    }
   ],
   "source": [
    "display(assignments, rooms, times)"
   ]
  },
  {
   "cell_type": "markdown",
   "metadata": {},
   "source": [
    "Here is the algorithm being run 8 times."
   ]
  },
  {
   "cell_type": "code",
   "execution_count": 9,
   "metadata": {
    "scrolled": true
   },
   "outputs": [
    {
     "name": "stdout",
     "output_type": "stream",
     "text": [
      "Took 0 steps\n",
      "       CSB 130  CSB 325  CSB 425\n",
      "--------------------------------\n",
      " 9 am             CS220    CS440\n",
      "10 am    CS464    CS163    CS535\n",
      "11 am    CS445    CS270    CS545\n",
      "12 pm    CS510    CS370    CS410\n",
      " 1 pm    CS430    CS164    CS314\n",
      " 2 pm    CS420    CS160    CS356\n",
      " 3 pm    CS453    CS320    CS514\n",
      " 4 pm    CS253    CS414    CS540\n",
      "**************************************************\n",
      "Took 3 steps\n",
      "       CSB 130  CSB 325  CSB 425\n",
      "--------------------------------\n",
      " 9 am    CS370    CS540    CS445\n",
      "10 am    CS320    CS453    CS220\n",
      "11 am    CS164    CS464    CS510\n",
      "12 pm    CS270    CS535    CS414\n",
      " 1 pm    CS163    CS545    CS440\n",
      " 2 pm    CS160    CS430         \n",
      " 3 pm    CS356    CS253    CS410\n",
      " 4 pm    CS420    CS514    CS314\n",
      "**************************************************\n",
      "Took 0 steps\n",
      "       CSB 130  CSB 325  CSB 425\n",
      "--------------------------------\n",
      " 9 am    CS440    CS160    CS535\n",
      "10 am             CS163    CS464\n",
      "11 am    CS514    CS320    CS430\n",
      "12 pm    CS370    CS410    CS164\n",
      " 1 pm    CS220    CS420    CS356\n",
      " 2 pm    CS445    CS510    CS253\n",
      " 3 pm    CS314    CS540    CS453\n",
      " 4 pm    CS414    CS270    CS545\n",
      "**************************************************\n",
      "Took 1 steps\n",
      "       CSB 130  CSB 325  CSB 425\n",
      "--------------------------------\n",
      " 9 am    CS445    CS160    CS545\n",
      "10 am    CS356    CS430    CS253\n",
      "11 am    CS464    CS320    CS163\n",
      "12 pm    CS420    CS535         \n",
      " 1 pm    CS164    CS440    CS314\n",
      " 2 pm    CS270    CS540    CS453\n",
      " 3 pm    CS370    CS410    CS510\n",
      " 4 pm    CS514    CS220    CS414\n",
      "**************************************************\n",
      "Took 0 steps\n",
      "       CSB 130  CSB 325  CSB 425\n",
      "--------------------------------\n",
      " 9 am    CS410    CS370    CS540\n",
      "10 am    CS464    CS356    CS514\n",
      "11 am    CS164    CS220    CS453\n",
      "12 pm    CS414    CS163    CS545\n",
      " 1 pm    CS160             CS430\n",
      " 2 pm    CS420    CS510    CS270\n",
      " 3 pm    CS320    CS440    CS535\n",
      " 4 pm    CS314    CS253    CS445\n",
      "**************************************************\n",
      "Took 3 steps\n",
      "       CSB 130  CSB 325  CSB 425\n",
      "--------------------------------\n",
      " 9 am    CS356    CS163    CS410\n",
      "10 am    CS370    CS510    CS440\n",
      "11 am    CS160    CS430    CS270\n",
      "12 pm    CS514    CS253    CS464\n",
      " 1 pm             CS420    CS545\n",
      " 2 pm    CS220    CS414    CS540\n",
      " 3 pm    CS314    CS445    CS535\n",
      " 4 pm    CS320    CS453    CS164\n",
      "**************************************************\n",
      "Took 0 steps\n",
      "       CSB 130  CSB 325  CSB 425\n",
      "--------------------------------\n",
      " 9 am    CS270    CS510    CS420\n",
      "10 am    CS370    CS535    CS414\n",
      "11 am    CS164    CS540    CS430\n",
      "12 pm    CS314    CS163    CS464\n",
      " 1 pm    CS356    CS220    CS453\n",
      " 2 pm    CS410    CS320    CS545\n",
      " 3 pm    CS253    CS445    CS514\n",
      " 4 pm             CS160    CS440\n",
      "**************************************************\n",
      "Took 6 steps\n",
      "       CSB 130  CSB 325  CSB 425\n",
      "--------------------------------\n",
      " 9 am    CS440    CS314    CS540\n",
      "10 am    CS356    CS164    CS453\n",
      "11 am    CS464    CS163    CS510\n",
      "12 pm    CS320    CS270    CS410\n",
      " 1 pm    CS420    CS545    CS220\n",
      " 2 pm    CS445             CS535\n",
      " 3 pm    CS370    CS514    CS430\n",
      " 4 pm    CS253    CS414    CS160\n",
      "**************************************************\n"
     ]
    }
   ],
   "source": [
    "for _ in range(8):\n",
    "    max_steps = 100\n",
    "    assignments, steps = schedule(classes, times, rooms, max_steps)\n",
    "    print('Took', steps, 'steps')\n",
    "    display(assignments, rooms, times)\n",
    "    print(\"*\"*50)"
   ]
  },
  {
   "cell_type": "markdown",
   "metadata": {},
   "source": [
    "## Discussion\n",
    "\n",
    "It solves this problem really fast. Most of the time, it seems to get it on the first try. Also, it doesn't take any time to run since it hardly has to iterate. \n",
    "\n",
    "Looking at the 8 generated solutions, we can see that the solutions satisfy the constraints. In the following example, it even includes the CS163/CS164 being at the same time exception.\n",
    "\n",
    "    Took 0 steps\n",
    "           CSB 130  CSB 325  CSB 425\n",
    "    --------------------------------\n",
    "     9 am    CS545    CS314    CS430\n",
    "    10 am    CS464    CS370    CS160\n",
    "    11 am    CS420    CS514         \n",
    "    12 pm    CS510    CS440    CS253\n",
    "     1 pm    CS270    CS453    CS356\n",
    "     2 pm    CS445    CS535    CS220\n",
    "     3 pm    CS163    CS164    CS410\n",
    "     4 pm    CS414    CS540    CS320\n",
    "\n",
    "Also, we can see from the 8 generated solutions that the solutions are usually different. There are quite a few that it can find. This is possibly why it returns values so quickly."
   ]
  },
  {
   "cell_type": "markdown",
   "metadata": {},
   "source": [
    "## Grading\n",
    "\n",
    "Download [A6grader.tar](http://www.cs.colostate.edu/~anderson/cs440/notebooks/A6grader.tar) and extract `A6grader.py` from it.  Grader will be available soon."
   ]
  },
  {
   "cell_type": "code",
   "execution_count": 10,
   "metadata": {
    "scrolled": true
   },
   "outputs": [
    {
     "name": "stderr",
     "output_type": "stream",
     "text": [
      "ERROR:root:File `'A6grader.py'` not found.\n"
     ]
    }
   ],
   "source": [
    "%run -i A6grader.py"
   ]
  },
  {
   "cell_type": "markdown",
   "metadata": {},
   "source": [
    "# Extra Credit"
   ]
  },
  {
   "cell_type": "code",
   "execution_count": 11,
   "metadata": {},
   "outputs": [],
   "source": [
    "def preferenceViolations(c, v):\n",
    "    \"\"\"\n",
    "    This method counts the number of preferences that are violated. This\n",
    "    might have hte issue of preferences not being weighted properly, but \n",
    "    that's an easy fix and ok. I don't care, so I'll ignore it.\n",
    "    Especially since the preferences are mutually exclusive (meaning this\n",
    "    method will never return more than 1).\n",
    "    \n",
    "    Preferences:\n",
    "        - prefer schedules that do not schedule classes at 9 am, 12 pm or 4 pm.\n",
    "        - prefer schedules with CS163 and CS164 meeting at 1 pm or 2 pm.\n",
    "    \"\"\"\n",
    "    violations=0\n",
    "    r,t = v\n",
    "    if t==' 9 am' or t=='12 pm' or t==' 4 pm': # preference 1\n",
    "        violations += 1\n",
    "    if c=='CS163' or c=='CS164': # preference 2 applies\n",
    "        if t!=' 1 pm' and t!=' 2 pm': # preference 2\n",
    "            violations += 1\n",
    "    return violations\n",
    "\n",
    "def countConflict(assignments):\n",
    "    \"\"\"\n",
    "    This will iterate over every pair of assignments and check for a\n",
    "    preference violation. It counts and returns how many there are.\n",
    "    Also, note that it will double count every pair, so really, it's\n",
    "    double the number of violations, but we only care about the\n",
    "    magnitude, so that's not an issue. Plus, the number value\n",
    "    is arbuitrary anyways.\n",
    "    \"\"\"\n",
    "    count=0\n",
    "    for c in assignments:\n",
    "        count += preferenceViolations(c, assignments[c])\n",
    "    return count\n",
    "\n",
    "def getBestAssignments(classes, times, rooms, max_steps, tries=100, getCount=False):\n",
    "    \"\"\"\n",
    "    This function is meant to have the same signature as schedule. For\n",
    "    `tries` tries, it will generate a solution. It will evaluate how many\n",
    "    assignments violate a preference. It counts them. It values the best\n",
    "    configuration as the one with the smallest number of preference\n",
    "    violations.\n",
    "    \"\"\"\n",
    "    bestAssignments = None\n",
    "    for _ in range(tries):\n",
    "        assignments, steps = schedule(classes, times, rooms, max_steps)\n",
    "        count = countConflict(assignments)\n",
    "        if bestAssignments is None or bestCount > count:\n",
    "            bestCount = count\n",
    "            bestAssignments = assignments\n",
    "            bestSteps = steps\n",
    "    if getCount:\n",
    "        return bestAssignments, bestSteps, count\n",
    "    else:\n",
    "        return bestAssignments, bestSteps"
   ]
  },
  {
   "cell_type": "code",
   "execution_count": 12,
   "metadata": {},
   "outputs": [],
   "source": [
    "classes = ['CS160', 'CS163', 'CS164',\n",
    "           'CS220', 'CS270', 'CS253',\n",
    "           'CS320', 'CS314', 'CS356', 'CS370',\n",
    "           'CS410', 'CS414', 'CS420', 'CS430', 'CS440', 'CS445', 'CS453', 'CS464',\n",
    "           'CS510', 'CS514', 'CS535', 'CS540', 'CS545']\n",
    "\n",
    "times = [' 9 am',\n",
    "         '10 am',\n",
    "         '11 am',\n",
    "         '12 pm',\n",
    "         ' 1 pm',\n",
    "         ' 2 pm',\n",
    "         ' 3 pm',\n",
    "         ' 4 pm']\n",
    "\n",
    "rooms = ['CSB 130', 'CSB 325', 'CSB 425']"
   ]
  },
  {
   "cell_type": "code",
   "execution_count": 13,
   "metadata": {},
   "outputs": [
    {
     "name": "stdout",
     "output_type": "stream",
     "text": [
      "**************************************************\n",
      "Took 0 steps\n",
      "Preference count: 10\n",
      "       CSB 130  CSB 325  CSB 425\n",
      "--------------------------------\n",
      " 9 am             CS510    CS420\n",
      "10 am    CS545    CS410    CS253\n",
      "11 am    CS464    CS320    CS220\n",
      "12 pm    CS445    CS356    CS514\n",
      " 1 pm    CS414    CS164    CS163\n",
      " 2 pm    CS270    CS453    CS314\n",
      " 3 pm    CS535    CS430    CS370\n",
      " 4 pm    CS440    CS160    CS540\n"
     ]
    }
   ],
   "source": [
    "max_steps = 100\n",
    "assignments, steps, count = getBestAssignments(classes, times, rooms, max_steps, getCount=True)\n",
    "print(\"*\"*50)\n",
    "print('Took', steps, 'steps')\n",
    "print('Preference count:', count)\n",
    "display(assignments, rooms, times)"
   ]
  },
  {
   "cell_type": "code",
   "execution_count": 14,
   "metadata": {
    "scrolled": true
   },
   "outputs": [
    {
     "name": "stdout",
     "output_type": "stream",
     "text": [
      "**************************************************\n",
      "Took 0 steps\n",
      "Preference count: 10\n",
      "       CSB 130  CSB 325  CSB 425\n",
      "--------------------------------\n",
      " 9 am    CS464    CS545    CS356\n",
      "10 am    CS160    CS535    CS414\n",
      "11 am    CS540    CS440    CS314\n",
      "12 pm    CS510    CS420         \n",
      " 1 pm    CS163    CS410    CS253\n",
      " 2 pm    CS430    CS164    CS220\n",
      " 3 pm    CS445    CS320    CS270\n",
      " 4 pm    CS370    CS453    CS514\n",
      "**************************************************\n",
      "Took 0 steps\n",
      "Preference count: 10\n",
      "       CSB 130  CSB 325  CSB 425\n",
      "--------------------------------\n",
      " 9 am             CS514    CS430\n",
      "10 am    CS370    CS420    CS253\n",
      "11 am    CS270    CS160    CS464\n",
      "12 pm    CS314    CS410    CS545\n",
      " 1 pm    CS510    CS163    CS445\n",
      " 2 pm    CS440    CS220    CS164\n",
      " 3 pm    CS320    CS414    CS540\n",
      " 4 pm    CS453    CS356    CS535\n",
      "**************************************************\n",
      "Took 0 steps\n",
      "Preference count: 11\n",
      "       CSB 130  CSB 325  CSB 425\n",
      "--------------------------------\n",
      " 9 am    CS440             CS535\n",
      "10 am    CS356    CS540    CS430\n",
      "11 am    CS514    CS253    CS445\n",
      "12 pm    CS410    CS160    CS510\n",
      " 1 pm    CS314    CS453    CS164\n",
      " 2 pm    CS464    CS220    CS163\n",
      " 3 pm    CS414    CS545    CS320\n",
      " 4 pm    CS370    CS270    CS420\n",
      "**************************************************\n",
      "Took 9 steps\n",
      "Preference count: 9\n",
      "       CSB 130  CSB 325  CSB 425\n",
      "--------------------------------\n",
      " 9 am    CS545             CS430\n",
      "10 am    CS314    CS514    CS453\n",
      "11 am    CS445    CS540    CS270\n",
      "12 pm    CS414    CS370    CS510\n",
      " 1 pm    CS440    CS535    CS164\n",
      " 2 pm    CS163    CS320    CS420\n",
      " 3 pm    CS253    CS160    CS410\n",
      " 4 pm    CS464    CS220    CS356\n",
      "**************************************************\n",
      "Took 0 steps\n",
      "Preference count: 11\n",
      "       CSB 130  CSB 325  CSB 425\n",
      "--------------------------------\n",
      " 9 am    CS420    CS535         \n",
      "10 am    CS464    CS270    CS370\n",
      "11 am    CS514    CS410    CS253\n",
      "12 pm    CS510    CS160    CS414\n",
      " 1 pm    CS445    CS163    CS164\n",
      " 2 pm    CS320    CS430    CS540\n",
      " 3 pm    CS220    CS314    CS440\n",
      " 4 pm    CS545    CS453    CS356\n",
      "**************************************************\n",
      "Took 4 steps\n",
      "Preference count: 11\n",
      "       CSB 130  CSB 325  CSB 425\n",
      "--------------------------------\n",
      " 9 am    CS220    CS314    CS453\n",
      "10 am    CS410    CS540    CS253\n",
      "11 am    CS430    CS370    CS545\n",
      "12 pm    CS270    CS160    CS445\n",
      " 1 pm    CS163    CS320    CS420\n",
      " 2 pm    CS514    CS464    CS164\n",
      " 3 pm    CS356    CS414    CS535\n",
      " 4 pm    CS510             CS440\n",
      "**************************************************\n",
      "Took 0 steps\n",
      "Preference count: 11\n",
      "       CSB 130  CSB 325  CSB 425\n",
      "--------------------------------\n",
      " 9 am             CS514    CS430\n",
      "10 am    CS270    CS160    CS464\n",
      "11 am    CS420    CS314    CS540\n",
      "12 pm    CS414    CS545    CS356\n",
      " 1 pm    CS163    CS445    CS535\n",
      " 2 pm    CS410    CS164    CS370\n",
      " 3 pm    CS510    CS440    CS253\n",
      " 4 pm    CS453    CS220    CS320\n",
      "**************************************************\n",
      "Took 10 steps\n",
      "Preference count: 11\n",
      "       CSB 130  CSB 325  CSB 425\n",
      "--------------------------------\n",
      " 9 am    CS410    CS320    CS510\n",
      "10 am             CS545    CS420\n",
      "11 am    CS430    CS253    CS370\n",
      "12 pm    CS514    CS160    CS440\n",
      " 1 pm    CS414    CS163    CS220\n",
      " 2 pm    CS314    CS164    CS453\n",
      " 3 pm    CS270    CS535    CS445\n",
      " 4 pm    CS356    CS540    CS464\n"
     ]
    }
   ],
   "source": [
    "for _ in range(8):\n",
    "    max_steps = 100\n",
    "    assignments, steps, count = getBestAssignments(classes, times, rooms, max_steps, getCount=True)\n",
    "    print(\"*\"*50)\n",
    "    print('Took', steps, 'steps')\n",
    "    print('Preference count:', count)\n",
    "    display(assignments, rooms, times)"
   ]
  },
  {
   "cell_type": "markdown",
   "metadata": {},
   "source": [
    "This is the same analysis as before, except now we can see that the algorithm favors our preferences (despite violating them). The gap always shows up at 9, 12 or 4. CS 163/4 always shows up at 1 or 2 pm. It's clear that the preferences are generally being met.\n",
    "\n",
    "The algorithm reports 11 preference violations. These violations are forced since there isn't enough room (8 classes during 9, 12, and 4). However, if we remove 11 classes, then we can expect the algorithm to find the solution meeting the preferences completely."
   ]
  },
  {
   "cell_type": "code",
   "execution_count": 15,
   "metadata": {},
   "outputs": [],
   "source": [
    "classes = ['CS160', 'CS163', # removed 1\n",
    "           'CS220', 'CS270', # removed 1\n",
    "           'CS320', 'CS314', # removed 2\n",
    "           'CS410', 'CS414', 'CS420', # removed 5\n",
    "           'CS510', 'CS514', 'CS535', # removed 2\n",
    "          ] # removed 11 total\n",
    "\n",
    "times = [' 9 am',\n",
    "         '10 am',\n",
    "         '11 am',\n",
    "         '12 pm',\n",
    "         ' 1 pm',\n",
    "         ' 2 pm',\n",
    "         ' 3 pm',\n",
    "         ' 4 pm']\n",
    "\n",
    "rooms = ['CSB 130', 'CSB 325', 'CSB 425']"
   ]
  },
  {
   "cell_type": "code",
   "execution_count": 16,
   "metadata": {
    "scrolled": true
   },
   "outputs": [
    {
     "name": "stdout",
     "output_type": "stream",
     "text": [
      "**************************************************\n",
      "Took 0 steps\n",
      "Preference count: 6\n",
      "       CSB 130  CSB 325  CSB 425\n",
      "--------------------------------\n",
      " 9 am                           \n",
      "10 am    CS160    CS535         \n",
      "11 am    CS270             CS314\n",
      "12 pm    CS420             CS514\n",
      " 1 pm    CS320             CS163\n",
      " 2 pm    CS410                  \n",
      " 3 pm    CS510    CS414    CS220\n",
      " 4 pm                           \n"
     ]
    }
   ],
   "source": [
    "max_steps = 100\n",
    "assignments, steps, count = getBestAssignments(classes, times, rooms, max_steps, getCount=True)\n",
    "print(\"*\"*50)\n",
    "print('Took', steps, 'steps')\n",
    "print('Preference count:', count)\n",
    "display(assignments, rooms, times)"
   ]
  },
  {
   "cell_type": "markdown",
   "metadata": {},
   "source": [
    "Preferences are kind of being met, but the issue with the algorithm is being highlighted. Since it essentially randomly generates solutions until the constraints are met, it doesn't necessarily find the best solution, as defined by our preferences. This is why it finds a solution, but can't eliminate our preferences. It's essentially trying to guess the solution. (a terrible search method).\n",
    "\n",
    "Maybe it needs to iterate more?"
   ]
  },
  {
   "cell_type": "code",
   "execution_count": 17,
   "metadata": {},
   "outputs": [
    {
     "name": "stdout",
     "output_type": "stream",
     "text": [
      "**************************************************\n",
      "Took 0 steps\n",
      "Preference count: 5\n",
      "       CSB 130  CSB 325  CSB 425\n",
      "--------------------------------\n",
      " 9 am                           \n",
      "10 am             CS270    CS535\n",
      "11 am    CS160    CS320    CS514\n",
      "12 pm                           \n",
      " 1 pm    CS314             CS420\n",
      " 2 pm    CS163    CS220         \n",
      " 3 pm    CS510             CS410\n",
      " 4 pm             CS414         \n"
     ]
    }
   ],
   "source": [
    "tries = 10000\n",
    "assignments, steps, count = getBestAssignments(classes, times, rooms, max_steps, tries=tries, getCount=True)\n",
    "print(\"*\"*50)\n",
    "print('Took', steps, 'steps')\n",
    "print('Preference count:', count)\n",
    "display(assignments, rooms, times)"
   ]
  },
  {
   "cell_type": "markdown",
   "metadata": {},
   "source": [
    "Nope.\n",
    "\n",
    "Let's redefine the problem to make the preferences part of the constraints. Without modifying algorithms, the easiest way to do this is to eliminate time 9, 12 and 4 time options. Finally, we apply the preferences, and the second preferences will likely be met because it is easy."
   ]
  },
  {
   "cell_type": "code",
   "execution_count": 18,
   "metadata": {},
   "outputs": [
    {
     "name": "stdout",
     "output_type": "stream",
     "text": [
      "**************************************************\n",
      "Took 0 steps\n",
      "Preference count: 0\n",
      "       CSB 130  CSB 325  CSB 425\n",
      "--------------------------------\n",
      "10 am    CS414    CS535    CS220\n",
      "11 am                      CS510\n",
      " 1 pm    CS420    CS163    CS314\n",
      " 2 pm    CS410    CS160    CS270\n",
      " 3 pm    CS514    CS320         \n"
     ]
    }
   ],
   "source": [
    "times = ['10 am',\n",
    "         '11 am',\n",
    "         ' 1 pm',\n",
    "         ' 2 pm',\n",
    "         ' 3 pm']\n",
    "tries = 10000\n",
    "assignments, steps, count = getBestAssignments(classes, times, rooms, max_steps, tries=tries, getCount=True)\n",
    "print(\"*\"*50)\n",
    "print('Took', steps, 'steps')\n",
    "print('Preference count:', count)\n",
    "display(assignments, rooms, times)"
   ]
  },
  {
   "cell_type": "markdown",
   "metadata": {},
   "source": [
    "This is consistent with my argument: The ideal solution is a preference violation of 0, but my algorithm above couldn't find this. Randomly generating solutions is a terrible way of optimization."
   ]
  }
 ],
 "metadata": {
  "anaconda-cloud": {},
  "kernelspec": {
   "display_name": "Python 3",
   "language": "python",
   "name": "python3"
  },
  "language_info": {
   "codemirror_mode": {
    "name": "ipython",
    "version": 3
   },
   "file_extension": ".py",
   "mimetype": "text/x-python",
   "name": "python",
   "nbconvert_exporter": "python",
   "pygments_lexer": "ipython3",
   "version": "3.7.0"
  },
  "toc": {
   "nav_menu": {},
   "number_sections": true,
   "sideBar": true,
   "skip_h1_title": false,
   "toc_cell": false,
   "toc_position": {},
   "toc_section_display": "block",
   "toc_window_display": false
  }
 },
 "nbformat": 4,
 "nbformat_minor": 1
}
