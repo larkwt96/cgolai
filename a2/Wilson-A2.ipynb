{
 "cells": [
  {
   "cell_type": "markdown",
   "metadata": {},
   "source": [
    "# Assignment 2: Iterative-Deepening Search"
   ]
  },
  {
   "cell_type": "markdown",
   "metadata": {},
   "source": [
    "Lucas Wilson"
   ]
  },
  {
   "cell_type": "markdown",
   "metadata": {},
   "source": [
    "# Code Functions"
   ]
  },
  {
   "cell_type": "code",
   "execution_count": 1,
   "metadata": {},
   "outputs": [],
   "source": [
    "def depthLimitedSearch(state, goalState, actionsF, takeActionF,\n",
    "        depthLimit):\n",
    "    \"\"\" Explained below \"\"\"\n",
    "    \n",
    "    \"\"\" base cases \"\"\"\n",
    "    if state == goalState:\n",
    "        return []\n",
    "    if depthLimit == 0:\n",
    "        return 'cutoff'\n",
    "    \n",
    "    \"\"\" exploration \"\"\"\n",
    "    cutoffOccurred = False\n",
    "    for action in actionsF(state):\n",
    "        \"\"\" explore each child node \"\"\"\n",
    "        childState = takeActionF(state, action)\n",
    "        result = depthLimitedSearch(childState, goalState, actionsF,\n",
    "                takeActionF, depthLimit-1)\n",
    "        \n",
    "        \"\"\" handle post exploration \"\"\"\n",
    "        if result == 'cutoff': # depth limit reached\n",
    "            cutoffOccurred = True\n",
    "        elif result != 'failure':\n",
    "            return [childState] + result\n",
    "    \n",
    "    \"\"\" full tree traversal \"\"\"\n",
    "    if cutoffOccurred:\n",
    "        return 'cutoff'\n",
    "    else:\n",
    "        return 'failure'"
   ]
  },
  {
   "cell_type": "code",
   "execution_count": 2,
   "metadata": {},
   "outputs": [],
   "source": [
    "def iterativeDeepeningSearch(startState, goalState, actionsF, takeActionF,\n",
    "        maxDepth):\n",
    "    \"\"\" Explained below \"\"\"\n",
    "    \n",
    "    for depth in range(maxDepth):\n",
    "        results = depthLimitedSearch(startState, goalState, actionsF,\n",
    "                takeActionF, depth)\n",
    "        if results == 'failure':\n",
    "            return 'failure'\n",
    "        elif results != 'cutoff':\n",
    "            return [startState] + results\n",
    "    return 'cutoff'"
   ]
  },
  {
   "cell_type": "code",
   "execution_count": 3,
   "metadata": {},
   "outputs": [],
   "source": [
    "def findBlank_8p(state):\n",
    "    \"\"\"return the row and column index for the location of the\n",
    "    blank (the 0 value)\n",
    "    \"\"\"\n",
    "    index = state.index(0)\n",
    "    return index//3, index%3"
   ]
  },
  {
   "cell_type": "code",
   "execution_count": 4,
   "metadata": {},
   "outputs": [],
   "source": [
    "def actionsF_8p(state):\n",
    "    \"\"\"returns a list of up to four valid actions that can be\n",
    "    applied in state. Return them in the order left, right, up, \n",
    "    down, though only if each one is a valid action.\n",
    "    \"\"\"\n",
    "    ret_value = []\n",
    "    r, c = findBlank_8p(state)\n",
    "    if c != 0:\n",
    "        ret_value.append(\"left\")\n",
    "    if c != 2:\n",
    "        ret_value.append(\"right\")\n",
    "    if r != 0:\n",
    "        ret_value.append(\"up\")\n",
    "    if r != 2:\n",
    "        ret_value.append(\"down\")\n",
    "    return ret_value"
   ]
  },
  {
   "cell_type": "code",
   "execution_count": 5,
   "metadata": {},
   "outputs": [],
   "source": [
    "def takeActionF_8p(state, action):\n",
    "    \"\"\"Return the state that results from applying action in state.\"\"\"\n",
    "    newState = state.copy()\n",
    "    r, c = findBlank_8p(newState)\n",
    "    zero_index = r*3 + c\n",
    "    swap_index = zero_index\n",
    "    if action == \"left\":\n",
    "        swap_index -= 1\n",
    "    elif action == \"right\":\n",
    "        swap_index += 1\n",
    "    elif action == \"up\":\n",
    "        swap_index -= 3\n",
    "    elif action == \"down\":\n",
    "        swap_index += 3\n",
    "    newState[zero_index] = newState[swap_index]\n",
    "    newState[swap_index] = 0\n",
    "    return newState"
   ]
  },
  {
   "cell_type": "code",
   "execution_count": 6,
   "metadata": {},
   "outputs": [],
   "source": [
    "def printState_8p(state):\n",
    "    pState = '{} {} {}\\n{} {} {}\\n{} {} {}'.format(*state).replace('0', '-')\n",
    "    print(pState)"
   ]
  },
  {
   "cell_type": "code",
   "execution_count": 7,
   "metadata": {},
   "outputs": [],
   "source": [
    "def printPath_8p(startState, goalState, path):\n",
    "    \"\"\"Print a solution path in a readable form. startState can be\n",
    "    included in path, it is only printed once\"\"\"\n",
    "    print(\"Path from\")\n",
    "    print()\n",
    "    printState_8p(startState)\n",
    "    print()\n",
    "    print(\"to\")\n",
    "    print()\n",
    "    printState_8p(goalState)\n",
    "    print()\n",
    "    if path == 'cutoff':\n",
    "        print(\"couldn't be found (cutoff)\")\n",
    "        return\n",
    "    elif path == 'failure':\n",
    "        print(\"doesn't exist (failure)\")\n",
    "        return\n",
    "    print(\"takes {} actions.\".format(len(path)))\n",
    "    print()\n",
    "    print(\"~~~ path ~~~\")\n",
    "    print()\n",
    "    printState_8p(startState)\n",
    "    if path and startState == path[0]:\n",
    "        newPath = path[1:]\n",
    "    else:\n",
    "        newPath = path\n",
    "    for state in newPath:\n",
    "        print()\n",
    "        printState_8p(state)"
   ]
  },
  {
   "cell_type": "markdown",
   "metadata": {},
   "source": [
    "## The 8-puzzle functions"
   ]
  },
  {
   "cell_type": "markdown",
   "metadata": {},
   "source": [
    "States look like this:"
   ]
  },
  {
   "cell_type": "code",
   "execution_count": 8,
   "metadata": {
    "scrolled": true
   },
   "outputs": [
    {
     "name": "stdout",
     "output_type": "stream",
     "text": [
      "- 1 2\n",
      "3 4 5\n",
      "6 7 8\n"
     ]
    }
   ],
   "source": [
    "startState = [0, 1, 2, 3, 4, 5, 6, 7, 8]\n",
    "printState_8p(startState)"
   ]
  },
  {
   "cell_type": "markdown",
   "metadata": {},
   "source": [
    "The blank tile is at these coordinates:"
   ]
  },
  {
   "cell_type": "code",
   "execution_count": 9,
   "metadata": {},
   "outputs": [
    {
     "data": {
      "text/plain": [
       "(0, 0)"
      ]
     },
     "execution_count": 9,
     "metadata": {},
     "output_type": "execute_result"
    }
   ],
   "source": [
    "findBlank_8p(startState)"
   ]
  },
  {
   "cell_type": "markdown",
   "metadata": {},
   "source": [
    "Actions look like this:"
   ]
  },
  {
   "cell_type": "code",
   "execution_count": 10,
   "metadata": {},
   "outputs": [
    {
     "data": {
      "text/plain": [
       "['right', 'down']"
      ]
     },
     "execution_count": 10,
     "metadata": {},
     "output_type": "execute_result"
    }
   ],
   "source": [
    "actionsF = actionsF_8p(startState)\n",
    "actionsF"
   ]
  },
  {
   "cell_type": "markdown",
   "metadata": {},
   "source": [
    "Moving 'right' looks like this:"
   ]
  },
  {
   "cell_type": "code",
   "execution_count": 11,
   "metadata": {},
   "outputs": [
    {
     "name": "stdout",
     "output_type": "stream",
     "text": [
      "1 - 2\n",
      "3 4 5\n",
      "6 7 8\n"
     ]
    }
   ],
   "source": [
    "printState_8p(takeActionF_8p(startState, 'right'))"
   ]
  },
  {
   "cell_type": "markdown",
   "metadata": {},
   "source": [
    "Solution paths look like this:"
   ]
  },
  {
   "cell_type": "code",
   "execution_count": 12,
   "metadata": {},
   "outputs": [
    {
     "name": "stdout",
     "output_type": "stream",
     "text": [
      "Path from\n",
      "\n",
      "- 1 2\n",
      "3 4 5\n",
      "6 7 8\n",
      "\n",
      "to\n",
      "\n",
      "1 2 5\n",
      "3 4 -\n",
      "6 7 8\n",
      "\n",
      "takes 4 actions.\n",
      "\n",
      "~~~ path ~~~\n",
      "\n",
      "- 1 2\n",
      "3 4 5\n",
      "6 7 8\n",
      "\n",
      "1 - 2\n",
      "3 4 5\n",
      "6 7 8\n",
      "\n",
      "1 2 -\n",
      "3 4 5\n",
      "6 7 8\n",
      "\n",
      "1 2 5\n",
      "3 4 -\n",
      "6 7 8\n"
     ]
    }
   ],
   "source": [
    "goalState = startState\n",
    "goalState = takeActionF_8p(goalState, 'right')\n",
    "goalState = takeActionF_8p(goalState, 'right')\n",
    "goalState = takeActionF_8p(goalState, 'down')\n",
    "path = iterativeDeepeningSearch(startState, goalState, actionsF_8p, takeActionF_8p, 5)\n",
    "printPath_8p(startState, goalState, path)"
   ]
  },
  {
   "cell_type": "markdown",
   "metadata": {},
   "source": [
    "## `depthLimitedSearch`\n",
    "\n",
    "A depth-first search explores the descendants of the child nodes as they are discovered. Siblings of the initial child node are explored after every child node of the initial child node has been explored. Recursively, this is true of every set of siblings in a depth-first search.\n",
    "\n",
    "This can have some issues:\n",
    "* Cycles: it will follow cycles if not detected\n",
    "* Incomplete: if it doesn't detect cycles, then it could never find a solution\n",
    "* Non-optimal: it may find a deep solution before a shorter solution, thus it is not optimal\n",
    "\n",
    "However, it does also have a benefit:\n",
    "* Memory efficient: it can remove explored subtrees from memory\n",
    "\n",
    "A depth-limited search is a depth-first search with a depth limit, meaning at a certain depth, it stops traversing.\n",
    "* Solves cycles: if a cycle exists, it will follow the cycle a limited number of times. Notably, it isn't capable of detecting the cycle, but it doesn't get trapped in infinite loops, so it doesn't need to. It can therefore search graphs with cycles.\n",
    "* Doesn't solve completeness: Despite being able to handle cycles allowing it to traverse completely, it can't search the space below the depth limit. Therefore, it is incomplete. (Although if the max depth could be known, then it could be complete and not affected by cycles. In that case, it would be complete.)\n",
    "* Doesn't solve optimality: it's still depth-first.\n",
    "* Preserves memory efficiency: in fact, cycles can now be considered subtrees and be dropped from memory when the depth limit is reached."
   ]
  },
  {
   "cell_type": "markdown",
   "metadata": {},
   "source": [
    "## `depthLimitedSearch` Function\n",
    "\n",
    "A depth-first search explores the descendants of the child nodes as they are discovered. Siblings of the initial child node are explored after every child node of the initial child node has been explored. Recursively, this is true of every set of siblings in a depth-first search.\n",
    "\n",
    "This can have some issues:\n",
    "* Cycles: it will follow cycles if not detected\n",
    "* Incomplete: if it doesn't detect cycles, then it could never find a solution\n",
    "* Non-optimal: it may find a deep solution before a shorter solution, thus it is not optimal\n",
    "\n",
    "However, it does also have a benefit:\n",
    "* Memory efficient: it can remove explored subtrees from memory\n",
    "\n",
    "A depth-limited search is a depth-first search with a depth limit, meaning at a certain depth, it stops traversing.\n",
    "* Solves cycles: if a cycle exists, it will follow the cycle a limited number of times. Notably, it isn't capable of detecting the cycle, but it doesn't get trapped in infinite loops, so it doesn't need to. It can therefore search graphs with cycles.\n",
    "* Doesn't solve completeness: Despite being able to handle cycles allowing it to traverse completely, it can't search the space below the depth limit. Therefore, it is incomplete. (Although if the max depth could be known, then it could be complete and not affected by cycles. In that case, it would be complete.)\n",
    "* Doesn't solve optimality: it's still depth-first.\n",
    "* Preserves memory efficiency: in fact, cycles can now be considered subtrees and be dropped from memory when the depth limit is reached.\n",
    "\n",
    "This function performs a depth-limited search on a route-finding problem defined the following: the current state, `state`; a goal state, `goalState`; a depth limit, `depthLimit`; an actions function, `actionsF`; and the successors function, `takeActionF`. From a graph perspective, `startState` is the initial state node. Any children are defined by `takeActionF` and `actionsF` (and the function allows for cycles). `goalState` is the node we are searching for."
   ]
  },
  {
   "cell_type": "markdown",
   "metadata": {},
   "source": [
    "### Handles Cycles\n",
    "Despite being able to move back and forth (i.e., a cycle), the function returns:"
   ]
  },
  {
   "cell_type": "code",
   "execution_count": 13,
   "metadata": {
    "scrolled": true
   },
   "outputs": [
    {
     "name": "stdout",
     "output_type": "stream",
     "text": [
      "Path from\n",
      "\n",
      "- 1 2\n",
      "3 4 5\n",
      "6 7 8\n",
      "\n",
      "to\n",
      "\n",
      "8 7 6\n",
      "5 4 3\n",
      "2 1 -\n",
      "\n",
      "couldn't be found (cutoff)\n"
     ]
    }
   ],
   "source": [
    "startState = list(range(9))\n",
    "goalState = startState.copy()\n",
    "goalState.reverse() # very difficult, if not impossible, goal state\n",
    "path = depthLimitedSearch(startState, goalState, actionsF_8p, takeActionF_8p, 5)\n",
    "printPath_8p(startState, goalState, path)"
   ]
  },
  {
   "cell_type": "markdown",
   "metadata": {},
   "source": [
    "### Non-Optimal\n",
    "The goal state is created with a single move yet the solution finds a worse solution with 5 moves."
   ]
  },
  {
   "cell_type": "code",
   "execution_count": 14,
   "metadata": {},
   "outputs": [
    {
     "name": "stdout",
     "output_type": "stream",
     "text": [
      "Path from\n",
      "\n",
      "- 1 2\n",
      "3 4 5\n",
      "6 7 8\n",
      "\n",
      "to\n",
      "\n",
      "3 1 2\n",
      "- 4 5\n",
      "6 7 8\n",
      "\n",
      "takes 5 actions.\n",
      "\n",
      "~~~ path ~~~\n",
      "\n",
      "- 1 2\n",
      "3 4 5\n",
      "6 7 8\n",
      "\n",
      "1 - 2\n",
      "3 4 5\n",
      "6 7 8\n",
      "\n",
      "- 1 2\n",
      "3 4 5\n",
      "6 7 8\n",
      "\n",
      "1 - 2\n",
      "3 4 5\n",
      "6 7 8\n",
      "\n",
      "- 1 2\n",
      "3 4 5\n",
      "6 7 8\n",
      "\n",
      "3 1 2\n",
      "- 4 5\n",
      "6 7 8\n"
     ]
    }
   ],
   "source": [
    "startState = list(range(9))\n",
    "goalState = takeActionF_8p(startState, 'down') # single move\n",
    "path = depthLimitedSearch(startState, goalState, actionsF_8p, takeActionF_8p, 5)\n",
    "printPath_8p(startState, goalState, path)"
   ]
  },
  {
   "cell_type": "markdown",
   "metadata": {},
   "source": [
    "Interestingly, if we change the depth to 1, it is forced to find the optimal solution."
   ]
  },
  {
   "cell_type": "code",
   "execution_count": 15,
   "metadata": {},
   "outputs": [
    {
     "name": "stdout",
     "output_type": "stream",
     "text": [
      "Path from\n",
      "\n",
      "- 1 2\n",
      "3 4 5\n",
      "6 7 8\n",
      "\n",
      "to\n",
      "\n",
      "3 1 2\n",
      "- 4 5\n",
      "6 7 8\n",
      "\n",
      "takes 1 actions.\n",
      "\n",
      "~~~ path ~~~\n",
      "\n",
      "- 1 2\n",
      "3 4 5\n",
      "6 7 8\n",
      "\n",
      "3 1 2\n",
      "- 4 5\n",
      "6 7 8\n"
     ]
    }
   ],
   "source": [
    "startState = list(range(9))\n",
    "goalState = takeActionF_8p(startState, 'down') # single move\n",
    "path = depthLimitedSearch(startState, goalState, actionsF_8p, takeActionF_8p, 1)\n",
    "printPath_8p(startState, goalState, path)"
   ]
  },
  {
   "cell_type": "markdown",
   "metadata": {},
   "source": [
    "### Incomplete\n",
    "Notice how the goal state was created with 4 moves, but the depth limit is 3 moves, so the solution can't be found."
   ]
  },
  {
   "cell_type": "code",
   "execution_count": 16,
   "metadata": {},
   "outputs": [
    {
     "name": "stdout",
     "output_type": "stream",
     "text": [
      "Path from\n",
      "\n",
      "- 1 2\n",
      "3 4 5\n",
      "6 7 8\n",
      "\n",
      "to\n",
      "\n",
      "1 2 5\n",
      "3 4 8\n",
      "6 7 -\n",
      "\n",
      "couldn't be found (cutoff)\n"
     ]
    }
   ],
   "source": [
    "startState = list(range(9))\n",
    "goalState = takeActionF_8p(startState, 'right')\n",
    "goalState = takeActionF_8p(goalState, 'right')\n",
    "goalState = takeActionF_8p(goalState, 'down')\n",
    "goalState = takeActionF_8p(goalState, 'down')\n",
    "path = depthLimitedSearch(startState, goalState, actionsF_8p, takeActionF_8p, 3)\n",
    "printPath_8p(startState, goalState, path)"
   ]
  },
  {
   "cell_type": "markdown",
   "metadata": {},
   "source": [
    "### The Algorithm\n",
    "When `depthLimitedSearch` is initially called, it will usually fail the `base cases` section (see below). It will enter the `exploration` section and compute potential actions using `actionsF`. For every state generated by `takeActionF` on each action, the process is repeated.\n",
    "\n",
    "Eventually, the base cases are reached: the solution, leaf node or depth limit is found. If the depth limit is found, it returns 'cutoff'. If a leaf node is found, `cutoffOccurred` remains false and it returns 'failure'. If the solution is found, it returns a list signaling that `state` is the solution.\n",
    "\n",
    "Every return value of a node's children nodes are evaluated. If the solution is found, it is immediately returned triggering all calling methods to do the same. The solution path is built as each recursion layer returns. If the solution is not found, then the for loop actually finishes. If any cutoffs occur, `cutoffOccurred` is set to true. This case implies that a child had more children which couldn't be explored due to the depth limit. In this case, the failure is reported as a `cutoff`. If no cutoffs occur, then every child node was discovered and explored, yet no solution was found, so it therefore reports as a `failure`.\n",
    "\n",
    "If we build a simple tree for it to search, we can see this difference:\n",
    "A -> B -> C -> D"
   ]
  },
  {
   "cell_type": "code",
   "execution_count": 17,
   "metadata": {},
   "outputs": [],
   "source": [
    "startState = 'A'\n",
    "goalState = 'NonExistent'\n",
    "treeDict = {'A': 'B', 'B': 'C', 'C': 'D'}\n",
    "def actionsF_tree(state):\n",
    "    return [treeDict[state]] if state in treeDict else []\n",
    "def takeActionF_tree(state, action):\n",
    "    return treeDict[state]"
   ]
  },
  {
   "cell_type": "markdown",
   "metadata": {},
   "source": [
    "With only 3 actions, it can reach `D`, but since the depth limit is reached, it can't explore `D`. It instead returns `cutoff`."
   ]
  },
  {
   "cell_type": "code",
   "execution_count": 18,
   "metadata": {
    "scrolled": true
   },
   "outputs": [
    {
     "data": {
      "text/plain": [
       "'cutoff'"
      ]
     },
     "execution_count": 18,
     "metadata": {},
     "output_type": "execute_result"
    }
   ],
   "source": [
    "depthLimitedSearch(startState, goalState, actionsF_tree, takeActionF_tree, 3)"
   ]
  },
  {
   "cell_type": "markdown",
   "metadata": {},
   "source": [
    "Increasing the depth limit to 4 results in `D` being explored, and the algorithm discovering that it has no children; thus, `failure`."
   ]
  },
  {
   "cell_type": "code",
   "execution_count": 19,
   "metadata": {},
   "outputs": [
    {
     "data": {
      "text/plain": [
       "'failure'"
      ]
     },
     "execution_count": 19,
     "metadata": {},
     "output_type": "execute_result"
    }
   ],
   "source": [
    "depthLimitedSearch(startState, goalState, actionsF_tree, takeActionF_tree, 4)"
   ]
  },
  {
   "cell_type": "markdown",
   "metadata": {},
   "source": [
    "## `iterativeDeepeningSearch`  Function\n",
    "\n",
    "An iterative depth-limited search is a depth-limited search but with incrementally deeper depth limits. It inherits the benefits of depth-limited search with some added benefits.\n",
    "* Solves optimality: it searches completely the shallowest layers before searching deeper. The first solution it finds will therefore be the shallowest, and thus the optimal solution.\n",
    "* Preserves incompleteness: same as before, the solution could be below the max depth. \n",
    "\n",
    "This function performs an iterative depth-limited search on the same problem defined as before (`depthLimit` replaced by `maxDepth`; `state` replaced by `startState`).\n",
    "\n",
    "If the result of `depthLimitedSearch` is `failure`, then the graph has been fully searched but no solution has been found. Thus, increasing the depth will have no effect, and `iterativeDeepeningSearch` can instead stop and report the `failure`.\n",
    "\n",
    "If the result is `cutoff`, then some child had more unexplored nodes. Increasing the depth limit will prompt those unexplored nodes to be explored, so in the algorithm, this is done.\n",
    "\n",
    "Of course, if the solution is found, then we stop the iterations and return it.\n",
    "\n",
    "### Optimality\n",
    "\n",
    "The algorithm finds the 2 move solution (from earlier) despite having a max depth of 100.  It's worth noting that it didn't try a depth of 100; you can tell by how fast it ran. It found the solution at a depth of 2 and stopped searching."
   ]
  },
  {
   "cell_type": "code",
   "execution_count": 20,
   "metadata": {},
   "outputs": [
    {
     "name": "stdout",
     "output_type": "stream",
     "text": [
      "Path from\n",
      "\n",
      "- 1 2\n",
      "3 4 5\n",
      "6 7 8\n",
      "\n",
      "to\n",
      "\n",
      "3 1 2\n",
      "- 4 5\n",
      "6 7 8\n",
      "\n",
      "takes 2 actions.\n",
      "\n",
      "~~~ path ~~~\n",
      "\n",
      "- 1 2\n",
      "3 4 5\n",
      "6 7 8\n",
      "\n",
      "3 1 2\n",
      "- 4 5\n",
      "6 7 8\n"
     ]
    }
   ],
   "source": [
    "startState = list(range(9))\n",
    "goalState = takeActionF_8p(startState, 'down') # single move\n",
    "path = iterativeDeepeningSearch(startState, goalState, actionsF_8p, takeActionF_8p, 100)\n",
    "printPath_8p(startState, goalState, path)"
   ]
  },
  {
   "cell_type": "markdown",
   "metadata": {},
   "source": [
    "### Still Incomplete"
   ]
  },
  {
   "cell_type": "markdown",
   "metadata": {},
   "source": [
    "If the solution is too deep within the graph, it won't be found despite existing."
   ]
  },
  {
   "cell_type": "code",
   "execution_count": 21,
   "metadata": {},
   "outputs": [
    {
     "name": "stdout",
     "output_type": "stream",
     "text": [
      "Path from\n",
      "\n",
      "- 1 2\n",
      "3 4 5\n",
      "6 7 8\n",
      "\n",
      "to\n",
      "\n",
      "1 2 5\n",
      "3 4 8\n",
      "6 7 -\n",
      "\n",
      "couldn't be found (cutoff)\n"
     ]
    }
   ],
   "source": [
    "startState = list(range(9))\n",
    "goalState = takeActionF_8p(startState, 'right')\n",
    "goalState = takeActionF_8p(goalState, 'right')\n",
    "goalState = takeActionF_8p(goalState, 'down')\n",
    "goalState = takeActionF_8p(goalState, 'down')\n",
    "path = iterativeDeepeningSearch(startState, goalState, actionsF_8p, takeActionF_8p, 3)\n",
    "printPath_8p(startState, goalState, path)"
   ]
  },
  {
   "cell_type": "markdown",
   "metadata": {},
   "source": [
    "# 8-Puzzle Example"
   ]
  },
  {
   "cell_type": "code",
   "execution_count": 22,
   "metadata": {},
   "outputs": [],
   "source": [
    "import random\n",
    "def randomStartState(goalState, actionsF, takeActionF, nSteps):\n",
    "    state = goalState\n",
    "    for i in range(nSteps):\n",
    "        state = takeActionF(state, random.choice(actionsF(state)))\n",
    "    return state"
   ]
  },
  {
   "cell_type": "code",
   "execution_count": 23,
   "metadata": {},
   "outputs": [
    {
     "name": "stdout",
     "output_type": "stream",
     "text": [
      "Path from\n",
      "\n",
      "4 3 2\n",
      "1 - 5\n",
      "6 7 8\n",
      "\n",
      "to\n",
      "\n",
      "- 1 2\n",
      "3 4 5\n",
      "6 7 8\n",
      "\n",
      "takes 7 actions.\n",
      "\n",
      "~~~ path ~~~\n",
      "\n",
      "4 3 2\n",
      "1 - 5\n",
      "6 7 8\n",
      "\n",
      "4 3 2\n",
      "- 1 5\n",
      "6 7 8\n",
      "\n",
      "- 3 2\n",
      "4 1 5\n",
      "6 7 8\n",
      "\n",
      "3 - 2\n",
      "4 1 5\n",
      "6 7 8\n",
      "\n",
      "3 1 2\n",
      "4 - 5\n",
      "6 7 8\n",
      "\n",
      "3 1 2\n",
      "- 4 5\n",
      "6 7 8\n",
      "\n",
      "- 1 2\n",
      "3 4 5\n",
      "6 7 8\n"
     ]
    }
   ],
   "source": [
    "goalState = list(range(9))\n",
    "startState = randomStartState(goalState, actionsF_8p, takeActionF_8p, 50)\n",
    "path = iterativeDeepeningSearch(startState, goalState, actionsF_8p, takeActionF_8p, 50)\n",
    "printPath_8p(startState, goalState, path)"
   ]
  },
  {
   "cell_type": "markdown",
   "metadata": {},
   "source": [
    "The puzzle was shuffled using 50 random moves. Due to cycles, some of these moves returned it to a previous state. Then, when the algorithm searched for the solution, it collapsed these cycles resulting in the solution being fewer than 50 moves. However, if max depth is too small, then the solution may not be found. The smallest it should be to ensure completeness is 50."
   ]
  },
  {
   "cell_type": "markdown",
   "metadata": {},
   "source": [
    "# Second Example: Hanoi of Size 4"
   ]
  },
  {
   "cell_type": "markdown",
   "metadata": {},
   "source": [
    "This Hanoi class is for handling state. The function declarations which use this class as a wrapper are defined below."
   ]
  },
  {
   "cell_type": "code",
   "execution_count": 24,
   "metadata": {},
   "outputs": [],
   "source": [
    "import copy\n",
    "class Hanoi():\n",
    "    def __init__(self):\n",
    "        self.left = [4, 3, 2, 1]\n",
    "        self.middle = []\n",
    "        self.right = []\n",
    "    \n",
    "    def getSolved():\n",
    "        solved = Hanoi()\n",
    "        solved.right = solved.left\n",
    "        solved.left = []\n",
    "        return solved\n",
    "    \n",
    "    def getActions(self):\n",
    "        left = self.left\n",
    "        middle = self.middle\n",
    "        right = self.right\n",
    "        ret = []\n",
    "        if left:\n",
    "            if not middle or left[-1] < middle[-1]:\n",
    "                ret.append('lm')\n",
    "            if not right or left[-1] < right[-1]:\n",
    "                ret.append('lr')\n",
    "        if middle:\n",
    "            if not left or middle[-1] < left[-1]:\n",
    "                ret.append('ml')\n",
    "            if not right or middle[-1] < right[-1]:\n",
    "                ret.append('mr')\n",
    "        if right:\n",
    "            if not left or right[-1] < left[-1]:\n",
    "                ret.append('rl')\n",
    "            if not middle or right[-1] < middle[-1]:\n",
    "                ret.append('rm')\n",
    "        return ret\n",
    "    \n",
    "    def doAction(self, action):\n",
    "        copySelf = Hanoi()\n",
    "        copySelf.left = self.left.copy()\n",
    "        copySelf.middle = self.middle.copy()\n",
    "        copySelf.right = self.right.copy()\n",
    "        if action[0] == 'l':\n",
    "            fromBar = copySelf.left\n",
    "        elif action[0] == 'm':\n",
    "            fromBar = copySelf.middle\n",
    "        elif action[0] == 'r':\n",
    "            fromBar = copySelf.right\n",
    "        \n",
    "        if action[1] == 'l':\n",
    "            toBar = copySelf.left\n",
    "        elif action[1] == 'm':\n",
    "            toBar = copySelf.middle\n",
    "        elif action[1] == 'r':\n",
    "            toBar = copySelf.right\n",
    "        \n",
    "        toBar.append(fromBar.pop())\n",
    "        return copySelf\n",
    "    \n",
    "    def __str__(self):\n",
    "        maxLen = max(len(self.left), len(self.middle))\n",
    "        maxLen = max(maxLen, len(self.right))\n",
    "        # Sorry it's side ways :)\n",
    "        ret = str(self.left) + '\\n'\n",
    "        ret += str(self.middle) + '\\n'\n",
    "        ret += str(self.right)\n",
    "        return ret\n",
    "    \n",
    "    def __eq__(self, other):\n",
    "        if not isinstance(other, Hanoi):\n",
    "            return False\n",
    "        return self.left == other.left and self.middle == other.middle and self.right == other.right"
   ]
  },
  {
   "cell_type": "code",
   "execution_count": 25,
   "metadata": {},
   "outputs": [],
   "source": [
    "def actionsF_2nd(state):\n",
    "    return state.getActions()"
   ]
  },
  {
   "cell_type": "code",
   "execution_count": 26,
   "metadata": {},
   "outputs": [],
   "source": [
    "def takeActionF_2nd(state, action):\n",
    "    return state.doAction(action)"
   ]
  },
  {
   "cell_type": "code",
   "execution_count": 27,
   "metadata": {},
   "outputs": [],
   "source": [
    "def printPath_2nd(startState, goalState, path):\n",
    "    print(\"Solution from\\n\\n{}\\n\\nto\\n\\n{}\\n\".format(startState, goalState))\n",
    "    if isinstance(path, list):\n",
    "        if path and startState != path[0]:\n",
    "            path = [startState] + path\n",
    "        if path and goalState != path[-1]:\n",
    "            path = path + [goalState]\n",
    "        print('taking {} moves is\\n'.format(len(path)-1))\n",
    "        for state in path:\n",
    "            print(state)\n",
    "            print()\n",
    "    else:\n",
    "        print('No solution found')\n",
    "        return"
   ]
  },
  {
   "cell_type": "code",
   "execution_count": 28,
   "metadata": {
    "scrolled": false
   },
   "outputs": [
    {
     "name": "stdout",
     "output_type": "stream",
     "text": [
      "Solution from\n",
      "\n",
      "[4, 3, 2, 1]\n",
      "[]\n",
      "[]\n",
      "\n",
      "to\n",
      "\n",
      "[]\n",
      "[]\n",
      "[4, 3, 2, 1]\n",
      "\n",
      "taking 15 moves is\n",
      "\n",
      "[4, 3, 2, 1]\n",
      "[]\n",
      "[]\n",
      "\n",
      "[4, 3, 2]\n",
      "[1]\n",
      "[]\n",
      "\n",
      "[4, 3]\n",
      "[1]\n",
      "[2]\n",
      "\n",
      "[4, 3]\n",
      "[]\n",
      "[2, 1]\n",
      "\n",
      "[4]\n",
      "[3]\n",
      "[2, 1]\n",
      "\n",
      "[4, 1]\n",
      "[3]\n",
      "[2]\n",
      "\n",
      "[4, 1]\n",
      "[3, 2]\n",
      "[]\n",
      "\n",
      "[4]\n",
      "[3, 2, 1]\n",
      "[]\n",
      "\n",
      "[]\n",
      "[3, 2, 1]\n",
      "[4]\n",
      "\n",
      "[]\n",
      "[3, 2]\n",
      "[4, 1]\n",
      "\n",
      "[2]\n",
      "[3]\n",
      "[4, 1]\n",
      "\n",
      "[2, 1]\n",
      "[3]\n",
      "[4]\n",
      "\n",
      "[2, 1]\n",
      "[]\n",
      "[4, 3]\n",
      "\n",
      "[2]\n",
      "[1]\n",
      "[4, 3]\n",
      "\n",
      "[]\n",
      "[1]\n",
      "[4, 3, 2]\n",
      "\n",
      "[]\n",
      "[]\n",
      "[4, 3, 2, 1]\n",
      "\n"
     ]
    }
   ],
   "source": [
    "startState = Hanoi()\n",
    "goalState = Hanoi.getSolved()\n",
    "path = iterativeDeepeningSearch(startState, goalState, actionsF_2nd, takeActionF_2nd, 20)\n",
    "printPath_2nd(startState, goalState, path)"
   ]
  },
  {
   "cell_type": "markdown",
   "metadata": {},
   "source": [
    "Interestingly, the number of moves to solve Hanoi is $2^n - 1$, so given this information, we know that max depth must be $2^n-1$. Also, we can just use `depthLimitedSearch` and specify the depth for $n=4 \\implies depthLimit = 2^4-1=15$."
   ]
  },
  {
   "cell_type": "code",
   "execution_count": 29,
   "metadata": {
    "scrolled": false
   },
   "outputs": [
    {
     "name": "stdout",
     "output_type": "stream",
     "text": [
      "Solution from\n",
      "\n",
      "[4, 3, 2, 1]\n",
      "[]\n",
      "[]\n",
      "\n",
      "to\n",
      "\n",
      "[]\n",
      "[]\n",
      "[4, 3, 2, 1]\n",
      "\n",
      "taking 15 moves is\n",
      "\n",
      "[4, 3, 2, 1]\n",
      "[]\n",
      "[]\n",
      "\n",
      "[4, 3, 2]\n",
      "[1]\n",
      "[]\n",
      "\n",
      "[4, 3]\n",
      "[1]\n",
      "[2]\n",
      "\n",
      "[4, 3]\n",
      "[]\n",
      "[2, 1]\n",
      "\n",
      "[4]\n",
      "[3]\n",
      "[2, 1]\n",
      "\n",
      "[4, 1]\n",
      "[3]\n",
      "[2]\n",
      "\n",
      "[4, 1]\n",
      "[3, 2]\n",
      "[]\n",
      "\n",
      "[4]\n",
      "[3, 2, 1]\n",
      "[]\n",
      "\n",
      "[]\n",
      "[3, 2, 1]\n",
      "[4]\n",
      "\n",
      "[]\n",
      "[3, 2]\n",
      "[4, 1]\n",
      "\n",
      "[2]\n",
      "[3]\n",
      "[4, 1]\n",
      "\n",
      "[2, 1]\n",
      "[3]\n",
      "[4]\n",
      "\n",
      "[2, 1]\n",
      "[]\n",
      "[4, 3]\n",
      "\n",
      "[2]\n",
      "[1]\n",
      "[4, 3]\n",
      "\n",
      "[]\n",
      "[1]\n",
      "[4, 3, 2]\n",
      "\n",
      "[]\n",
      "[]\n",
      "[4, 3, 2, 1]\n",
      "\n"
     ]
    }
   ],
   "source": [
    "path = depthLimitedSearch(startState, goalState, actionsF_2nd, takeActionF_2nd, 15)\n",
    "printPath_2nd(startState, goalState, path)"
   ]
  },
  {
   "cell_type": "markdown",
   "metadata": {},
   "source": [
    "# Results from A2grader"
   ]
  },
  {
   "cell_type": "code",
   "execution_count": 30,
   "metadata": {
    "scrolled": true
   },
   "outputs": [
    {
     "name": "stdout",
     "output_type": "stream",
     "text": [
      "\n",
      "======================= Code Execution =======================\n",
      "\n",
      "Extracting python code from notebook named 'Wilson-A2.ipynb' and storing in notebookcode.py\n",
      "Removing all statements that are not function or class defs or import statements.\n",
      "\n",
      "Searching this graph:\n",
      " {'a': ['b', 'z', 'd'], 'b': ['a'], 'e': ['z'], 'd': ['y'], 'y': ['z']}\n",
      "\n",
      "Looking for path from a to y with max depth of 1.\n",
      " 5/ 5 points. Your search correctly returned cutoff\n",
      "\n",
      "Looking for path from a to z with max depth of 5.\n",
      "10/10 points. Your search correctly returned ['a', 'z']\n",
      "\n",
      "Testing findBlank_8p([1, 2, 3, 4, 5, 6, 7, 0, 8])\n",
      " 5/ 5 points. Your findBlank_8p correctly returned 2 1\n",
      "\n",
      "Testing actionsF_8p([1, 2, 3, 4, 5, 6, 7, 0, 8])\n",
      "10/10 points. Your actionsF_8p correctly returned ['left', 'right', 'up']\n",
      "\n",
      "Testing takeActionF_8p([1, 2, 3, 4, 5, 6, 7, 0, 8],up)\n",
      "10/10 points. Your takeActionsF_8p correctly returned [1, 2, 3, 4, 0, 6, 7, 5, 8]\n",
      "\n",
      "Testing iterativeDeepeningSearch([1, 2, 3, 4, 5, 6, 7, 0, 8],[0, 2, 3, 1, 4,  6, 7, 5, 8], actionsF_8p, takeActionF_8p, 5)\n",
      "20/20 points. Your search correctly returned [[1, 2, 3, 4, 5, 6, 7, 0, 8], [1, 2, 3, 4, 0, 6, 7, 5, 8], [1, 2, 3, 0, 4, 6, 7, 5, 8], [0, 2, 3, 1, 4, 6, 7, 5, 8]]\n",
      "\n",
      "Testing iterativeDeepeningSearch([5, 2, 8, 0, 1, 4, 3, 7, 6], [0, 2, 3, 1, 4,  6, 7, 5, 8], actionsF_8p, takeActionF_8p, 10)\n",
      "20/20 points. Your search correctly returned cutoff\n",
      "\n",
      "a2 Grade is 80/80\n",
      "\n",
      "Up to 20 more points will be given based on the quality of your descriptions of the method and the results.\n"
     ]
    }
   ],
   "source": [
    "%run -i A2grader.py"
   ]
  },
  {
   "cell_type": "markdown",
   "metadata": {},
   "source": [
    "# Extra Credit\n",
    "\n",
    "For extra credit, apply your solution to the grid example in Assignment 1 with the addition of a horizontal and vertical barrier at least three positions long.  Demonstrate the solutions found in four different pairs of start and goal states."
   ]
  },
  {
   "cell_type": "markdown",
   "metadata": {},
   "source": [
    "The following cell of class definitions isn't that important. It's just a backend for the state: I define functions below that serve as wrappers for them.\n",
    "\n",
    "## Class Backend (Skip)"
   ]
  },
  {
   "cell_type": "code",
   "execution_count": 31,
   "metadata": {},
   "outputs": [],
   "source": [
    "import copy\n",
    "import matplotlib.pyplot as plt\n",
    "%matplotlib inline\n",
    "\n",
    "class Wall():\n",
    "    UP = \"up\"\n",
    "    DOWN = \"down\"\n",
    "    LEFT = \"left\"\n",
    "    RIGHT = \"right\"\n",
    "\n",
    "    def __init__(self, x, y, direction, length):\n",
    "        \"\"\"\n",
    "        x and y are integers specifying the bottom left corner of the\n",
    "        block you are trying to select\n",
    "        \"\"\"\n",
    "        self.xStart = x + .5\n",
    "        self.xEnd = self.xStart\n",
    "        self.yStart = y + .5\n",
    "        self.yEnd = self.yStart\n",
    "        self.direction = direction\n",
    "        if direction == Wall.DOWN:\n",
    "            self.yStart -= length\n",
    "        elif direction == Wall.UP:\n",
    "            self.yEnd += length\n",
    "        elif direction == Wall.LEFT:\n",
    "            self.xStart -= length\n",
    "        elif direction == Wall.RIGHT:\n",
    "            self.xEnd += length\n",
    "            \n",
    "    def __str__(self):\n",
    "        return \"({}, {}) to ({}, {})\".format(self.xStart, self.yStart, self.xEnd, self.yEnd)\n",
    "\n",
    "class GridState():\n",
    "    def __init__(self, x=0, y=0, n=20, walls=None):\n",
    "        \"\"\"walls is a list of wall objects\"\"\"\n",
    "        self.x = x\n",
    "        self.y = y\n",
    "        self.n = n\n",
    "        if walls:\n",
    "            self.walls = walls\n",
    "        else:\n",
    "            self.walls = []\n",
    "        self.addWall(-1, -1, Wall.UP, n+1)\n",
    "        self.addWall(-1, n, Wall.RIGHT, n+1)\n",
    "        self.addWall(n, -1, Wall.UP, n+1)\n",
    "        self.addWall(-1, -1, Wall.RIGHT, n+1)\n",
    "    \n",
    "    def draw(startState, goalState, path):\n",
    "        \"\"\"Print a solution path in a readable form. startState can be\n",
    "        included in path, it is only printed once\"\"\"\n",
    "        n = startState.n\n",
    "        if isinstance(path, list):\n",
    "            if path and startState != path[0]:\n",
    "                path = [startState] + path\n",
    "            if path and goalState != path[-1]:\n",
    "                path = path + [goalState]\n",
    "            print(\"Solution path: from ({}, {}) to ({}, {}) taking {} moves \".format(\n",
    "                    startState.x, startState.y, goalState.x, goalState.y, len(path)))\n",
    "            for pt in path:\n",
    "                print(pt)\n",
    "                \n",
    "        else:\n",
    "            print(\"Path not found\")\n",
    "            path = [startState]\n",
    "\n",
    "        plt.figure()\n",
    "        #walls\n",
    "        if startState.walls:\n",
    "            for wall in startState.walls:\n",
    "                plt.plot([wall.xStart, wall.xEnd],\n",
    "                         [wall.yStart, wall.yEnd], 'k-')\n",
    "            \n",
    "        #path\n",
    "        rows = [pt.x for pt in path]\n",
    "        cols = [pt.y for pt in path]\n",
    "        plt.xlim(-1, n+1)\n",
    "        plt.ylim(-1, n+1)\n",
    "        plt.plot(rows, cols, 'ro-')\n",
    "\n",
    "    def doAction(self, action):\n",
    "        retState = copy.copy(self)\n",
    "        if action == \"left\": retState.x -= 1\n",
    "        elif action == \"right\": retState.x += 1\n",
    "        elif action == \"up\": retState.y += 1\n",
    "        elif action == \"down\": retState.y -= 1\n",
    "        return retState\n",
    "    \n",
    "    def canMoveV(self, bCoord):\n",
    "        for wall in self.walls:\n",
    "            movesUpOrDown = wall.direction == Wall.UP or wall.direction == Wall.DOWN\n",
    "            hitsWall = bCoord < wall.yStart < bCoord + 1 and wall.xStart < self.x < wall.xEnd\n",
    "            if not movesUpOrDown and hitsWall:\n",
    "                return False\n",
    "        return True\n",
    "    \n",
    "    def canMoveH(self, lCoord):\n",
    "        for wall in self.walls:        \n",
    "            movesLeftOrRight = wall.direction == Wall.LEFT or wall.direction == Wall.RIGHT\n",
    "            hitsWall = lCoord < wall.xStart < lCoord + 1 and wall.yStart < self.y < wall.yEnd\n",
    "            if not movesLeftOrRight and hitsWall:\n",
    "                return False\n",
    "        return True\n",
    "        \n",
    "    def getActions(self):\n",
    "        ret_value = []\n",
    "        if self.canMoveH(self.x-1):\n",
    "            ret_value.append(\"left\")\n",
    "        if self.canMoveH(self.x):\n",
    "            ret_value.append(\"right\")\n",
    "        if self.canMoveV(self.y):\n",
    "            ret_value.append(\"up\")\n",
    "        if self.canMoveV(self.y-1):\n",
    "            ret_value.append(\"down\")\n",
    "        return ret_value\n",
    "    \n",
    "    def addWall(self, x, y, direction, length):\n",
    "        self.walls.append(Wall(x, y, direction, length))\n",
    "        \n",
    "    def __eq__(self, other):\n",
    "        return isinstance(other, GridState) and \\\n",
    "            self.x == other.x and \\\n",
    "            self.y == other.y \n",
    "    \n",
    "    def __ne__(self, other):\n",
    "        return not self.__eq__(other)\n",
    "    \n",
    "    def __str__(self):\n",
    "        return \"({}, {})\".format(self.x, self.y)"
   ]
  },
  {
   "cell_type": "markdown",
   "metadata": {},
   "source": [
    "## Function Declarations (Don't Skip)"
   ]
  },
  {
   "cell_type": "code",
   "execution_count": 32,
   "metadata": {},
   "outputs": [],
   "source": [
    "def actionsF_grid(state):\n",
    "    return state.getActions()"
   ]
  },
  {
   "cell_type": "code",
   "execution_count": 33,
   "metadata": {},
   "outputs": [],
   "source": [
    "def takeActionF_grid(state, action):\n",
    "    return state.doAction(action)"
   ]
  },
  {
   "cell_type": "code",
   "execution_count": 34,
   "metadata": {},
   "outputs": [],
   "source": [
    "def draw(startState, goalState, path):\n",
    "    GridState.draw(startState, goalState, path)"
   ]
  },
  {
   "cell_type": "markdown",
   "metadata": {},
   "source": [
    "## Base Example"
   ]
  },
  {
   "cell_type": "code",
   "execution_count": 35,
   "metadata": {},
   "outputs": [],
   "source": [
    "goalState = GridState(5, 5, 5)\n",
    "startState = GridState(5, 0, 5)"
   ]
  },
  {
   "cell_type": "markdown",
   "metadata": {},
   "source": [
    "We take the initial position in the bottom right and target the top left. \n",
    "\n",
    "As expected, iterativeDeepingSearch finds the optimal solution."
   ]
  },
  {
   "cell_type": "code",
   "execution_count": 36,
   "metadata": {
    "scrolled": false
   },
   "outputs": [
    {
     "name": "stdout",
     "output_type": "stream",
     "text": [
      "Solution path: from (5, 0) to (5, 5) taking 6 moves \n",
      "(5, 0)\n",
      "(5, 1)\n",
      "(5, 2)\n",
      "(5, 3)\n",
      "(5, 4)\n",
      "(5, 5)\n"
     ]
    },
    {
     "data": {
      "image/png": "[encoded data removed]",
      "text/plain": [
       "<Figure size 432x288 with 1 Axes>"
      ]
     },
     "metadata": {
      "needs_background": "light"
     },
     "output_type": "display_data"
    }
   ],
   "source": [
    "path = iterativeDeepeningSearch(startState, goalState, actionsF_grid, takeActionF_grid, 15)\n",
    "draw(startState, goalState, path)"
   ]
  },
  {
   "cell_type": "markdown",
   "metadata": {},
   "source": [
    "As expected, `depthLimitedSearch` with too large of a depth limit yields poor results. It spends all 15 moves moving left, moving right, and eventually moving all the way right and up."
   ]
  },
  {
   "cell_type": "code",
   "execution_count": 37,
   "metadata": {},
   "outputs": [
    {
     "name": "stdout",
     "output_type": "stream",
     "text": [
      "Solution path: from (5, 0) to (5, 5) taking 16 moves \n",
      "(5, 0)\n",
      "(4, 0)\n",
      "(3, 0)\n",
      "(2, 0)\n",
      "(1, 0)\n",
      "(0, 0)\n",
      "(1, 0)\n",
      "(2, 0)\n",
      "(3, 0)\n",
      "(4, 0)\n",
      "(5, 0)\n",
      "(5, 1)\n",
      "(5, 2)\n",
      "(5, 3)\n",
      "(5, 4)\n",
      "(5, 5)\n"
     ]
    },
    {
     "data": {
      "image/png": "[encoded data removed]",
      "text/plain": [
       "<Figure size 432x288 with 1 Axes>"
      ]
     },
     "metadata": {
      "needs_background": "light"
     },
     "output_type": "display_data"
    }
   ],
   "source": [
    "path = depthLimitedSearch(startState, goalState, actionsF_grid, takeActionF_grid, 15)\n",
    "draw(startState, goalState, path)"
   ]
  },
  {
   "cell_type": "markdown",
   "metadata": {},
   "source": [
    "## Walls"
   ]
  },
  {
   "cell_type": "markdown",
   "metadata": {},
   "source": [
    "First, we'll build the map. Again, the goal will be the top right corner (8, 8)."
   ]
  },
  {
   "cell_type": "code",
   "execution_count": 38,
   "metadata": {},
   "outputs": [
    {
     "name": "stdout",
     "output_type": "stream",
     "text": [
      "Path not found\n"
     ]
    },
    {
     "data": {
      "image/png": "[encoded data removed]",
      "text/plain": [
       "<Figure size 432x288 with 1 Axes>"
      ]
     },
     "metadata": {
      "needs_background": "light"
     },
     "output_type": "display_data"
    }
   ],
   "source": [
    "n = 8\n",
    "startState = GridState(0, 0, n=n)\n",
    "startState.addWall(-1, 0, Wall.RIGHT, 7)\n",
    "startState.addWall(7, -1, Wall.UP, 9)\n",
    "startState.addWall(7, 1, Wall.LEFT, 7)\n",
    "startState.addWall(2, 1, Wall.UP, 6)\n",
    "startState.addWall(2, 4, Wall.RIGHT, 2)\n",
    "startState.addWall(7, 4, Wall.LEFT, 2)\n",
    "goalState = GridState(n, n, n=n)\n",
    "draw(startState, None, None)"
   ]
  },
  {
   "cell_type": "markdown",
   "metadata": {},
   "source": [
    "### Around the Bend (0, 0) to (0, 1) "
   ]
  },
  {
   "cell_type": "code",
   "execution_count": 39,
   "metadata": {
    "scrolled": false
   },
   "outputs": [
    {
     "name": "stdout",
     "output_type": "stream",
     "text": [
      "Solution path: from (0, 0) to (0, 1) taking 16 moves \n",
      "(0, 0)\n",
      "(1, 0)\n",
      "(2, 0)\n",
      "(3, 0)\n",
      "(4, 0)\n",
      "(5, 0)\n",
      "(6, 0)\n",
      "(7, 0)\n",
      "(7, 1)\n",
      "(6, 1)\n",
      "(5, 1)\n",
      "(4, 1)\n",
      "(3, 1)\n",
      "(2, 1)\n",
      "(1, 1)\n",
      "(0, 1)\n",
      "Solution path: from (0, 0) to (0, 1) taking 20 moves \n",
      "(0, 0)\n",
      "(1, 0)\n",
      "(0, 0)\n",
      "(1, 0)\n",
      "(0, 0)\n",
      "(1, 0)\n",
      "(2, 0)\n",
      "(3, 0)\n",
      "(4, 0)\n",
      "(5, 0)\n",
      "(6, 0)\n",
      "(7, 0)\n",
      "(7, 1)\n",
      "(6, 1)\n",
      "(5, 1)\n",
      "(4, 1)\n",
      "(3, 1)\n",
      "(2, 1)\n",
      "(1, 1)\n",
      "(0, 1)\n"
     ]
    },
    {
     "data": {
      "image/png": "[encoded data removed]",
      "text/plain": [
       "<Figure size 432x288 with 1 Axes>"
      ]
     },
     "metadata": {
      "needs_background": "light"
     },
     "output_type": "display_data"
    },
    {
     "data": {
      "image/png": "[encoded data removed]",
      "text/plain": [
       "<Figure size 432x288 with 1 Axes>"
      ]
     },
     "metadata": {
      "needs_background": "light"
     },
     "output_type": "display_data"
    }
   ],
   "source": [
    "startState.x = 0\n",
    "startState.y = 0\n",
    "goalState.x = 0\n",
    "goalState.y = 1\n",
    "path = iterativeDeepeningSearch(startState, goalState, actionsF_grid, takeActionF_grid, 20)\n",
    "draw(startState, goalState, path)\n",
    "path = depthLimitedSearch(startState, goalState, actionsF_grid, takeActionF_grid, 20)\n",
    "draw(startState, goalState, path)"
   ]
  },
  {
   "cell_type": "markdown",
   "metadata": {},
   "source": [
    "### No Solution (7, 0) to (8, 0)"
   ]
  },
  {
   "cell_type": "code",
   "execution_count": 40,
   "metadata": {},
   "outputs": [
    {
     "name": "stdout",
     "output_type": "stream",
     "text": [
      "Path not found\n",
      "Path not found\n"
     ]
    },
    {
     "data": {
      "image/png": "[encoded data removed]",
      "text/plain": [
       "<Figure size 432x288 with 1 Axes>"
      ]
     },
     "metadata": {
      "needs_background": "light"
     },
     "output_type": "display_data"
    },
    {
     "data": {
      "image/png": "[encoded data removed]",
      "text/plain": [
       "<Figure size 432x288 with 1 Axes>"
      ]
     },
     "metadata": {
      "needs_background": "light"
     },
     "output_type": "display_data"
    }
   ],
   "source": [
    "startState.x = 7\n",
    "startState.y = 0\n",
    "goalState.x = 8\n",
    "goalState.y = 0\n",
    "path = iterativeDeepeningSearch(startState, goalState, actionsF_grid, takeActionF_grid, 20)\n",
    "draw(startState, goalState, path)\n",
    "path = depthLimitedSearch(startState, goalState, actionsF_grid, takeActionF_grid, 20)\n",
    "draw(startState, goalState, path)"
   ]
  },
  {
   "cell_type": "markdown",
   "metadata": {},
   "source": [
    "### Around Two Walls (2, 2) to (3, 2)"
   ]
  },
  {
   "cell_type": "code",
   "execution_count": 41,
   "metadata": {
    "scrolled": false
   },
   "outputs": [
    {
     "name": "stdout",
     "output_type": "stream",
     "text": [
      "Solution path: from (2, 2) to (5, 4) taking 14 moves \n",
      "(2, 2)\n",
      "(2, 3)\n",
      "(2, 4)\n",
      "(2, 5)\n",
      "(2, 6)\n",
      "(2, 7)\n",
      "(2, 8)\n",
      "(3, 8)\n",
      "(4, 8)\n",
      "(5, 8)\n",
      "(5, 7)\n",
      "(5, 6)\n",
      "(5, 5)\n",
      "(5, 4)\n",
      "Solution path: from (2, 2) to (5, 4) taking 20 moves \n",
      "(2, 2)\n",
      "(1, 2)\n",
      "(0, 2)\n",
      "(1, 2)\n",
      "(0, 2)\n",
      "(1, 2)\n",
      "(2, 2)\n",
      "(2, 3)\n",
      "(2, 4)\n",
      "(2, 5)\n",
      "(2, 6)\n",
      "(2, 7)\n",
      "(2, 8)\n",
      "(3, 8)\n",
      "(4, 8)\n",
      "(5, 8)\n",
      "(5, 7)\n",
      "(5, 6)\n",
      "(5, 5)\n",
      "(5, 4)\n"
     ]
    },
    {
     "data": {
      "image/png": "[encoded data removed]",
      "text/plain": [
       "<Figure size 432x288 with 1 Axes>"
      ]
     },
     "metadata": {
      "needs_background": "light"
     },
     "output_type": "display_data"
    },
    {
     "data": {
      "image/png": "[encoded data removed]",
      "text/plain": [
       "<Figure size 432x288 with 1 Axes>"
      ]
     },
     "metadata": {
      "needs_background": "light"
     },
     "output_type": "display_data"
    }
   ],
   "source": [
    "startState.x = 2\n",
    "startState.y = 2\n",
    "goalState.x = 5\n",
    "goalState.y = 4\n",
    "path = iterativeDeepeningSearch(startState, goalState, actionsF_grid, takeActionF_grid, 20)\n",
    "draw(startState, goalState, path)\n",
    "path = depthLimitedSearch(startState, goalState, actionsF_grid, takeActionF_grid, 20)\n",
    "draw(startState, goalState, path)"
   ]
  },
  {
   "cell_type": "markdown",
   "metadata": {},
   "source": [
    "### In the Open (0, 2) to (2, 8)"
   ]
  },
  {
   "cell_type": "code",
   "execution_count": 42,
   "metadata": {
    "scrolled": false
   },
   "outputs": [
    {
     "name": "stdout",
     "output_type": "stream",
     "text": [
      "Solution path: from (0, 2) to (2, 8) taking 9 moves \n",
      "(0, 2)\n",
      "(1, 2)\n",
      "(2, 2)\n",
      "(2, 3)\n",
      "(2, 4)\n",
      "(2, 5)\n",
      "(2, 6)\n",
      "(2, 7)\n",
      "(2, 8)\n",
      "Solution path: from (0, 2) to (2, 8) taking 21 moves \n",
      "(0, 2)\n",
      "(1, 2)\n",
      "(0, 2)\n",
      "(1, 2)\n",
      "(0, 2)\n",
      "(1, 2)\n",
      "(0, 2)\n",
      "(1, 2)\n",
      "(0, 2)\n",
      "(1, 2)\n",
      "(0, 2)\n",
      "(1, 2)\n",
      "(0, 2)\n",
      "(1, 2)\n",
      "(2, 2)\n",
      "(2, 3)\n",
      "(2, 4)\n",
      "(2, 5)\n",
      "(2, 6)\n",
      "(2, 7)\n",
      "(2, 8)\n"
     ]
    },
    {
     "data": {
      "image/png": "[encoded data removed]",
      "text/plain": [
       "<Figure size 432x288 with 1 Axes>"
      ]
     },
     "metadata": {
      "needs_background": "light"
     },
     "output_type": "display_data"
    },
    {
     "data": {
      "image/png": "[encoded data removed]",
      "text/plain": [
       "<Figure size 432x288 with 1 Axes>"
      ]
     },
     "metadata": {
      "needs_background": "light"
     },
     "output_type": "display_data"
    }
   ],
   "source": [
    "startState.x = 0\n",
    "startState.y = 2\n",
    "goalState.x = 2\n",
    "goalState.y = 8\n",
    "path = iterativeDeepeningSearch(startState, goalState, actionsF_grid, takeActionF_grid, 20)\n",
    "draw(startState, goalState, path)\n",
    "path = depthLimitedSearch(startState, goalState, actionsF_grid, takeActionF_grid, 20)\n",
    "draw(startState, goalState, path)"
   ]
  },
  {
   "cell_type": "markdown",
   "metadata": {},
   "source": [
    "### Through the opening (4, 6) to (4, 4)"
   ]
  },
  {
   "cell_type": "code",
   "execution_count": 43,
   "metadata": {
    "scrolled": true
   },
   "outputs": [
    {
     "name": "stdout",
     "output_type": "stream",
     "text": [
      "Solution path: from (4, 6) to (4, 4) taking 5 moves \n",
      "(4, 6)\n",
      "(5, 6)\n",
      "(5, 5)\n",
      "(5, 4)\n",
      "(4, 4)\n",
      "Solution path: from (4, 6) to (4, 4) taking 21 moves \n",
      "(4, 6)\n",
      "(3, 6)\n",
      "(4, 6)\n",
      "(3, 6)\n",
      "(4, 6)\n",
      "(3, 6)\n",
      "(4, 6)\n",
      "(3, 6)\n",
      "(4, 6)\n",
      "(3, 6)\n",
      "(4, 6)\n",
      "(3, 6)\n",
      "(4, 6)\n",
      "(3, 6)\n",
      "(4, 6)\n",
      "(3, 6)\n",
      "(4, 6)\n",
      "(5, 6)\n",
      "(5, 5)\n",
      "(5, 4)\n",
      "(4, 4)\n"
     ]
    },
    {
     "data": {
      "image/png": "[encoded data removed]",
      "text/plain": [
       "<Figure size 432x288 with 1 Axes>"
      ]
     },
     "metadata": {
      "needs_background": "light"
     },
     "output_type": "display_data"
    },
    {
     "data": {
      "image/png": "[encoded data removed]",
      "text/plain": [
       "<Figure size 432x288 with 1 Axes>"
      ]
     },
     "metadata": {
      "needs_background": "light"
     },
     "output_type": "display_data"
    }
   ],
   "source": [
    "startState.x = 4\n",
    "startState.y = 6\n",
    "goalState.x = 4\n",
    "goalState.y = 4\n",
    "path = iterativeDeepeningSearch(startState, goalState, actionsF_grid, takeActionF_grid, 20)\n",
    "draw(startState, goalState, path)\n",
    "path = depthLimitedSearch(startState, goalState, actionsF_grid, takeActionF_grid, 20)\n",
    "draw(startState, goalState, path)"
   ]
  },
  {
   "cell_type": "code",
   "execution_count": null,
   "metadata": {},
   "outputs": [],
   "source": []
  }
 ],
 "metadata": {
  "anaconda-cloud": {},
  "kernelspec": {
   "display_name": "Python 3",
   "language": "python",
   "name": "python3"
  },
  "language_info": {
   "codemirror_mode": {
    "name": "ipython",
    "version": 3
   },
   "file_extension": ".py",
   "mimetype": "text/x-python",
   "name": "python",
   "nbconvert_exporter": "python",
   "pygments_lexer": "ipython3",
   "version": "3.7.0"
  }
 },
 "nbformat": 4,
 "nbformat_minor": 1
}
