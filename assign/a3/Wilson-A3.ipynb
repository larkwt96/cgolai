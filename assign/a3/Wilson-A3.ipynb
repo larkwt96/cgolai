{
 "cells": [
  {
   "cell_type": "markdown",
   "metadata": {},
   "source": [
    "# A3: A\\*, IDS, and Effective Branching Factor"
   ]
  },
  {
   "cell_type": "code",
   "execution_count": 1,
   "metadata": {},
   "outputs": [],
   "source": [
    "# Imports\n",
    "\n",
    "import pandas as pd\n",
    "import numpy as np\n",
    "from math import sqrt\n",
    "import time\n",
    "\n",
    "# Algorithm Definitions\n",
    "\n",
    "globalNodes = 0\n",
    "\n",
    "class Node:\n",
    "    def __init__(self, state, f=0, g=0, h=0):\n",
    "        self.state = state\n",
    "        self.f = f\n",
    "        self.g = g\n",
    "        self.h = h\n",
    "        global globalNodes\n",
    "        globalNodes += 1\n",
    "    def __repr__(self):\n",
    "        return \"Node(\" + repr(self.state) + \", f=\" + repr(self.f) + \\\n",
    "               \", g=\" + repr(self.g) + \", h=\" + repr(self.h) + \")\"\n",
    "\n",
    "def aStarSearch(startState, actionsF, takeActionF, goalTestF, hF):\n",
    "    h = hF(startState)\n",
    "    startNode = Node(state=startState, f=0+h, g=0, h=h)\n",
    "    return aStarSearchHelper(startNode, actionsF, takeActionF, goalTestF, hF, float('inf'))\n",
    "\n",
    "def aStarSearchHelper(parentNode, actionsF, takeActionF, goalTestF, hF, fmax):\n",
    "    if goalTestF(parentNode.state):\n",
    "        return ([parentNode.state], parentNode.g)\n",
    "    ## Construct list of children nodes with f, g, and h values\n",
    "    actions = actionsF(parentNode.state)\n",
    "    if not actions:\n",
    "        return (\"failure\", float('inf'))\n",
    "    children = []\n",
    "    for action in actions:\n",
    "        (childState,stepCost) = takeActionF(parentNode.state, action)\n",
    "        h = hF(childState)\n",
    "        g = parentNode.g + stepCost\n",
    "        f = max(h+g, parentNode.f)\n",
    "        childNode = Node(state=childState, f=f, g=g, h=h)\n",
    "        children.append(childNode)\n",
    "    while True:\n",
    "        # find best child\n",
    "        children.sort(key = lambda n: n.f) # sort by f value\n",
    "        bestChild = children[0]\n",
    "        if bestChild.f > fmax:\n",
    "            return (\"failure\",bestChild.f)\n",
    "        # next lowest f value\n",
    "        alternativef = children[1].f if len(children) > 1 else float('inf')\n",
    "        # expand best child, reassign its f value to be returned value\n",
    "        result,bestChild.f = aStarSearchHelper(bestChild, actionsF, takeActionF, goalTestF,\n",
    "                                            hF, min(fmax,alternativef))\n",
    "        if result is not \"failure\":\n",
    "            result.insert(0,parentNode.state)\n",
    "            return (result, bestChild.f)\n",
    "\n",
    "def depthLimitedSearch(state, goalState, actionsF, takeActionF, depthLimit):\n",
    "    \"\"\" base cases \"\"\"\n",
    "    if state == goalState:\n",
    "        return []\n",
    "    if depthLimit == 0:\n",
    "        return 'cutoff'\n",
    "    \n",
    "    \"\"\" exploration \"\"\"\n",
    "    cutoffOccurred = False\n",
    "    for action in actionsF(state):\n",
    "        \"\"\" explore each child node \"\"\"\n",
    "        global globalNodes\n",
    "        globalNodes += 1\n",
    "        childState = takeActionF(state, action)[0]\n",
    "        result = depthLimitedSearch(childState, goalState, actionsF,\n",
    "                takeActionF, depthLimit-1)\n",
    "        \n",
    "        \"\"\" handle post exploration \"\"\"\n",
    "        if result == 'cutoff': # depth limit reached\n",
    "            cutoffOccurred = True\n",
    "        elif result != 'failure':\n",
    "            return [childState] + result\n",
    "    \n",
    "    \"\"\" full tree traversal \"\"\"\n",
    "    if cutoffOccurred:\n",
    "        return 'cutoff'\n",
    "    else:\n",
    "        return 'failure'\n",
    "\n",
    "def iterativeDeepeningSearch(startState, goalState, actionsF, takeActionF,\n",
    "        maxDepth):\n",
    "    for depth in range(maxDepth):\n",
    "        results = depthLimitedSearch(startState, goalState, actionsF,\n",
    "                takeActionF, depth)\n",
    "        if results == 'failure':\n",
    "            return 'failure'\n",
    "        elif results != 'cutoff':\n",
    "            return [startState] + results\n",
    "    return 'cutoff'\n",
    "\n",
    "def ebf(nNodes, depth, precision=0.01):\n",
    "    \"\"\"Returns effective branching factor, given the number of nodes expanded\n",
    "    and depth reached during a search.\n",
    "\n",
    "    We can use bisection with an initial lower bound of 1 and an upper bound of\n",
    "    nNodes.\n",
    "    Here's the math:\n",
    "\n",
    "    Let $N = nNodes$ and $d = depth$. \n",
    "\n",
    "    Define the effective branching factor be $x$ which solves $N = 1 + x + x^2\n",
    "    + ... + x^d$.\n",
    "\n",
    "    Then, $x$ is the zeros of $f(x) = -N + 1 + x + x^2 + ... + x^d$.\n",
    "\n",
    "    The derivative of this expression is $1 + x + x^2 + ... + x^(d-1)$.\n",
    "\n",
    "    $x > 0 \\implies x^i > 0 \\implies f'(x) > 0$; therefore, the expression\n",
    "    above is strictly increasing (and continuous). \n",
    "\n",
    "    $f(1) = 1 + 1 + ... + 1 - N = d + 1 - N < 0$ since $d + 1 \\leq N$. If $f(1)\n",
    "    = 0$, then $x = 1$. Otherwise, we have a lower bound for bisection, 1.\n",
    "\n",
    "    $f(N) = 1 + N + N^2 + ... + N^d - N = 1 + N^2 + ... + N^d$, so $N \\geq 0$,\n",
    "    which it is, $\\implies f(N) > 0$. If $d = 0$, then $f(N) = 0$, and $x = N$.\n",
    "    Otherwise, we have an upperbound. Since $f$ is continuous and strictly\n",
    "    increasing, by intermediate value theorem, we have a zero somewhere in the\n",
    "    interval $[1, N]$. We can use bisection to find it.\n",
    "    \"\"\"\n",
    "    lower = 1\n",
    "    upper = nNodes\n",
    "    while (upper - lower)/2 >= precision:\n",
    "        lower, upper = ebfHelper(lower, upper, nNodes, depth)\n",
    "    return (lower + upper) / 2 # mid point\n",
    "\n",
    "def ebfPowerFunction(b, nNodes, depth):\n",
    "    return (1 - b**(depth+1)) / (1 - b) - nNodes\n",
    "\n",
    "def ebfHelper(lower, upper, nNodes, depth):\n",
    "    #print('{} {}'.format(lower, upper))\n",
    "    mid = (lower + upper) / 2\n",
    "    midF = ebfPowerFunction(mid, nNodes, depth)\n",
    "    if midF < 0:\n",
    "        return mid, upper\n",
    "    elif midF > 0:\n",
    "        return lower, mid\n",
    "    else: # soln found\n",
    "        return mid, mid\n",
    "\n",
    "# Problem function definitions\n",
    "\n",
    "def findBlank_8p(state):\n",
    "    \"\"\"return the row and column index for the location of the\n",
    "    blank (the 0 value)\n",
    "    \"\"\"\n",
    "    index = state.index(0)\n",
    "    return index//3, index%3\n",
    "\n",
    "def actionsF_8p(state):\n",
    "    \"\"\"returns a list of up to four valid actions that can be applied in state.\n",
    "    Return them in the order left, right, up, down, though only if each one is\n",
    "    a valid action.\n",
    "    \"\"\"\n",
    "    ret_value = []\n",
    "    r, c = findBlank_8p(state)\n",
    "    if c != 0:\n",
    "        ret_value.append((\"left\", 1))\n",
    "    if c != 2:\n",
    "        ret_value.append((\"right\", 1))\n",
    "    if r != 0:\n",
    "        ret_value.append((\"up\", 1))\n",
    "    if r != 2:\n",
    "        ret_value.append((\"down\", 1))\n",
    "    return ret_value\n",
    "\n",
    "def takeActionF_8p(state, action):\n",
    "    \"\"\"Return the state that results from applying action in state.\"\"\"\n",
    "    newState = state.copy()\n",
    "    r, c = findBlank_8p(newState)\n",
    "    zero_index = r*3 + c\n",
    "    swap_index = zero_index\n",
    "    cost = action[1]\n",
    "    action = action[0]\n",
    "    if action == \"left\":\n",
    "        swap_index -= 1\n",
    "    elif action == \"right\":\n",
    "        swap_index += 1\n",
    "    elif action == \"up\":\n",
    "        swap_index -= 3\n",
    "    elif action == \"down\":\n",
    "        swap_index += 3\n",
    "    newState[zero_index] = newState[swap_index]\n",
    "    newState[swap_index] = 0\n",
    "    return (newState, cost)\n",
    "\n",
    "def goalTestF_8p(state, goal):\n",
    "    return state==goal\n",
    "\n",
    "# Heuristic Functions\n",
    "\n",
    "def h1_8p(state, goal):\n",
    "    \"\"\"h(state,goal)=0, for all states state and all goal states goal,\"\"\"\n",
    "    return 0\n",
    "\n",
    "def h2_8p(state, goal):\n",
    "    \"\"\"h(state,goal)=m, where m is the Manhattan distance that the blank is\n",
    "    from its goal position,\n",
    "    \"\"\"\n",
    "    rs, cs = findBlank_8p(state)\n",
    "    rg, cg = findBlank_8p(goal)\n",
    "    return abs(rg - rs) + abs(cg - cs)\n",
    "\n",
    "def h3_8p(state, goal):\n",
    "    \"\"\"The other two heuristics are pretty bad, so I'll make a good one. I read\n",
    "    the book, so I don't want to copy those, but I'll do something similar.\n",
    "    Instead of Manhattan distance, I'll use Euclidean. Triangle inequality says\n",
    "    that the book's heuristic is greater than or equal to mine, and therefore\n",
    "    dominates it. As such, mine is also admissible. This heuristic loses on\n",
    "    functionality though being more complex.\n",
    "\n",
    "    There's also a thing about not making heuristics map to the set of real\n",
    "    numbers, but that doesn't apply here since the smallest non zero value\n",
    "    my heuristic could return is 1, and the cost to goal state isn't infinite.\n",
    "    \"\"\"\n",
    "    dist = 0\n",
    "    for i in state:\n",
    "        if i == 0: continue # including zero would violate admissible\n",
    "        rs,cs = i//3, i%3\n",
    "        index = goal.index(i)\n",
    "        rg,cg = index//3, index%3\n",
    "        #dist += sqrt(abs(rg - rs)**2 + abs(cg - cs)**2)\n",
    "        dist += abs(rg - rs) + abs(cg - cs)\n",
    "        return dist\n",
    "\n",
    "# Comparison\n",
    "\n",
    "def runExperimentRender(goalResults):\n",
    "    dataMatrix = [[] for _ in range(len(goalResults[0]))]\n",
    "    for goal in goalResults:\n",
    "        for i, alg in enumerate(goal):\n",
    "            nodes, depth, time = alg\n",
    "            dataMatrix[i].extend([depth, nodes, ebf(nodes, depth), time])\n",
    "    return dataMatrix\n",
    "\n",
    "def runExperiment(goalState1, goalState2, goalState3, hFs,\n",
    "        initialState = [1, 2, 3, 4, 0, 5, 6, 7, 8],\n",
    "        maxDepth = 15):\n",
    "    \"\"\"Prints goal state as pandas DataFrame\"\"\"\n",
    "    global globalNodes\n",
    "    goalResults = []\n",
    "    goalStates = [goalState1, goalState2, goalState3]\n",
    "    for goalState in goalStates:\n",
    "        globalNodes = 1\n",
    "        start = time.time()\n",
    "        idsRes = iterativeDeepeningSearch(initialState,\n",
    "                goalState,\n",
    "                actionsF_8p,\n",
    "                takeActionF_8p,\n",
    "                maxDepth)\n",
    "        end = time.time()\n",
    "        nodes = globalNodes\n",
    "        if not isinstance(idsRes, str):\n",
    "            depth = len(idsRes) - 1\n",
    "        else:\n",
    "            depth = 0\n",
    "        results = [(nodes, depth, end-start)]\n",
    "        aStarRes = []\n",
    "        for hF in hFs:\n",
    "            globalNodes = 0\n",
    "            start = time.time()\n",
    "            res = aStarSearch(initialState,\n",
    "                    lambda s : actionsF_8p(s),\n",
    "                    takeActionF_8p,\n",
    "                    lambda s : goalTestF_8p(s, goalState),\n",
    "                    lambda s : hF(s, goalState))\n",
    "            end = time.time()\n",
    "            nodes = globalNodes\n",
    "            depth = res[1]\n",
    "            aStarRes.append((nodes, depth, end-start))\n",
    "        results.extend(aStarRes)\n",
    "        goalResults.append(results)\n",
    "        #goalResults = [goal[alg(path, time), alg...], goal...]\n",
    "    dataMatrix = runExperimentRender(goalResults)\n",
    "    algsStr = ['IDS']\n",
    "    for i in range(1, len(hFs)+1):\n",
    "        algsStr.append('A*h{}'.format(i))\n",
    "    df = renderResultsAsPd(algsStr, goalStates, dataMatrix)\n",
    "    print(df)\n",
    "\n",
    "def renderResultsAsPd(algs, goalStates, dataMatrix):\n",
    "    \"\"\"Renders results of algorithms as pandas.DataFrame.\n",
    "    \n",
    "    Args:\n",
    "        algs - a list of the names of algorithms as strings\n",
    "        goalStates - a list of goal states as lists\n",
    "        dataMatrix - the data matrix with algorthims as columns and\n",
    "                depth/node/ebf/time as columns\n",
    "    \n",
    "    https://stackoverflow.com/questions/32370402/giving-a-column-multiple-indexes-headers\n",
    "    This link helped me understand pandas enough to write this function.\n",
    "    \"\"\"\n",
    "    goalStatesStr = [str(x) for x in goalStates]\n",
    "    subHeader = ['Depth','Nodes','EBF', 'Time (s)']\n",
    "    header = pd.MultiIndex.from_product([goalStatesStr, subHeader],\n",
    "                                        names=['Initial State','Algorithm'])\n",
    "    return pd.DataFrame(dataMatrix, index=algs, columns=header)"
   ]
  },
  {
   "cell_type": "markdown",
   "metadata": {},
   "source": [
    "Here is a simple example using our usual simple graph search."
   ]
  },
  {
   "cell_type": "code",
   "execution_count": 2,
   "metadata": {},
   "outputs": [],
   "source": [
    "def actionsF_simple(state):\n",
    "    succs = {'a': ['b', 'c'], 'b':['a'], 'c':['h'], 'h':['i'], 'i':['j', 'k', 'l'], 'k':['z']}\n",
    "    return [(s, 1) for s in succs.get(state, [])]\n",
    "\n",
    "def takeActionF_simple(state, action):\n",
    "    return action\n",
    "\n",
    "def goalTestF_simple(state, goal):\n",
    "    return state == goal\n",
    "\n",
    "def h_simple(state, goal):\n",
    "    return 1"
   ]
  },
  {
   "cell_type": "code",
   "execution_count": 3,
   "metadata": {},
   "outputs": [
    {
     "data": {
      "text/plain": [
       "[('b', 1), ('c', 1)]"
      ]
     },
     "execution_count": 3,
     "metadata": {},
     "output_type": "execute_result"
    }
   ],
   "source": [
    "actions = actionsF_simple('a')\n",
    "actions"
   ]
  },
  {
   "cell_type": "code",
   "execution_count": 4,
   "metadata": {},
   "outputs": [
    {
     "data": {
      "text/plain": [
       "('b', 1)"
      ]
     },
     "execution_count": 4,
     "metadata": {},
     "output_type": "execute_result"
    }
   ],
   "source": [
    "takeActionF_simple('a', actions[0])"
   ]
  },
  {
   "cell_type": "code",
   "execution_count": 5,
   "metadata": {},
   "outputs": [
    {
     "data": {
      "text/plain": [
       "True"
      ]
     },
     "execution_count": 5,
     "metadata": {},
     "output_type": "execute_result"
    }
   ],
   "source": [
    "goalTestF_simple('a', 'a')"
   ]
  },
  {
   "cell_type": "code",
   "execution_count": 6,
   "metadata": {},
   "outputs": [
    {
     "data": {
      "text/plain": [
       "1"
      ]
     },
     "execution_count": 6,
     "metadata": {},
     "output_type": "execute_result"
    }
   ],
   "source": [
    "h_simple('a', 'z')"
   ]
  },
  {
   "cell_type": "code",
   "execution_count": 7,
   "metadata": {},
   "outputs": [
    {
     "data": {
      "text/plain": [
       "['a', 'c', 'h', 'i', 'k', 'z']"
      ]
     },
     "execution_count": 7,
     "metadata": {},
     "output_type": "execute_result"
    }
   ],
   "source": [
    "iterativeDeepeningSearch('a', 'z', actionsF_simple, takeActionF_simple, 10)"
   ]
  },
  {
   "cell_type": "code",
   "execution_count": 8,
   "metadata": {},
   "outputs": [
    {
     "data": {
      "text/plain": [
       "(['a', 'c', 'h', 'i', 'k', 'z'], 5)"
      ]
     },
     "execution_count": 8,
     "metadata": {},
     "output_type": "execute_result"
    }
   ],
   "source": [
    "aStarSearch('a',actionsF_simple, takeActionF_simple,\n",
    "            lambda s: goalTestF_simple(s, 'z'),\n",
    "            lambda s: h_simple(s, 'z'))"
   ]
  },
  {
   "cell_type": "code",
   "execution_count": 12,
   "metadata": {
    "scrolled": false
   },
   "outputs": [
    {
     "name": "stdout",
     "output_type": "stream",
     "text": [
      "Initial State [1, 2, 3, 4, 0, 5, 6, 7, 8]                       \\\n",
      "Algorithm                           Depth Nodes  EBF  Time (s)   \n",
      "IDS                                     0     1  1.0  0.000005   \n",
      "A*h1                                    0     1  1.0  0.000028   \n",
      "A*h2                                    0     1  1.0  0.000012   \n",
      "A*h3                                    0     1  1.0  0.000007   \n",
      "\n",
      "Initial State [1, 2, 3, 4, 5, 8, 6, 0, 7]                            \\\n",
      "Algorithm                           Depth Nodes       EBF  Time (s)   \n",
      "IDS                                     3    44  3.115356  0.000085   \n",
      "A*h1                                    3   117  4.504639  0.000534   \n",
      "A*h2                                    3    52  3.322144  0.000254   \n",
      "A*h3                                    3   117  4.504639  0.000661   \n",
      "\n",
      "Initial State [1, 0, 3, 4, 5, 8, 2, 6, 7]                              \n",
      "Algorithm                           Depth   Nodes       EBF  Time (s)  \n",
      "IDS                                    11  225851  2.958679  0.330619  \n",
      "A*h1                                   11  643247  3.271672  2.169867  \n",
      "A*h2                                   11  100047  2.735293  0.416985  \n",
      "A*h3                                   11  553581  3.218977  2.181456  \n"
     ]
    }
   ],
   "source": [
    "goalStates = [\n",
    "    [1, 2, 3, 4, 0, 5, 6, 7, 8], [1, 2, 3, 4, 5, 8, 6, 0, 7], [1, 0, 3, 4, 5, 8, 2, 6, 7] \n",
    "]\n",
    "runExperiment(goalStates[0], goalStates[1], goalStates[2], [h1_8p, h2_8p, h3_8p])"
   ]
  },
  {
   "cell_type": "markdown",
   "metadata": {},
   "source": [
    "## Grading"
   ]
  },
  {
   "cell_type": "markdown",
   "metadata": {},
   "source": [
    "<font color=\"red\">UPDATED Sept 24</font> Download [A3grader.tar](http://www.cs.colostate.edu/~anderson/cs440/notebooks/A3grader.tar) and extract A3grader.py from it."
   ]
  },
  {
   "cell_type": "code",
   "execution_count": 10,
   "metadata": {},
   "outputs": [
    {
     "name": "stdout",
     "output_type": "stream",
     "text": [
      "\n",
      "======================= Code Execution =======================\n",
      "\n",
      "Extracting python code from notebook named 'Wilson-A3.ipynb' and storing in notebookcode.py\n",
      "Removing all statements that are not function or class defs or import statements.\n",
      "\n",
      "Testing actionsF_8p([1, 2, 3, 4, 5, 6, 7, 0, 8])\n",
      "\n",
      "--- 5/5 points. Your actionsF_8p correctly returned [('left', 1), ('right', 1), ('up', 1)]\n",
      "\n",
      "Testing takeActionF_8p([1, 2, 3, 4, 5, 6, 7, 0, 8], (up, 1))\n",
      "\n",
      "--- 5/5 points. Your takeActionsF_8p correctly returned ([1, 2, 3, 4, 0, 6, 7, 5, 8], 1)\n",
      "\n",
      "Testing goalTestF_8p([1, 2, 3, 4, 5, 6, 7, 0, 8], [1, 2, 3, 4, 5, 6, 7, 0, 8])\n",
      "\n",
      "--- 5/5 points. Your goalTestF_8p correctly True\n",
      "\n",
      "Testing aStarSearch(1, 2, 3, 4, 5, 6, 7, 0, 8],\n",
      "                     actionsF_8p, takeActionF_8p,\n",
      "                     lambda s: goalTestF_8p(s, [0, 2, 3, 1, 4,  6, 7, 5, 8]),\n",
      "                     lambda s: h1_8p(s, [0, 2, 3, 1, 4,  6, 7, 5, 8]))\n",
      "\n",
      "--- 20/20 points. Your search correctly returned ([[1, 2, 3, 4, 5, 6, 7, 0, 8], [1, 2, 3, 4, 0, 6, 7, 5, 8], [1, 2, 3, 0, 4, 6, 7, 5, 8], [0, 2, 3, 1, 4, 6, 7, 5, 8]], 3)\n",
      "\n",
      "Testing iterativeDeepeningSearch([1, 2, 3, 4, 5, 6, 7, 0, 8], \n",
      "                                 [0, 2, 3, 1, 4,  6, 7, 5, 8],\n",
      "                                 actionsF_8p, takeActionF_8p, 10)\n",
      "\n",
      "--- 15/15 points. Your search correctly returned [[1, 2, 3, 4, 5, 6, 7, 0, 8], [1, 2, 3, 4, 0, 6, 7, 5, 8], [1, 2, 3, 0, 4, 6, 7, 5, 8], [0, 2, 3, 1, 4, 6, 7, 5, 8]]\n",
      "\n",
      "Testing iterativeDeepeningSearch([5, 2, 8, 0, 1, 4, 3, 7, 6], \n",
      "                                 [0, 2, 3, 1, 4,  6, 7, 5, 8],\n",
      "                                 actionsF_8p, takeActionF_8p, 10)\n",
      "\n",
      "--- 15/15 points. Your search correctly returned cutoff\n",
      "\n",
      "Testing ebf(200, 6, 0.1)\n",
      "\n",
      "--- 15/15 points. Your call to ebf correctly returned 2.26318359375\n",
      "\n",
      "a3 Grade is 80/80\n",
      "\n",
      "Up to 20 more points will be given based on the quality of your descriptions of the method and the results.\n"
     ]
    }
   ],
   "source": [
    "%run -i A3grader.py"
   ]
  }
 ],
 "metadata": {
  "anaconda-cloud": {},
  "kernelspec": {
   "display_name": "Python 3",
   "language": "python",
   "name": "python3"
  },
  "language_info": {
   "codemirror_mode": {
    "name": "ipython",
    "version": 3
   },
   "file_extension": ".py",
   "mimetype": "text/x-python",
   "name": "python",
   "nbconvert_exporter": "python",
   "pygments_lexer": "ipython3",
   "version": "3.7.0"
  }
 },
 "nbformat": 4,
 "nbformat_minor": 2
}
