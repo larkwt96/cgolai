{
 "cells": [
  {
   "cell_type": "markdown",
   "metadata": {},
   "source": [
    "# Assignment 1: Uninformed Search"
   ]
  },
  {
   "cell_type": "markdown",
   "metadata": {},
   "source": [
    "*Lucas Wilson*"
   ]
  },
  {
   "cell_type": "markdown",
   "metadata": {},
   "source": [
    "# Building The Tree Search Function\n",
    "## Helper functions for Tree Search <a id='helpers'></a>"
   ]
  },
  {
   "cell_type": "code",
   "execution_count": 1,
   "metadata": {},
   "outputs": [],
   "source": [
    "def removeVisitedNodes(children, expanded, unExpanded):\n",
    "    \"\"\" Given a list of children, the expanded dictionary, and the unExpanded\n",
    "    list of child-parent tuples, return a list of children not in expanded or\n",
    "    unExpanded.\n",
    "\n",
    "    Args:\n",
    "        children(list):\n",
    "        expanded(dict):\n",
    "        unExpanded(list(tuple)):\n",
    "    \"\"\"\n",
    "    if len(children) == 0:\n",
    "        return children\n",
    "    visited = set(expanded.keys())\n",
    "    for e in unExpanded:\n",
    "        visited.add(e[0])\n",
    "    return list(filter(lambda child: child not in visited, children))"
   ]
  },
  {
   "cell_type": "markdown",
   "metadata": {},
   "source": [
    "This method is given three arguments and returns successor nodes filtered by already visited nodes.\n",
    "\n",
    "### The Arguments\n",
    "\n",
    "* `children` - the list of successors of the current state (from successorsf)\n",
    "* `expanded` - the dictionary of already expanded nodes\n",
    "* `unExpanded` - the list of two dimensional tuples (child, parent)\n",
    "\n",
    "### The Outline\n",
    "\n",
    "1. If `children` is empty, there is no filtering to be done.\n",
    "1. Next, we build the `visited` set of visited nodes. It is initialized with the nodes from `expanded`. A set is used since `insert` and `is element of` methods are $O(log(n))$.\n",
    "1. Add children contained in `unExpanded` to the `visited` set.\n",
    "1. Finally, any elements in `children` also in the newly built `visited` set are removed using `newList = list(filter(filterFunction, oldList))` which will create a new list of the elements from `oldList` such that when passed to `filterFunction`, it returns true. In other words, $newList = \\{e \\in oldList : filterFunction(e)\\}$ where $newList$ is an ordered set represented by a `list` in python.\n",
    "1. The resultant list is returned."
   ]
  },
  {
   "cell_type": "markdown",
   "metadata": {},
   "source": [
    "## Graph Search Method"
   ]
  },
  {
   "cell_type": "code",
   "execution_count": 2,
   "metadata": {},
   "outputs": [],
   "source": [
    "def treeSearch(startState, goalState, successorsf, breadthFirst):\n",
    "    \"\"\"Solves the problem by finding a path from startState to goalState with\n",
    "    edges defined by successorsf. Will use breadth first or depth first\n",
    "    depending on specification.\n",
    "\n",
    "    Args:\n",
    "        startState(object): initial state (can be any type)\n",
    "        goalState(object): goal state (should have same type as startState)\n",
    "        successorsf(function): action function\n",
    "        breadthFirst(bool): breadth vs depth first toggle\n",
    "    \"\"\"\n",
    "    expanded = {}\n",
    "    unExpanded = [(startState, None)] # queue with end as top\n",
    "\n",
    "    # trivial case\n",
    "    if startState == goalState:\n",
    "        return [startState]\n",
    "\n",
    "    while unExpanded:\n",
    "        state, parent = unExpanded.pop()\n",
    "        children = successorsf(state)\n",
    "        expanded[state] = parent\n",
    "        children = removeVisitedNodes(children, expanded, unExpanded)\n",
    "        if goalState in children:\n",
    "            # this is backwards so I can push instead of shift an array\n",
    "            # I guess I could use timeit to see if it's faster..\n",
    "            solution = [goalState, state]\n",
    "            while parent:\n",
    "                solution.append(parent) # push\n",
    "                parent = expanded[parent]\n",
    "            solution.reverse()\n",
    "            return solution\n",
    "        children.sort()\n",
    "        children.reverse()\n",
    "        children = [(e, state) for e in children]\n",
    "        if breadthFirst: # breadth first enqueues to bottom\n",
    "            unExpanded = children + unExpanded\n",
    "        else: # depth first pushes to top\n",
    "            unExpanded = unExpanded + children\n",
    "\n",
    "    # post: tree has been traversed, but no solution has been found.\n",
    "    return \"Goal not found\""
   ]
  },
  {
   "cell_type": "markdown",
   "metadata": {},
   "source": [
    "### The Function Declaration\n",
    "```python\n",
    "def treeSearch(startState, goalState, successorsf, breadthFirst):\n",
    "```\n",
    "\n",
    "The function declaration. This method solves graph search problems where `startState` is the initial node, `goalState` is the goal node, and `successorsf` is a function to define paths between nodes. `breadthFirst` will specify which tree traversal method to use, breadth first or depth first.\n",
    "\n",
    "The method is supposed to be a tree search algorithm, but since it keeps track of visited nodes and detects cycles, it is therefore a graph search method.\n",
    "\n",
    "#### The Arguments\n",
    "\n",
    "* `startState` - The initial state of the problem\n",
    "* `goalState` - The goal state of the problem\n",
    "* `successorsf` - The definition of successors to define the graph.\n",
    "* `breadthFirst` - What type of tree search to use, breadth first or depth first."
   ]
  },
  {
   "cell_type": "markdown",
   "metadata": {},
   "source": [
    "### Initialization\n",
    "```python\n",
    "    expanded = {}\n",
    "    unExpanded = [(startState, None)] # queue with end as top\n",
    "```\n",
    "\n",
    "The difference between breadth first and depth first lies within how the queue `unExpanded` is used. It is a queue so therefore has methods to push, pop, peek, and check if it's empty. pop, peek and isEmpty all function the same between breadth-first and depth-first, but push will function differently.\n",
    "\n",
    "In breadth first search, new nodes are pushed to the back of the queue. In depth first search, new nodes are pushed to the end of the queue. \n",
    "\n",
    "* $[bottom, ..., top]$ before $new$ is added\n",
    "* $[{\\bf new}, bottom, ..., top]$ is breadth-first\n",
    "* $[bottom, ..., top, {\\bf new}]$ is depth-first"
   ]
  },
  {
   "cell_type": "markdown",
   "metadata": {},
   "source": [
    "### The Trivial Case\n",
    "```python\n",
    "    if startState == goalState:\n",
    "        return [startState]\n",
    "```\n",
    "\n",
    "Handling this trivial case saves computation time and allows us to assume that the goal will be one of the descendants as opposed to the currently selected node. With that assumption, we can create the following. "
   ]
  },
  {
   "cell_type": "markdown",
   "metadata": {},
   "source": [
    "### The While Loop Traversal\n",
    "```python\n",
    "    while unExpanded:\n",
    "```\n",
    "Here, we are checking if the queue is empty. While the queue is not empty, there are still nodes to explore in the search for the goal. If the queue is empty, then the goal was not found and all descendants have been traversed. See [below](#goal_not_found)."
   ]
  },
  {
   "cell_type": "markdown",
   "metadata": {},
   "source": [
    "```python\n",
    "        state, parent = unExpanded.pop()\n",
    "```\n",
    "This allows us to explore the current node. The top of the queue is the end, so pop is the correct method here."
   ]
  },
  {
   "cell_type": "markdown",
   "metadata": {},
   "source": [
    "```python\n",
    "        children = successorsf(state)\n",
    "        expanded[state] = parent\n",
    "        children = removeVisitedNodes(children, expanded, unExpanded)\n",
    "```\n",
    "First, we use the `successorsf` function to identify successors of the current state. Next, we record the child-parent relationship, so the solution path can be rebuilt later. We store these relationships in `expanded`. Finally, we remove all visited nodes using `removeVisitedNodes` defined [here](#helpers) from the successors so that we can avoid cycles. This specification makes this tree search algorithm a graph search algorithm."
   ]
  },
  {
   "cell_type": "markdown",
   "metadata": {},
   "source": [
    "```python\n",
    "        if goalState in children:\n",
    "```\n",
    "In this part of the code, we are handling the case where the goal state shows up in one of the descendants. We initialize the solution"
   ]
  },
  {
   "cell_type": "markdown",
   "metadata": {},
   "source": [
    "```python\n",
    "            solution = [goalState, state]\n",
    "            while parent:\n",
    "                solution.append(parent) # push\n",
    "                parent = expanded[parent]\n",
    "            solution.reverse()\n",
    "            return solution\n",
    "```\n",
    "We initialize `solution` as a list containing the goalState followed by the state. Notice that the solution is backwards: since we plan to trace the tree backwards using `expanded` appending nodes as we go, we are going to append to `solution`. Appending to an array is faster than adding it to the beginning. Finally, we reverse the solution path and return it."
   ]
  },
  {
   "cell_type": "markdown",
   "metadata": {},
   "source": [
    "```python\n",
    "        children.sort()\n",
    "        children.reverse()\n",
    "        children = [(e, state) for e in children]\n",
    "```\n",
    "This is specification of the assignment to standardize the path traversal. We sort the children, reverse them, and then refactor them then as tuple pairs of `(child, parent)` in a list."
   ]
  },
  {
   "cell_type": "markdown",
   "metadata": {},
   "source": [
    "```python\n",
    "        if breadthFirst: # breadth first enqueues to bottom\n",
    "            unExpanded = children + unExpanded\n",
    "        else: # depth first pushes to top\n",
    "            unExpanded = unExpanded + children\n",
    "```\n",
    "Once `children` is formatted, we can insert the children into the queue. As stated above, this is where the difference between breadth-first and depth-first search lies:\n",
    "* Breadth-first search uses a fifo queue where new elements, i.e. `children`, are added to the end of the queue (in `unExpanded`'s case, the front of the list).\n",
    "* Depth-first search uses a filo queue where new elements, i.e. `children`, are added to the top of the queue (in `unExpanded`'s case, the end of the list)."
   ]
  },
  {
   "cell_type": "markdown",
   "metadata": {},
   "source": [
    "### Goal Not Found<a id='goal_not_found'></a>\n",
    "```python\n",
    "    return \"Goal not found\"\n",
    "```\n",
    "If unExpanded is empty, then all descendants have been traversed yet the goal hasn't been found. Thus, no solution can be found, so we return `\"Goal not found\"` instead of a list containing the solution path."
   ]
  },
  {
   "cell_type": "markdown",
   "metadata": {},
   "source": [
    "## Depth and Breadth First Tree Search Variation"
   ]
  },
  {
   "cell_type": "code",
   "execution_count": 3,
   "metadata": {},
   "outputs": [],
   "source": [
    "def breadthFirstSearch(startState, goalState, successorsf):\n",
    "    return treeSearch(startState, goalState, successorsf, True)\n",
    "\n",
    "def depthFirstSearch(startState, goalState, successorsf):\n",
    "    return treeSearch(startState, goalState, successorsf, False)"
   ]
  },
  {
   "cell_type": "markdown",
   "metadata": {},
   "source": [
    "Simply uses the tree search specifying whether it is breadth-first or depth-first."
   ]
  },
  {
   "cell_type": "markdown",
   "metadata": {},
   "source": [
    "## Tree Demonstration"
   ]
  },
  {
   "cell_type": "markdown",
   "metadata": {},
   "source": [
    "Here is a simple example.  States are defined by lower case letters.  A dictionary stores a list of successor states for each state in the graph that has successors."
   ]
  },
  {
   "cell_type": "code",
   "execution_count": 4,
   "metadata": {},
   "outputs": [
    {
     "data": {
      "text/plain": [
       "{'a': ['b', 'c', 'd'],\n",
       " 'b': ['e', 'f', 'g'],\n",
       " 'c': ['a', 'h', 'i'],\n",
       " 'd': ['j', 'z'],\n",
       " 'e': ['k', 'l'],\n",
       " 'g': ['m'],\n",
       " 'k': ['z']}"
      ]
     },
     "execution_count": 4,
     "metadata": {},
     "output_type": "execute_result"
    }
   ],
   "source": [
    "successors = {'a':  ['b', 'c', 'd'],\n",
    "              'b':  ['e', 'f', 'g'],\n",
    "              'c':  ['a', 'h', 'i'],\n",
    "              'd':  ['j', 'z'],\n",
    "              'e':  ['k', 'l'],\n",
    "              'g':  ['m'],\n",
    "              'k':  ['z']}\n",
    "successors"
   ]
  },
  {
   "cell_type": "code",
   "execution_count": 5,
   "metadata": {},
   "outputs": [],
   "source": [
    "import copy\n",
    "\n",
    "def successorsf(state):\n",
    "    return copy.copy(successors.get(state, []))"
   ]
  },
  {
   "cell_type": "code",
   "execution_count": 6,
   "metadata": {},
   "outputs": [
    {
     "data": {
      "text/plain": [
       "['k', 'l']"
      ]
     },
     "execution_count": 6,
     "metadata": {},
     "output_type": "execute_result"
    }
   ],
   "source": [
    "successorsf('e')"
   ]
  },
  {
   "cell_type": "code",
   "execution_count": 7,
   "metadata": {},
   "outputs": [
    {
     "name": "stdout",
     "output_type": "stream",
     "text": [
      "Breadth-first\n",
      "path from a to a is ['a']\n",
      "path from a to m is ['a', 'b', 'g', 'm']\n",
      "path from a to z is ['a', 'd', 'z']\n"
     ]
    }
   ],
   "source": [
    "print('Breadth-first')\n",
    "print('path from a to a is', breadthFirstSearch('a', 'a', successorsf))\n",
    "print('path from a to m is', breadthFirstSearch('a', 'm', successorsf))\n",
    "print('path from a to z is', breadthFirstSearch('a', 'z', successorsf))"
   ]
  },
  {
   "cell_type": "code",
   "execution_count": 8,
   "metadata": {},
   "outputs": [
    {
     "name": "stdout",
     "output_type": "stream",
     "text": [
      "Depth-first\n",
      "path from a to a is ['a']\n",
      "path from a to m is ['a', 'b', 'g', 'm']\n",
      "path from a to z is ['a', 'b', 'e', 'k', 'z']\n"
     ]
    }
   ],
   "source": [
    "print('Depth-first')\n",
    "print('path from a to a is', depthFirstSearch('a', 'a', successorsf))\n",
    "print('path from a to m is', depthFirstSearch('a', 'm', successorsf))\n",
    "print('path from a to z is', depthFirstSearch('a', 'z', successorsf))"
   ]
  },
  {
   "cell_type": "markdown",
   "metadata": {},
   "source": [
    "Let's try a navigation problem around a grid of size 10 x 10. Rows and columns will be indexed from 0 to 9.\n",
    "\n",
    "The following function takes the input state and returns all possible states."
   ]
  },
  {
   "cell_type": "markdown",
   "metadata": {},
   "source": [
    "## Graph-Grid Demonstration"
   ]
  },
  {
   "cell_type": "code",
   "execution_count": 9,
   "metadata": {},
   "outputs": [],
   "source": [
    "def gridSuccessors(state):\n",
    "    row, col = state\n",
    "    # succs will be list of tuples () rather than list of lists [] because state must\n",
    "    # be an immutable type to serve as a key in dictionary of expanded nodes\n",
    "    succs = []\n",
    "    for r in [-1, 0, 1]:   #check each row\n",
    "        for c in [-1, 0, 1]:  # check in each col\n",
    "            newr = row + r\n",
    "            newc = col + c\n",
    "            if 0 <= newr <= 9 and 0 <= newc <= 9:  \n",
    "                succs.append( (newr, newc) )\n",
    "    return succs"
   ]
  },
  {
   "cell_type": "code",
   "execution_count": 10,
   "metadata": {},
   "outputs": [
    {
     "data": {
      "text/plain": [
       "[(2, 3), (2, 4), (2, 5), (3, 3), (3, 4), (3, 5), (4, 3), (4, 4), (4, 5)]"
      ]
     },
     "execution_count": 10,
     "metadata": {},
     "output_type": "execute_result"
    }
   ],
   "source": [
    "gridSuccessors([3,4])"
   ]
  },
  {
   "cell_type": "code",
   "execution_count": 11,
   "metadata": {},
   "outputs": [
    {
     "data": {
      "text/plain": [
       "[(2, 8), (2, 9), (3, 8), (3, 9), (4, 8), (4, 9)]"
      ]
     },
     "execution_count": 11,
     "metadata": {},
     "output_type": "execute_result"
    }
   ],
   "source": [
    "gridSuccessors([3,9])"
   ]
  },
  {
   "cell_type": "code",
   "execution_count": 12,
   "metadata": {},
   "outputs": [
    {
     "data": {
      "text/plain": [
       "[(0, 0), (0, 1), (1, 0), (1, 1)]"
      ]
     },
     "execution_count": 12,
     "metadata": {},
     "output_type": "execute_result"
    }
   ],
   "source": [
    "gridSuccessors([0,0])"
   ]
  },
  {
   "cell_type": "code",
   "execution_count": 13,
   "metadata": {},
   "outputs": [
    {
     "name": "stdout",
     "output_type": "stream",
     "text": [
      "Breadth-first\n",
      "path from (0, 0) to (9, 9) is [(0, 0), (1, 1), (2, 2), (3, 3), (4, 4), (5, 5), (6, 6), (7, 7), (8, 8), (9, 9)]\n"
     ]
    }
   ],
   "source": [
    "print('Breadth-first')\n",
    "print('path from (0, 0) to (9, 9) is', breadthFirstSearch((0, 0), (9, 9), gridSuccessors))"
   ]
  },
  {
   "cell_type": "code",
   "execution_count": 14,
   "metadata": {},
   "outputs": [
    {
     "name": "stdout",
     "output_type": "stream",
     "text": [
      "Depth-first\n",
      "path from (0, 0) to (9, 9) is [(0, 0), (0, 1), (0, 2), (0, 3), (0, 4), (0, 5), (0, 6), (0, 7), (0, 8), (1, 9), (2, 8), (2, 7), (2, 6), (2, 5), (2, 4), (2, 3), (2, 2), (2, 1), (3, 0), (4, 0), (5, 0), (6, 0), (7, 0), (8, 0), (9, 1), (8, 2), (7, 2), (6, 2), (5, 2), (4, 3), (4, 4), (4, 5), (4, 6), (4, 7), (4, 8), (5, 9), (6, 8), (6, 7), (6, 6), (6, 5), (7, 4), (8, 4), (9, 5), (8, 6), (8, 7), (8, 8), (9, 9)]\n"
     ]
    }
   ],
   "source": [
    "print('Depth-first')\n",
    "print('path from (0, 0) to (9, 9) is', depthFirstSearch((0, 0), (9, 9), gridSuccessors))"
   ]
  },
  {
   "cell_type": "markdown",
   "metadata": {},
   "source": [
    "Let's plot the paths."
   ]
  },
  {
   "cell_type": "code",
   "execution_count": 15,
   "metadata": {},
   "outputs": [
    {
     "data": {
      "text/plain": [
       "[(0, 0),\n",
       " (0, 1),\n",
       " (0, 2),\n",
       " (0, 3),\n",
       " (0, 4),\n",
       " (0, 5),\n",
       " (0, 6),\n",
       " (0, 7),\n",
       " (0, 8),\n",
       " (1, 9),\n",
       " (2, 8),\n",
       " (2, 7),\n",
       " (2, 6),\n",
       " (2, 5),\n",
       " (2, 4),\n",
       " (2, 3),\n",
       " (2, 2),\n",
       " (2, 1),\n",
       " (3, 0),\n",
       " (4, 0),\n",
       " (5, 0),\n",
       " (6, 0),\n",
       " (7, 0),\n",
       " (8, 0),\n",
       " (9, 1),\n",
       " (8, 2),\n",
       " (7, 2),\n",
       " (6, 2),\n",
       " (5, 2),\n",
       " (4, 3),\n",
       " (4, 4),\n",
       " (4, 5),\n",
       " (4, 6),\n",
       " (4, 7),\n",
       " (4, 8),\n",
       " (5, 9),\n",
       " (6, 8),\n",
       " (6, 7),\n",
       " (6, 6),\n",
       " (6, 5),\n",
       " (7, 4),\n",
       " (8, 4),\n",
       " (9, 5),\n",
       " (8, 6),\n",
       " (8, 7),\n",
       " (8, 8),\n",
       " (9, 9)]"
      ]
     },
     "execution_count": 15,
     "metadata": {},
     "output_type": "execute_result"
    }
   ],
   "source": [
    "path = depthFirstSearch((0, 0), (9, 9), gridSuccessors)\n",
    "path"
   ]
  },
  {
   "cell_type": "markdown",
   "metadata": {},
   "source": [
    "Now, we have the path to goal state. To plot this path we must extract the first value in each tuple and put them in a list called `rows` to use as the $y$ coordinate of each point, and build a second list called `cols` of second values."
   ]
  },
  {
   "cell_type": "code",
   "execution_count": 16,
   "metadata": {},
   "outputs": [],
   "source": [
    "import matplotlib.pyplot as plt\n",
    "%matplotlib inline"
   ]
  },
  {
   "cell_type": "code",
   "execution_count": 17,
   "metadata": {},
   "outputs": [
    {
     "data": {
      "image/png": "[encoded data removed]",
      "text/plain": [
       "<Figure size 432x288 with 1 Axes>"
      ]
     },
     "metadata": {},
     "output_type": "display_data"
    }
   ],
   "source": [
    "rows = [location[0] for location in path]\n",
    "cols = [location[1] for location in path]\n",
    "plt.plot(rows,cols,'o-');"
   ]
  },
  {
   "cell_type": "code",
   "execution_count": 18,
   "metadata": {},
   "outputs": [
    {
     "name": "stdout",
     "output_type": "stream",
     "text": [
      "[(0, 0), (1, 1), (2, 2), (3, 3), (4, 4), (5, 5), (6, 6), (7, 7), (8, 8), (9, 9)]\n"
     ]
    },
    {
     "data": {
      "image/png": "[encoded data removed]",
      "text/plain": [
       "<Figure size 432x288 with 1 Axes>"
      ]
     },
     "metadata": {},
     "output_type": "display_data"
    }
   ],
   "source": [
    "path = breadthFirstSearch((0, 0), (9, 9), gridSuccessors)\n",
    "print(path)\n",
    "rows = [location[0] for location in path]\n",
    "cols = [location[1] for location in path]\n",
    "plt.plot(rows,cols,'o-');"
   ]
  },
  {
   "cell_type": "code",
   "execution_count": 19,
   "metadata": {
    "scrolled": true
   },
   "outputs": [
    {
     "data": {
      "text/plain": [
       "'Goal not found'"
      ]
     },
     "execution_count": 19,
     "metadata": {},
     "output_type": "execute_result"
    }
   ],
   "source": [
    "depthFirstSearch((0, 0), (9, 20), gridSuccessors)"
   ]
  },
  {
   "cell_type": "markdown",
   "metadata": {},
   "source": [
    "# Camel Problem"
   ]
  },
  {
   "cell_type": "markdown",
   "metadata": {},
   "source": [
    "## Helper functions"
   ]
  },
  {
   "cell_type": "code",
   "execution_count": 27,
   "metadata": {},
   "outputs": [],
   "source": [
    "def moveCamel(state, camel, space):\n",
    "    \"\"\"swaps the camel index with the space index\"\"\"\n",
    "    state = list(state)\n",
    "    tmp = state[camel]\n",
    "    state[camel] = state[space]\n",
    "    state[space] = tmp\n",
    "    return tuple(state)"
   ]
  },
  {
   "cell_type": "markdown",
   "metadata": {},
   "source": [
    "This function is used by `camelSuccessorsf` and moves a camel into the open space."
   ]
  },
  {
   "cell_type": "code",
   "execution_count": 21,
   "metadata": {},
   "outputs": [],
   "source": [
    "def genCamelProb(n, R='R', S=' ', L='L'):\n",
    "    \"\"\"n is number of camels on each side\"\"\"\n",
    "    ret = [L]*n + [S] + [R]*n\n",
    "    rev = tuple(ret)\n",
    "    ret.reverse()\n",
    "    ret = tuple(ret)\n",
    "    return ret, rev"
   ]
  },
  {
   "cell_type": "markdown",
   "metadata": {},
   "source": [
    "This function can generate camel problems of size n. The normal problem is of size 4."
   ]
  },
  {
   "cell_type": "markdown",
   "metadata": {},
   "source": [
    "## Successors Function"
   ]
  },
  {
   "cell_type": "code",
   "execution_count": 22,
   "metadata": {},
   "outputs": [],
   "source": [
    "def camelSuccessorsf(state, S=' ', L='L', R='R'):\n",
    "    \"\"\"\n",
    "    Args:\n",
    "        state(list): a list of 'R', ' ', and 'L'. 'R' is a camel that can only\n",
    "                move right, 'L' is a camel that can only move left, ' ' is an\n",
    "                open space.\n",
    "        S(str): an alias for space, default ' '\n",
    "        L(str): an alias for left moving camel, default 'L'\n",
    "        R(str): an alias for right moving camel, default 'R'\n",
    "\n",
    "    Assumptions:\n",
    "    * \"...camels never go backwards....\" => R can't move left, and L can't move\n",
    "    right\n",
    "    * \"...camels will climb over each other, but only if there is a camel sized\n",
    "    space on the other side.\" => all camels within one or two squares from ' '\n",
    "    are able to move to the space as long as it doesn't violate the previous\n",
    "    rule.\n",
    "\n",
    "    Note: the problem doesn't require the camel be an L camel for them to climb\n",
    "    over. This allows an L jump over an L, which is equivalent to both moving\n",
    "    sequentially. Although equivalent, it raises those states in depth within\n",
    "    the search tree, so it could yield interesting results. Since it's\n",
    "    different than what the example assumes, I'll add a toggle to enable this\n",
    "    assumption.\n",
    "    \"\"\"\n",
    "    space = state.index(S)\n",
    "    children = []\n",
    "    if space-2 >= 0 and state[space-2] == R:\n",
    "        children.append(moveCamel(state, space-2, space))\n",
    "    if space-1 >= 0 and state[space-1] == R:\n",
    "        children.append(moveCamel(state, space-1, space))\n",
    "    if space+1 < len(state) and state[space+1] == L:\n",
    "        children.append(moveCamel(state, space+1, space))\n",
    "    if space+2 < len(state) and state[space+2] == L:\n",
    "        children.append(moveCamel(state, space+2, space))\n",
    "    return children"
   ]
  },
  {
   "cell_type": "markdown",
   "metadata": {},
   "source": [
    "## Demonstration\n",
    "### Initialization"
   ]
  },
  {
   "cell_type": "code",
   "execution_count": 34,
   "metadata": {},
   "outputs": [],
   "source": [
    "camelStartState, camelGoalState = genCamelProb(4)"
   ]
  },
  {
   "cell_type": "markdown",
   "metadata": {},
   "source": [
    "'R' represents a camel moving right, 'L' represents a camel moving left, and ' ' represents the camel sized space. This is what the initial state looks like:"
   ]
  },
  {
   "cell_type": "code",
   "execution_count": 36,
   "metadata": {},
   "outputs": [
    {
     "data": {
      "text/plain": [
       "('R', 'R', 'R', 'R', ' ', 'L', 'L', 'L', 'L')"
      ]
     },
     "execution_count": 36,
     "metadata": {},
     "output_type": "execute_result"
    }
   ],
   "source": [
    "camelStartState"
   ]
  },
  {
   "cell_type": "code",
   "execution_count": 30,
   "metadata": {},
   "outputs": [
    {
     "data": {
      "text/plain": [
       "[('R', 'R', ' ', 'R', 'R', 'L', 'L', 'L', 'L'),\n",
       " ('R', 'R', 'R', ' ', 'R', 'L', 'L', 'L', 'L'),\n",
       " ('R', 'R', 'R', 'R', 'L', ' ', 'L', 'L', 'L'),\n",
       " ('R', 'R', 'R', 'R', 'L', 'L', ' ', 'L', 'L')]"
      ]
     },
     "execution_count": 30,
     "metadata": {},
     "output_type": "execute_result"
    }
   ],
   "source": [
    "camelSuccessorsf(camelStartState)"
   ]
  },
  {
   "cell_type": "markdown",
   "metadata": {},
   "source": [
    "These are the successors of the initial state. Notice that there are four instead of two. The specification of the problem doesn't prevent a left-moving camel from climbing over another left-moving camel. This is equivalent to the left left-moving camel moving left followed by the right left-moving camel moving left, but it does this in a single move, which may change the solution space (it doesn't)."
   ]
  },
  {
   "cell_type": "code",
   "execution_count": 32,
   "metadata": {},
   "outputs": [
    {
     "name": "stdout",
     "output_type": "stream",
     "text": [
      "('R', 'R', ' ', 'R', 'R', 'L', 'L', 'L', 'L')\n"
     ]
    },
    {
     "data": {
      "text/plain": [
       "[(' ', 'R', 'R', 'R', 'R', 'L', 'L', 'L', 'L'),\n",
       " ('R', ' ', 'R', 'R', 'R', 'L', 'L', 'L', 'L')]"
      ]
     },
     "execution_count": 32,
     "metadata": {},
     "output_type": "execute_result"
    }
   ],
   "source": [
    "children = camelSuccessorsf(camelStartState)\n",
    "print(children[0])\n",
    "camelSuccessorsf(children[0])"
   ]
  },
  {
   "cell_type": "markdown",
   "metadata": {},
   "source": [
    "Going further, these are the successors of the first successor of the initial state. It shows the third camel from the left climbing over the fourth camel followed by either the left most camel climbing over the second left most or the second left most moving to the right.\n",
    "\n",
    "The full solutions are listed below. Interestingly, breadth and depth first searches find the same solution. Further, my altered successor function didn't locate different solutions from the example."
   ]
  },
  {
   "cell_type": "code",
   "execution_count": 33,
   "metadata": {},
   "outputs": [
    {
     "name": "stdout",
     "output_type": "stream",
     "text": [
      "Breadth-first solution: ( 25 steps)\n",
      "('R', 'R', 'R', 'R', ' ', 'L', 'L', 'L', 'L')\n",
      "('R', 'R', 'R', ' ', 'R', 'L', 'L', 'L', 'L')\n",
      "('R', 'R', 'R', 'L', 'R', ' ', 'L', 'L', 'L')\n",
      "('R', 'R', 'R', 'L', 'R', 'L', ' ', 'L', 'L')\n",
      "('R', 'R', 'R', 'L', ' ', 'L', 'R', 'L', 'L')\n",
      "('R', 'R', ' ', 'L', 'R', 'L', 'R', 'L', 'L')\n",
      "('R', ' ', 'R', 'L', 'R', 'L', 'R', 'L', 'L')\n",
      "('R', 'L', 'R', ' ', 'R', 'L', 'R', 'L', 'L')\n",
      "('R', 'L', 'R', 'L', 'R', ' ', 'R', 'L', 'L')\n",
      "('R', 'L', 'R', 'L', 'R', 'L', 'R', ' ', 'L')\n",
      "('R', 'L', 'R', 'L', 'R', 'L', 'R', 'L', ' ')\n",
      "('R', 'L', 'R', 'L', 'R', 'L', ' ', 'L', 'R')\n",
      "('R', 'L', 'R', 'L', ' ', 'L', 'R', 'L', 'R')\n",
      "('R', 'L', ' ', 'L', 'R', 'L', 'R', 'L', 'R')\n",
      "(' ', 'L', 'R', 'L', 'R', 'L', 'R', 'L', 'R')\n",
      "('L', ' ', 'R', 'L', 'R', 'L', 'R', 'L', 'R')\n",
      "('L', 'L', 'R', ' ', 'R', 'L', 'R', 'L', 'R')\n",
      "('L', 'L', 'R', 'L', 'R', ' ', 'R', 'L', 'R')\n",
      "('L', 'L', 'R', 'L', 'R', 'L', 'R', ' ', 'R')\n",
      "('L', 'L', 'R', 'L', 'R', 'L', ' ', 'R', 'R')\n",
      "('L', 'L', 'R', 'L', ' ', 'L', 'R', 'R', 'R')\n",
      "('L', 'L', ' ', 'L', 'R', 'L', 'R', 'R', 'R')\n",
      "('L', 'L', 'L', ' ', 'R', 'L', 'R', 'R', 'R')\n",
      "('L', 'L', 'L', 'L', 'R', ' ', 'R', 'R', 'R')\n",
      "('L', 'L', 'L', 'L', ' ', 'R', 'R', 'R', 'R')\n",
      "Depth-first solution: ( 25 steps)\n",
      "('R', 'R', 'R', 'R', ' ', 'L', 'L', 'L', 'L')\n",
      "('R', 'R', 'R', ' ', 'R', 'L', 'L', 'L', 'L')\n",
      "('R', 'R', 'R', 'L', 'R', ' ', 'L', 'L', 'L')\n",
      "('R', 'R', 'R', 'L', 'R', 'L', ' ', 'L', 'L')\n",
      "('R', 'R', 'R', 'L', ' ', 'L', 'R', 'L', 'L')\n",
      "('R', 'R', ' ', 'L', 'R', 'L', 'R', 'L', 'L')\n",
      "('R', ' ', 'R', 'L', 'R', 'L', 'R', 'L', 'L')\n",
      "('R', 'L', 'R', ' ', 'R', 'L', 'R', 'L', 'L')\n",
      "('R', 'L', 'R', 'L', 'R', ' ', 'R', 'L', 'L')\n",
      "('R', 'L', 'R', 'L', 'R', 'L', 'R', ' ', 'L')\n",
      "('R', 'L', 'R', 'L', 'R', 'L', 'R', 'L', ' ')\n",
      "('R', 'L', 'R', 'L', 'R', 'L', ' ', 'L', 'R')\n",
      "('R', 'L', 'R', 'L', ' ', 'L', 'R', 'L', 'R')\n",
      "('R', 'L', ' ', 'L', 'R', 'L', 'R', 'L', 'R')\n",
      "(' ', 'L', 'R', 'L', 'R', 'L', 'R', 'L', 'R')\n",
      "('L', ' ', 'R', 'L', 'R', 'L', 'R', 'L', 'R')\n",
      "('L', 'L', 'R', ' ', 'R', 'L', 'R', 'L', 'R')\n",
      "('L', 'L', 'R', 'L', 'R', ' ', 'R', 'L', 'R')\n",
      "('L', 'L', 'R', 'L', 'R', 'L', 'R', ' ', 'R')\n",
      "('L', 'L', 'R', 'L', 'R', 'L', ' ', 'R', 'R')\n",
      "('L', 'L', 'R', 'L', ' ', 'L', 'R', 'R', 'R')\n",
      "('L', 'L', ' ', 'L', 'R', 'L', 'R', 'R', 'R')\n",
      "('L', 'L', 'L', ' ', 'R', 'L', 'R', 'R', 'R')\n",
      "('L', 'L', 'L', 'L', 'R', ' ', 'R', 'R', 'R')\n",
      "('L', 'L', 'L', 'L', ' ', 'R', 'R', 'R', 'R')\n"
     ]
    }
   ],
   "source": [
    "bfs = breadthFirstSearch(camelStartState, camelGoalState, camelSuccessorsf)\n",
    "print('Breadth-first solution: (', len(bfs), 'steps)')\n",
    "for s in bfs:\n",
    "    print(s)\n",
    "\n",
    "dfs = depthFirstSearch(camelStartState, camelGoalState, camelSuccessorsf)\n",
    "print('Depth-first solution: (', len(dfs), 'steps)')\n",
    "for s in dfs:\n",
    "    print(s)"
   ]
  }
 ],
 "metadata": {
  "anaconda-cloud": {},
  "kernelspec": {
   "display_name": "Python 3",
   "language": "python",
   "name": "python3"
  },
  "language_info": {
   "codemirror_mode": {
    "name": "ipython",
    "version": 3
   },
   "file_extension": ".py",
   "mimetype": "text/x-python",
   "name": "python",
   "nbconvert_exporter": "python",
   "pygments_lexer": "ipython3",
   "version": "3.6.5"
  }
 },
 "nbformat": 4,
 "nbformat_minor": 1
}
