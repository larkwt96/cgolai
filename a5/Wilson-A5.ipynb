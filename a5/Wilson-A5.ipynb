{
 "cells": [
  {
   "cell_type": "markdown",
   "metadata": {},
   "source": [
    "$\\newcommand{\\xv}{\\mathbf{x}}\n",
    "\\newcommand{\\Xv}{\\mathbf{X}}\n",
    "\\newcommand{\\yv}{\\mathbf{y}}\n",
    "\\newcommand{\\zv}{\\mathbf{z}}\n",
    "\\newcommand{\\av}{\\mathbf{a}}\n",
    "\\newcommand{\\Wv}{\\mathbf{W}}\n",
    "\\newcommand{\\wv}{\\mathbf{w}}\n",
    "\\newcommand{\\tv}{\\mathbf{t}}\n",
    "\\newcommand{\\Tv}{\\mathbf{T}}\n",
    "\\newcommand{\\muv}{\\boldsymbol{\\mu}}\n",
    "\\newcommand{\\sigmav}{\\boldsymbol{\\sigma}}\n",
    "\\newcommand{\\phiv}{\\boldsymbol{\\phi}}\n",
    "\\newcommand{\\Phiv}{\\boldsymbol{\\Phi}}\n",
    "\\newcommand{\\Sigmav}{\\boldsymbol{\\Sigma}}\n",
    "\\newcommand{\\Lambdav}{\\boldsymbol{\\Lambda}}\n",
    "\\newcommand{\\half}{\\frac{1}{2}}\n",
    "\\newcommand{\\argmax}[1]{\\underset{#1}{\\operatorname{argmax}}}\n",
    "\\newcommand{\\argmin}[1]{\\underset{#1}{\\operatorname{argmin}}}$"
   ]
  },
  {
   "cell_type": "markdown",
   "metadata": {},
   "source": [
    "# Assignment 5: Neural Networks"
   ]
  },
  {
   "cell_type": "markdown",
   "metadata": {},
   "source": [
    "Lucas Wilson"
   ]
  },
  {
   "cell_type": "markdown",
   "metadata": {},
   "source": [
    "Todo:\n",
    "* code\n",
    "* results\n",
    "* discussions"
   ]
  },
  {
   "cell_type": "markdown",
   "metadata": {},
   "source": [
    "## Overview"
   ]
  },
  {
   "cell_type": "markdown",
   "metadata": {},
   "source": [
    "You will write and apply code that trains neural networks of various numbers of hidden layers and units in each hidden layer and returns results as specified below.  You will do this once for a regression problem and once for a classification problem. "
   ]
  },
  {
   "cell_type": "markdown",
   "metadata": {},
   "source": [
    "## Required Code"
   ]
  },
  {
   "cell_type": "markdown",
   "metadata": {},
   "source": [
    "Download [nn2.tar](http://www.cs.colostate.edu/~anderson/cs440/notebooks/nn2.tar) that was used in lecture and extract its contents, which are\n",
    "\n",
    "* `neuralnetworks.py`\n",
    "* `scaledconjugategradient.py`\n",
    "* `mlutils.py`"
   ]
  },
  {
   "cell_type": "markdown",
   "metadata": {},
   "source": [
    "Write the following functions that train and evaluate neural network models.\n",
    "\n",
    "* `results = trainNNs(X, T, trainFraction, hiddenLayerStructures, numberRepetitions, numberIterations, classify)`\n",
    "\n",
    "The arguments to `trainNNs` are\n",
    "\n",
    "* `X` is a matrix of input data of shape `nSamples x nFeatures`\n",
    "* `T` is a matrix of target data of shape `nSamples x nOutputs`\n",
    "* `trainFraction` is fraction of samples to use as training data. 1-`trainFraction` is number of samples for testing data\n",
    "* `hiddenLayerStructures` is list of network architectures. For example, to test two networks, one with one hidden layer of 20 units, and one with 3 hidden layers with 5, 10, and 20 units in each layer, this argument would be `[[20], [5, 10, 20]]`.\n",
    "* `numberRepetitions` is number of times to train a neural network.  Calculate training and testing average performance (two separate averages) of this many training runs.\n",
    "* `numberIterations` is the number of iterations to run the scaled conjugate gradient algorithm when a neural network is trained.\n",
    "* `classify` is set to `True` if you are doing a classification problem, in which case `T` must be a single column of target class integers.\n",
    "\n",
    "This function returns `results` which is list with one element for each network structure tested.  Each element is a list containing \n",
    "\n",
    "* the hidden layer structure (as a list),\n",
    "* a list of training data performance for each repetition, \n",
    "* a list of testing data performance for each repetition, and\n",
    "* the number of seconds it took to run this many repetitions for this network structure.\n",
    "\n",
    "This function should follow these steps:\n",
    "\n",
    "  * For each network structure given in `hiddenLayerStructures`\n",
    "    * For numberRepetitions\n",
    "      * Use `ml.partition` to randomly partition X and T into training and testing sets.\n",
    "      * Create a neural network of the given structure\n",
    "      * Train it for numberIterations\n",
    "      * Use the trained network to produce outputs for the training and for the testing sets\n",
    "      * If classifying, calculate the fraction of samples incorrectly classified for training and testing sets.\n",
    "       Otherwise, calculate the RMSE of training and testing sets.\n",
    "      * Add the training and testing performance to a collection (such as a list) for this network structure\n",
    "    * Add to a collection of all results the hidden layer structure, lists of training performance and testing performance, and seconds taken to do these repetitions.\n",
    "  * return the collection of all results"
   ]
  },
  {
   "cell_type": "markdown",
   "metadata": {},
   "source": [
    "Also write the following two functions. `summarize(results)` returns a list of lists like `results` but with the list of training performances replaced by their mean and the list of testing performances replaced by their mean.   \n",
    "`bestNetwork(summary)` takes the output of `summarize(results)` and returns the best element of `results`, determined by the element that has the smallest test performance.\n",
    "\n",
    "* `summary = summarize(results)` where `results` is returned by `trainNNs` and `summary` is like `results` with the training and testing performance lists replaced by their means\n",
    "* `best = bestNetwork(summary)` where `summary` is returned by `summarize` and `best` is the best element of `summary`"
   ]
  },
  {
   "cell_type": "code",
   "execution_count": 3,
   "metadata": {},
   "outputs": [],
   "source": [
    "# Replace this cell with several cells defining the above functions."
   ]
  },
  {
   "cell_type": "markdown",
   "metadata": {},
   "source": [
    "## Examples\n"
   ]
  },
  {
   "cell_type": "code",
   "execution_count": null,
   "metadata": {},
   "outputs": [],
   "source": [
    "import neuralnetworks as nn\n",
    "import numpy as np\n",
    "\n",
    "import matplotlib.pyplot as plt\n",
    "%matplotlib inline"
   ]
  },
  {
   "cell_type": "code",
   "execution_count": 4,
   "metadata": {},
   "outputs": [],
   "source": [
    "X = np.arange(10).reshape((-1,1))\n",
    "T = X + 1 + np.random.uniform(-1, 1, ((10,1)))"
   ]
  },
  {
   "cell_type": "code",
   "execution_count": 6,
   "metadata": {},
   "outputs": [
    {
     "data": {
      "image/png": "[encoded data removed]",
      "text/plain": [
       "<Figure size 432x288 with 1 Axes>"
      ]
     },
     "metadata": {
      "needs_background": "light"
     },
     "output_type": "display_data"
    }
   ],
   "source": [
    "plt.plot(X, T, 'o-');"
   ]
  },
  {
   "cell_type": "code",
   "execution_count": 7,
   "metadata": {},
   "outputs": [
    {
     "data": {
      "text/plain": [
       "array([0.70710678, 0.43914979, 0.43914979, 0.43914979, 0.43914979,\n",
       "       0.43914979, 0.43914979, 0.43914979, 0.43914979, 0.43914979,\n",
       "       0.43914979, 0.3123268 , 0.17616167, 0.1734803 , 0.16923169,\n",
       "       0.16240048, 0.16201753, 0.16181599, 0.15783722, 0.15783722,\n",
       "       0.15783722, 0.15783722, 0.15169401, 0.15161514, 0.15090168,\n",
       "       0.14855055, 0.13411859, 0.13224853, 0.13144716, 0.1300725 ,\n",
       "       0.12974509, 0.12717791, 0.1254989 , 0.12285284, 0.12110001,\n",
       "       0.12090307, 0.12066423, 0.12058996, 0.11911815, 0.11900197,\n",
       "       0.11882057, 0.11878625, 0.11874472, 0.11874472, 0.11874472,\n",
       "       0.11874472, 0.11874472, 0.11874472, 0.11874472, 0.11874472,\n",
       "       0.11874472, 0.11813541, 0.11632775, 0.1161052 , 0.11387822,\n",
       "       0.11365571, 0.11237705, 0.11054987, 0.11023692, 0.11023692,\n",
       "       0.11023692, 0.11023692, 0.11023692, 0.11023692, 0.10671897,\n",
       "       0.10634174, 0.10410459, 0.10383131, 0.10343447, 0.10266971,\n",
       "       0.09952232, 0.09832569, 0.0977631 , 0.09645803, 0.09645803,\n",
       "       0.09645803, 0.09630608, 0.08026739, 0.07443439, 0.06957645,\n",
       "       0.06951615, 0.06929758, 0.0687532 , 0.0684503 , 0.06821371,\n",
       "       0.06760834, 0.06738641, 0.06683996, 0.06659522, 0.06596546,\n",
       "       0.0648261 , 0.06399178, 0.06372858, 0.06351882, 0.06328306,\n",
       "       0.06282694, 0.06262386, 0.06252527, 0.06246011, 0.06238966,\n",
       "       0.06198363])"
      ]
     },
     "execution_count": 7,
     "metadata": {},
     "output_type": "execute_result"
    }
   ],
   "source": [
    "nnet = nn.NeuralNetwork(X.shape[1], 2, T.shape[1])\n",
    "nnet.train(X, T, 100)\n",
    "nnet.getErrorTrace()"
   ]
  },
  {
   "cell_type": "code",
   "execution_count": 8,
   "metadata": {},
   "outputs": [
    {
     "data": {
      "text/plain": [
       "array([0.70710678, 0.1778117 , 0.17603937, 0.16535519, 0.16383062,\n",
       "       0.16182475, 0.16161204, 0.16117076, 0.16090097, 0.16074038,\n",
       "       0.16060974, 0.15956536, 0.15534792, 0.15425828, 0.15332875,\n",
       "       0.15316681, 0.15286456, 0.15139766, 0.15102018, 0.15079339,\n",
       "       0.15063152, 0.15048215, 0.1503689 , 0.1503344 , 0.15007444,\n",
       "       0.14934678, 0.14833692, 0.14811665, 0.1472186 , 0.14666649,\n",
       "       0.14666649, 0.14666649, 0.14666649, 0.14666649, 0.14666649,\n",
       "       0.14666649, 0.14666649, 0.14666649, 0.14666649, 0.14666649,\n",
       "       0.14666649, 0.14666649, 0.14666649, 0.14666649, 0.14666649,\n",
       "       0.14666649, 0.14666649, 0.14666649, 0.14666649, 0.14666649,\n",
       "       0.14666649, 0.14666649, 0.14666649, 0.14090739, 0.13901876,\n",
       "       0.13299502, 0.13282329, 0.13128774, 0.13008314, 0.13005521,\n",
       "       0.12996582, 0.12984241, 0.12923237, 0.12912938, 0.12899579,\n",
       "       0.12878703, 0.12819093, 0.12646224, 0.12465162, 0.12355178,\n",
       "       0.1231222 , 0.12274117, 0.12238159, 0.1223373 , 0.12230734,\n",
       "       0.12216391, 0.12204231, 0.12180916, 0.12173557, 0.12173557,\n",
       "       0.12173557, 0.12173557, 0.12173557, 0.12173557, 0.12173557,\n",
       "       0.12173557, 0.12173557, 0.12173557, 0.12173557, 0.12173557,\n",
       "       0.12173557, 0.12137715, 0.12031724, 0.11928659, 0.11896883,\n",
       "       0.11894783, 0.11853106, 0.11811027, 0.11799415, 0.11459449,\n",
       "       0.11419224])"
      ]
     },
     "execution_count": 8,
     "metadata": {},
     "output_type": "execute_result"
    }
   ],
   "source": [
    "nnet = nn.NeuralNetwork(X.shape[1], [5, 5, 5], T.shape[1])\n",
    "nnet.train(X, T, 100)\n",
    "nnet.getErrorTrace()"
   ]
  },
  {
   "cell_type": "code",
   "execution_count": 9,
   "metadata": {},
   "outputs": [
    {
     "data": {
      "text/plain": [
       "[[2,\n",
       "  [0.2389014782825858,\n",
       "   0.5183594559595822,\n",
       "   0.6319500837536142,\n",
       "   0.243466444182276,\n",
       "   0.2166747459735936],\n",
       "  [0.4470352715290089,\n",
       "   0.7138191401128079,\n",
       "   0.7661661086837139,\n",
       "   2.186807993092219,\n",
       "   0.41718570131454014],\n",
       "  0.1805107593536377],\n",
       " [10,\n",
       "  [0.2013302958778102,\n",
       "   0.08038378570864134,\n",
       "   0.28650408682704587,\n",
       "   0.1398719145429448,\n",
       "   0.1258195459367202],\n",
       "  [0.6622108508929072,\n",
       "   0.8403099102753195,\n",
       "   0.38665762863885195,\n",
       "   0.57659514492405,\n",
       "   1.660630992865097],\n",
       "  0.07672405242919922],\n",
       " [[10, 10],\n",
       "  [0.015900251396265087,\n",
       "   0.16444949034534437,\n",
       "   0.13822578212948536,\n",
       "   0.3364152710850196,\n",
       "   0.17083969221625292],\n",
       "  [0.831910516332634,\n",
       "   1.2225392836221212,\n",
       "   0.7349990715997435,\n",
       "   0.20176210816650092,\n",
       "   0.6722847363266775],\n",
       "  0.12755775451660156]]"
      ]
     },
     "execution_count": 9,
     "metadata": {},
     "output_type": "execute_result"
    }
   ],
   "source": [
    "results = trainNNs(X, T, 0.8, [2, 10, [10, 10]], 5, 100, classify=False)\n",
    "results"
   ]
  },
  {
   "cell_type": "code",
   "execution_count": 13,
   "metadata": {},
   "outputs": [],
   "source": [
    "results = trainNNs(X, T, 0.8, [0, 1, 2, 10, [10, 10], [5, 5, 5, 5], [2]*5], 50, 100, classify=False)"
   ]
  },
  {
   "cell_type": "code",
   "execution_count": 14,
   "metadata": {},
   "outputs": [
    {
     "data": {
      "text/plain": [
       "[[0, 0.6316128382519905, 0.7640400156307028, 0.034696340560913086],\n",
       " [1, 0.5934131237176049, 0.8768225195087738, 0.720597505569458],\n",
       " [2, 0.2796989535961426, 0.9274375252999492, 0.7744841575622559],\n",
       " [10, 0.13328566822420326, 0.9249379419859755, 0.8382525444030762],\n",
       " [[10, 10], 0.1226986104248886, 0.9362675074168072, 1.2565619945526123],\n",
       " [[5, 5, 5, 5], 0.26925800514620096, 1.0104982158305271, 1.6267426013946533],\n",
       " [[2, 2, 2, 2, 2], 0.540451154608696, 0.9500452560027836, 1.688371181488037]]"
      ]
     },
     "execution_count": 14,
     "metadata": {},
     "output_type": "execute_result"
    }
   ],
   "source": [
    "summarize(results)"
   ]
  },
  {
   "cell_type": "code",
   "execution_count": 15,
   "metadata": {},
   "outputs": [
    {
     "name": "stdout",
     "output_type": "stream",
     "text": [
      "[0, 0.6316128382519905, 0.7640400156307028, 0.034696340560913086]\n",
      "Hidden Layers 0 Average RMSE Training 0.63 Testing 0.76 Took 0.03 seconds\n"
     ]
    }
   ],
   "source": [
    "best = bestNetwork(summarize(results))\n",
    "print(best)\n",
    "print('Hidden Layers {} Average RMSE Training {:.2f} Testing {:.2f} Took {:.2f} seconds'.format(*best))"
   ]
  },
  {
   "cell_type": "markdown",
   "metadata": {},
   "source": [
    "Hummm...neural nets with no hidden layers did best on this simple data set.  Why?  Remember what \"best\" means."
   ]
  },
  {
   "cell_type": "markdown",
   "metadata": {},
   "source": [
    "## Data for Regression Experiment\n",
    "\n",
    "From the UCI Machine Learning Repository, download the [Appliances energy prediction](http://archive.ics.uci.edu/ml/datasets/Appliances+energy+prediction) data.  You can do this by visiting the Data Folder for this data set, or just do this:\n",
    "\n",
    "     !wget http://archive.ics.uci.edu/ml/machine-learning-databases/00374/energydata_complete.csv\n",
    "\n"
   ]
  },
  {
   "cell_type": "markdown",
   "metadata": {},
   "source": [
    "Read this data into python.  One suggestion is to use the `loadtxt` function in the `numpy` package.  You may ignore the first column of each row which contains a data and time.  Also ignore the last two columns of random variables.  We will not use that in our modeling of this data.  You will also have to deal with the double quotes that surround every value in every field.  Read the first line of this file to get the names of the features.\n",
    "\n",
    "Once you have read this in correctly, you should see values like this:"
   ]
  },
  {
   "cell_type": "code",
   "execution_count": 18,
   "metadata": {
    "scrolled": true
   },
   "outputs": [
    {
     "data": {
      "text/plain": [
       "['Appliances',\n",
       " 'lights',\n",
       " 'T1',\n",
       " 'RH_1',\n",
       " 'T2',\n",
       " 'RH_2',\n",
       " 'T3',\n",
       " 'RH_3',\n",
       " 'T4',\n",
       " 'RH_4',\n",
       " 'T5',\n",
       " 'RH_5',\n",
       " 'T6',\n",
       " 'RH_6',\n",
       " 'T7',\n",
       " 'RH_7',\n",
       " 'T8',\n",
       " 'RH_8',\n",
       " 'T9',\n",
       " 'RH_9',\n",
       " 'T_out',\n",
       " 'Press_mm_hg',\n",
       " 'RH_out',\n",
       " 'Windspeed',\n",
       " 'Visibility',\n",
       " 'Tdewpoint']"
      ]
     },
     "execution_count": 18,
     "metadata": {},
     "output_type": "execute_result"
    }
   ],
   "source": [
    "names"
   ]
  },
  {
   "cell_type": "code",
   "execution_count": 19,
   "metadata": {},
   "outputs": [
    {
     "data": {
      "text/plain": [
       "(19735, 26)"
      ]
     },
     "execution_count": 19,
     "metadata": {},
     "output_type": "execute_result"
    }
   ],
   "source": [
    "data.shape"
   ]
  },
  {
   "cell_type": "code",
   "execution_count": 20,
   "metadata": {
    "scrolled": true
   },
   "outputs": [
    {
     "data": {
      "text/plain": [
       "array([[ 60.        ,  30.        ,  19.89      ,  47.59666667,\n",
       "         19.2       ,  44.79      ,  19.79      ,  44.73      ,\n",
       "         19.        ,  45.56666667,  17.16666667,  55.2       ,\n",
       "          7.02666667,  84.25666667,  17.2       ,  41.62666667,\n",
       "         18.2       ,  48.9       ,  17.03333333,  45.53      ,\n",
       "          6.6       , 733.5       ,  92.        ,   7.        ,\n",
       "         63.        ,   5.3       ],\n",
       "       [ 60.        ,  30.        ,  19.89      ,  46.69333333,\n",
       "         19.2       ,  44.7225    ,  19.79      ,  44.79      ,\n",
       "         19.        ,  45.9925    ,  17.16666667,  55.2       ,\n",
       "          6.83333333,  84.06333333,  17.2       ,  41.56      ,\n",
       "         18.2       ,  48.86333333,  17.06666667,  45.56      ,\n",
       "          6.48333333, 733.6       ,  92.        ,   6.66666667,\n",
       "         59.16666667,   5.2       ]])"
      ]
     },
     "execution_count": 20,
     "metadata": {},
     "output_type": "execute_result"
    }
   ],
   "source": [
    "data[:2,:]"
   ]
  },
  {
   "cell_type": "markdown",
   "metadata": {},
   "source": [
    "Use the first two columns, labelled `Appliances` and `lights` as the target variables, and the remaining 24 columns as the input features.  So"
   ]
  },
  {
   "cell_type": "code",
   "execution_count": 24,
   "metadata": {},
   "outputs": [
    {
     "data": {
      "text/plain": [
       "((19735, 24), (19735, 2))"
      ]
     },
     "execution_count": 24,
     "metadata": {},
     "output_type": "execute_result"
    }
   ],
   "source": [
    "Xenergy.shape, Tenergy.shape"
   ]
  },
  {
   "cell_type": "code",
   "execution_count": 15,
   "metadata": {},
   "outputs": [
    {
     "data": {
      "text/plain": [
       "['T1',\n",
       " 'RH_1',\n",
       " 'T2',\n",
       " 'RH_2',\n",
       " 'T3',\n",
       " 'RH_3',\n",
       " 'T4',\n",
       " 'RH_4',\n",
       " 'T5',\n",
       " 'RH_5',\n",
       " 'T6',\n",
       " 'RH_6',\n",
       " 'T7',\n",
       " 'RH_7',\n",
       " 'T8',\n",
       " 'RH_8',\n",
       " 'T9',\n",
       " 'RH_9',\n",
       " 'T_out',\n",
       " 'Press_mm_hg',\n",
       " 'RH_out',\n",
       " 'Windspeed',\n",
       " 'Visibility',\n",
       " 'Tdewpoint']"
      ]
     },
     "execution_count": 15,
     "metadata": {},
     "output_type": "execute_result"
    }
   ],
   "source": [
    "Xnames"
   ]
  },
  {
   "cell_type": "code",
   "execution_count": 16,
   "metadata": {},
   "outputs": [
    {
     "data": {
      "text/plain": [
       "['Appliances', 'lights']"
      ]
     },
     "execution_count": 16,
     "metadata": {},
     "output_type": "execute_result"
    }
   ],
   "source": [
    "Tnames"
   ]
  },
  {
   "cell_type": "markdown",
   "metadata": {},
   "source": [
    "Train several neural networks on all of this data for 100 iterations.  Plot the error trace (nnet.getErrorTrace()) to help you decide now many iterations might be needed.  100 may not be enough.  If for your larger networks the error is still decreasing after 100 iterations you should train all nets for more than 100 iterations.\n",
    "\n",
    "Now use your `trainNNs`, `summarize`, and `bestNetwork` functions on this data to investigate various network sizes."
   ]
  },
  {
   "cell_type": "code",
   "execution_count": 18,
   "metadata": {
    "collapsed": true
   },
   "outputs": [],
   "source": [
    "results = trainNNs(Xenergy, Tenergy, 0.8, [0, 5, [5, 5], [10, 10]], 10, 100)"
   ]
  },
  {
   "cell_type": "code",
   "execution_count": 19,
   "metadata": {},
   "outputs": [
    {
     "data": {
      "text/plain": [
       "[[0, 67.046960179422285, 67.644136371408763, 0.998682975769043],\n",
       " [5, 65.301632625880842, 66.328853488839485, 13.130361795425415],\n",
       " [[5, 5], 64.277382425810785, 66.416365860755761, 19.365249395370483],\n",
       " [[10, 10], 62.741905999268582, 64.979550044221469, 33.62221097946167]]"
      ]
     },
     "execution_count": 19,
     "metadata": {},
     "output_type": "execute_result"
    }
   ],
   "source": [
    "summarize(results)"
   ]
  },
  {
   "cell_type": "code",
   "execution_count": 20,
   "metadata": {},
   "outputs": [
    {
     "data": {
      "text/plain": [
       "[[10, 10], 62.741905999268582, 64.979550044221469, 33.62221097946167]"
      ]
     },
     "execution_count": 20,
     "metadata": {},
     "output_type": "execute_result"
    }
   ],
   "source": [
    "bestNetwork(summarize(results))"
   ]
  },
  {
   "cell_type": "markdown",
   "metadata": {},
   "source": [
    "Test at least 10 different hidden layer structures.  Larger numbers of layers and units may do the best on training data, but not on testing data. Why?\n",
    "\n",
    "Now train another network with your best hidden layer structure on 0.8 of the data and use the trained network on the testing data (the remaining 0.2 of the date).  As before use `ml.partition` to produce the training and testing sets.\n",
    "\n",
    "For the testing data, plot the predicted and actual `Appliances` energy use, and the predicted and actual `lights` energy use, in two separate plots.  Discuss what you see."
   ]
  },
  {
   "cell_type": "markdown",
   "metadata": {},
   "source": [
    "## Data for Classification Experiment\n",
    "\n",
    "From the UCI Machine Learning Repository, download the [Anuran Calls (MFCCs)](http://archive.ics.uci.edu/ml/datasets/Anuran+Calls+%28MFCCs%29) data.  You can do this by visiting the Data Folder for this data set, or just do this:\n",
    "\n",
    "     !wget 'http://archive.ics.uci.edu/ml/machine-learning-databases/00406/Anuran Calls (MFCCs).zip'\n",
    "     !unzip Anuran*zip\n",
    "     \n",
    "Read the data in the file `Frogs_MFCCs.csv` into python.  This will be a little tricky. Each line of the file is a sample of audio features plus three columns that label the sample by family, genus, and species. We will try to predict the species.  The tricky part is that the species is given as text.  We need to convert this to a target class, as an integer. The `numpy` function `unique` will come in handy here."
   ]
  },
  {
   "cell_type": "code",
   "execution_count": 21,
   "metadata": {},
   "outputs": [
    {
     "data": {
      "text/plain": [
       "((7195, 21), (7195, 1))"
      ]
     },
     "execution_count": 21,
     "metadata": {},
     "output_type": "execute_result"
    }
   ],
   "source": [
    "Xanuran.shape, Tanuran.shape"
   ]
  },
  {
   "cell_type": "code",
   "execution_count": 22,
   "metadata": {},
   "outputs": [
    {
     "data": {
      "text/plain": [
       "array([[ 0.1529363 , -0.1055859 ,  0.20072191,  0.31720106,  0.26076385,\n",
       "         0.10094464, -0.1500626 , -0.17112763,  0.12467644,  0.18865415,\n",
       "        -0.07562172, -0.15643593,  0.08224512,  0.13575204, -0.02401665,\n",
       "        -0.10835111, -0.07762252, -0.0095678 ,  0.05768398,  0.11868014,\n",
       "         0.01403845],\n",
       "       [ 0.17153426, -0.09897474,  0.26842522,  0.33867186,  0.2683531 ,\n",
       "         0.06083509, -0.22247464, -0.20769267,  0.17088287,  0.27095828,\n",
       "        -0.09500394, -0.25434147,  0.02278623,  0.1633201 ,  0.01202228,\n",
       "        -0.09097401, -0.05650952, -0.03530336,  0.02013996,  0.08226299,\n",
       "         0.02905574]])"
      ]
     },
     "execution_count": 22,
     "metadata": {},
     "output_type": "execute_result"
    }
   ],
   "source": [
    "Xanuran[:2,:]"
   ]
  },
  {
   "cell_type": "code",
   "execution_count": 23,
   "metadata": {},
   "outputs": [
    {
     "data": {
      "text/plain": [
       "array([[0],\n",
       "       [0]])"
      ]
     },
     "execution_count": 23,
     "metadata": {},
     "output_type": "execute_result"
    }
   ],
   "source": [
    "Tanuran[:2]"
   ]
  },
  {
   "cell_type": "code",
   "execution_count": 24,
   "metadata": {},
   "outputs": [
    {
     "name": "stdout",
     "output_type": "stream",
     "text": [
      "672 samples in class 0\n",
      "3478 samples in class 1\n",
      "542 samples in class 2\n",
      "310 samples in class 3\n",
      "472 samples in class 4\n",
      "1121 samples in class 5\n",
      "270 samples in class 6\n",
      "114 samples in class 7\n",
      "68 samples in class 8\n",
      "148 samples in class 9\n"
     ]
    }
   ],
   "source": [
    "for i in range(10):\n",
    "    print('{} samples in class {}'.format(np.sum(Tanuran==i), i))"
   ]
  },
  {
   "cell_type": "code",
   "execution_count": 25,
   "metadata": {
    "collapsed": true
   },
   "outputs": [],
   "source": [
    "results = trainNNs(Xanuran, Tanuran, 0.8, [0, 5, [5, 5]], 5, 100, classify=True)"
   ]
  },
  {
   "cell_type": "code",
   "execution_count": 26,
   "metadata": {},
   "outputs": [
    {
     "data": {
      "text/plain": [
       "[[0, 0.028179291174426684, 0.034885337039610845, 2.706338405609131],\n",
       " [5, 0.035267546907574707, 0.041000694927032663, 5.346082448959351],\n",
       " [[5, 5], 0.046699096594857534, 0.057956914523974987, 6.503756046295166]]"
      ]
     },
     "execution_count": 26,
     "metadata": {},
     "output_type": "execute_result"
    }
   ],
   "source": [
    "summarize(results)"
   ]
  },
  {
   "cell_type": "code",
   "execution_count": 27,
   "metadata": {},
   "outputs": [
    {
     "data": {
      "text/plain": [
       "[0, 0.028179291174426684, 0.034885337039610845, 2.706338405609131]"
      ]
     },
     "execution_count": 27,
     "metadata": {},
     "output_type": "execute_result"
    }
   ],
   "source": [
    "bestNetwork(summarize(results))"
   ]
  },
  {
   "cell_type": "markdown",
   "metadata": {},
   "source": [
    "Now do an investigation like you did for the regression data. \n",
    "\n",
    "Test at least 10 different hidden layer structures. Then train another network with your best hidden layer structure on 0.8 of the data and use the trained network on the testing data (the remaining 0.2 of the date). \n",
    "\n",
    "Plot the predicted and actual `Species` for the testing data as an integer.  Discuss what you see."
   ]
  },
  {
   "cell_type": "markdown",
   "metadata": {},
   "source": [
    "## Grading\n",
    "\n",
    "Download [A5grader.tar](http://www.cs.colostate.edu/~anderson/cs440/notebooks/A5grader.tar) and extract `A5grader.py` from it."
   ]
  },
  {
   "cell_type": "code",
   "execution_count": 27,
   "metadata": {
    "scrolled": true
   },
   "outputs": [
    {
     "name": "stdout",
     "output_type": "stream",
     "text": [
      "\n",
      "======================= Code Execution =======================\n",
      "\n",
      "\n",
      "Testing summarize([[[1,1], [1.2, 1.3, 1.4], [2.2, 2.3, 2.4], 0.5], [[2,2,2], [4.4, 4.3, 4.2], [6.5, 6.4, 6.3], 0.6]])\n",
      "\n",
      "--- 10/10 points. Correctly returned [[[1, 1], 1.3, 2.3000000000000003, 0.5], [[2, 2, 2], 4.3, 6.3999999999999995, 0.6]]\n",
      "\n",
      "Testing bestNetwork([[[1, 1], 1.3, 2.3, 0.5], [[2, 2, 2], 4.3, 1.3, 0.6]])\n",
      "\n",
      "--- 10/10 points. Correctly returned [[2, 2, 2], 4.3, 1.3, 0.6]\n",
      "\n",
      "X = np.random.uniform(-1, 1, (100, 3))\n",
      "T = np.hstack(((X**2 - 0.2*X**3).sum(axis=1,keepdims=True),\n",
      "               (np.sin(X)).sum(axis=1,keepdims=True)))\n",
      "result = trainNNs(X, T, 0.7, [0, 5, 10, [20, 20]], 10, 100, False)\n",
      "\n",
      "--- 20/20 points. Correct.\n",
      "\n",
      "Testing bestNetwork(summarize(result))\n",
      "\n",
      "--- 20/20 points. You correctly found that network [20, 20] is best.\n",
      "\n",
      "A5 Execution Grade is 60 / 60\n",
      "\n",
      "======================= The regression data set =======================\n",
      "\n",
      "--- _ / 5 points. Read the data in energydata_complete.csv into variables Xenergy and Tenergy.\n",
      "\n",
      "--- _ / 5 points. Train some networks by calling the NeuralNetwork constructor and train method and plot the error trace to help you decide now many iterations might be needed.\n",
      "\n",
      "--- _ / 5 points. Try at least 10 different hidden layer structures using trainNNs.\n",
      "\n",
      "--- _ / 5 points. Train another network with your best hidden layer structure on 0.8 of the data and test it on remaining 0.2 of the data. Plot the predicted and actual Appliances energy use, and the predicted and actual lights energy use, in two separate plots. Discuss what you see.\n",
      "\n",
      "======================= Classification data set =======================\n",
      "\n",
      "--- _ / 5 points. Read the data in Frogs_MFCCs.csv into variables Xanuran and Tanuran.\n",
      "\n",
      "--- _ / 5 points. Train some networks by calling the NeuralNetwork constructor and train method and plot the error trace to help you decide now many iterations might be needed.\n",
      "\n",
      "--- _ / 5 points. Try at least 10 different hidden layer structures using trainNNs.\n",
      "\n",
      "--- _ / 5 points. Train another network with your best hidden layer structure on 0.8 of the data and test it on remaining 0.2 of the data. Plot the predicted and actual class labels. Discuss what you see.\n",
      "\n",
      "A5 Notebook Grade is   / 40\n",
      "\n",
      "A5 FINAL GRADE is  / 100\n",
      "\n",
      "\n",
      "A5 EXTRA CREDIT is  / 1\n"
     ]
    }
   ],
   "source": [
    "%run -i \"A5grader.py\""
   ]
  },
  {
   "cell_type": "markdown",
   "metadata": {},
   "source": [
    "## Check-in"
   ]
  },
  {
   "cell_type": "markdown",
   "metadata": {},
   "source": [
    "Do not include this section in your notebook.\n",
    "\n",
    "Name your notebook ```Lastname-A5.ipynb```.  So, for me it would be ```Anderson-A5.ipynb```.  Submit the file using the ```Assignment 5``` link on [Canvas](https://colostate.instructure.com/courses/68135)."
   ]
  },
  {
   "cell_type": "markdown",
   "metadata": {},
   "source": [
    "## Extra Credit\n",
    "\n",
    "  2. Repeat the above regression and classification experiments with a second regression data set and a second classification data set.\n",
    "  \n",
    "  2. Since you are collecting the performance of all repetitions for each network structure, you can calculate a confidence interval about the mean, to help judge significant differences. Do this for either the regression or the classification data and plot the mean test performance with confidence intervals for each network structure tested.  Discuss the statistical significance of the differences among the means.  One website I found to help with this is the site [Correct way to obtain confidence interval with scipy](https://stackoverflow.com/questions/28242593/correct-way-to-obtain-confidence-interval-with-scipy).\n",
    "  \n"
   ]
  }
 ],
 "metadata": {
  "anaconda-cloud": {},
  "kernelspec": {
   "display_name": "Python 3",
   "language": "python",
   "name": "python3"
  },
  "language_info": {
   "codemirror_mode": {
    "name": "ipython",
    "version": 3
   },
   "file_extension": ".py",
   "mimetype": "text/x-python",
   "name": "python",
   "nbconvert_exporter": "python",
   "pygments_lexer": "ipython3",
   "version": "3.7.0"
  },
  "toc": {
   "nav_menu": {},
   "number_sections": true,
   "sideBar": true,
   "skip_h1_title": false,
   "toc_cell": false,
   "toc_position": {},
   "toc_section_display": "block",
   "toc_window_display": false
  }
 },
 "nbformat": 4,
 "nbformat_minor": 1
}
