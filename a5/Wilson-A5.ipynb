{
 "cells": [
  {
   "cell_type": "markdown",
   "metadata": {},
   "source": [
    "$\\newcommand{\\xv}{\\mathbf{x}}\n",
    "\\newcommand{\\Xv}{\\mathbf{X}}\n",
    "\\newcommand{\\yv}{\\mathbf{y}}\n",
    "\\newcommand{\\zv}{\\mathbf{z}}\n",
    "\\newcommand{\\av}{\\mathbf{a}}\n",
    "\\newcommand{\\Wv}{\\mathbf{W}}\n",
    "\\newcommand{\\wv}{\\mathbf{w}}\n",
    "\\newcommand{\\tv}{\\mathbf{t}}\n",
    "\\newcommand{\\Tv}{\\mathbf{T}}\n",
    "\\newcommand{\\muv}{\\boldsymbol{\\mu}}\n",
    "\\newcommand{\\sigmav}{\\boldsymbol{\\sigma}}\n",
    "\\newcommand{\\phiv}{\\boldsymbol{\\phi}}\n",
    "\\newcommand{\\Phiv}{\\boldsymbol{\\Phi}}\n",
    "\\newcommand{\\Sigmav}{\\boldsymbol{\\Sigma}}\n",
    "\\newcommand{\\Lambdav}{\\boldsymbol{\\Lambda}}\n",
    "\\newcommand{\\half}{\\frac{1}{2}}\n",
    "\\newcommand{\\argmax}[1]{\\underset{#1}{\\operatorname{argmax}}}\n",
    "\\newcommand{\\argmin}[1]{\\underset{#1}{\\operatorname{argmin}}}$"
   ]
  },
  {
   "cell_type": "markdown",
   "metadata": {},
   "source": [
    "# Assignment 5: Neural Networks"
   ]
  },
  {
   "cell_type": "markdown",
   "metadata": {},
   "source": [
    "Lucas Wilson"
   ]
  },
  {
   "cell_type": "markdown",
   "metadata": {},
   "source": [
    "# Overview"
   ]
  },
  {
   "cell_type": "markdown",
   "metadata": {},
   "source": [
    "You will write and apply code that trains neural networks of various numbers of hidden layers and units in each hidden layer and returns results as specified below.  You will do this once for a regression problem and once for a classification problem. "
   ]
  },
  {
   "cell_type": "markdown",
   "metadata": {},
   "source": [
    "# Required Code"
   ]
  },
  {
   "cell_type": "code",
   "execution_count": 1,
   "metadata": {},
   "outputs": [],
   "source": [
    "import neuralnetworks as nn\n",
    "import mlutils as ml\n",
    "\n",
    "from copy import deepcopy, copy\n",
    "import time\n",
    "import numpy as np\n",
    "import pandas as pd\n",
    "import matplotlib.pyplot as plt\n",
    "%matplotlib inline"
   ]
  },
  {
   "cell_type": "markdown",
   "metadata": {},
   "source": [
    "Documentation is in the code itself"
   ]
  },
  {
   "cell_type": "code",
   "execution_count": 2,
   "metadata": {},
   "outputs": [],
   "source": [
    "def trainNNs(X, T, trainFraction, hiddenLayerStructures, numberRepetitions, numberIterations, classify, verbose=False):\n",
    "    \"\"\"\n",
    "    Args:\n",
    "        * `X` is a matrix of input data of shape `nSamples x nFeatures`\n",
    "        * `T` is a matrix of target data of shape `nSamples x nOutputs`\n",
    "        * `trainFraction` is fraction of samples to use as training data. 1-`trainFraction` is number of samples for testing data\n",
    "        * `hiddenLayerStructures` is list of network architectures. For example, to test two networks, one with one hidden layer of 20 units, and one with 3 hidden layers with 5, 10, and 20 units in each layer, this argument would be `[[20], [5, 10, 20]]`.\n",
    "        * `numberRepetitions` is number of times to train a neural network. Calculate training and testing average performance (two separate averages) of this many training runs.\n",
    "        * `numberIterations` is the number of iterations to run the scaled conjugate gradient algorithm when a neural network is trained.\n",
    "        * `classify` is set to `True` if you are doing a classification problem, in which case `T` must be a single column of target class integers.\n",
    "\n",
    "    Returns:\n",
    "        `results` which is list with one element for each network structure tested. Each element is a list containing:\n",
    "            * the hidden layer structure (as a list),\n",
    "            * a list of training data performance for each repetition, \n",
    "            * a list of testing data performance for each repetition, and\n",
    "            * the number of seconds it took to run this many repetitions for this network structure.\n",
    "    \"\"\"\n",
    "    # Use mlutils to split the training and testing. The model's performance on testing is the most\n",
    "    # important measurement since we care about the global scope of the problem and not just its\n",
    "    # performance on a sample.\n",
    "    trainX,trainT,testX,testT = ml.partition(X,T,(trainFraction,1-trainFraction),classification=classify)\n",
    "    \n",
    "    # Naturally, we return each result as a list. We start with it empty.\n",
    "    results = []\n",
    "    \n",
    "    # We iterate over every hidden layer structure that we want to test\n",
    "    for hiddenLayerStructure in hiddenLayerStructures:\n",
    "        \n",
    "        # We create the element of the results list:\n",
    "        # list (network structure, training performance, testing performance, time to train)\n",
    "        # network structure - the structure\n",
    "        # training performance for each trial - a sampling of the actual performance distribution\n",
    "        # testing performance for each trial - a sampling of the actual performance distribution\n",
    "        # time to train - the total time it took to train the model\n",
    "        resultsAppendage = [hiddenLayerStructure, [], [], 0]\n",
    "        if verbose: print(\"Measuring:\", hiddenLayerStructure)\n",
    "        \n",
    "        # we want to run multiple trials to get a good sense of how well the structure performs\n",
    "        for _ in range(numberRepetitions):\n",
    "            \n",
    "            # initialize the network\n",
    "            if classify:\n",
    "                nnet = nn.NeuralNetworkClassifier(X.shape[1], hiddenLayerStructure, len(np.unique(T)))\n",
    "            else:\n",
    "                nnet = nn.NeuralNetwork(X.shape[1], hiddenLayerStructure, T.shape[1])\n",
    "            \n",
    "            # train on training data. Note that the model never sees testing data (this is what\n",
    "            # makes the training data performance so valuable)\n",
    "            startTime = time.time() # start the timer\n",
    "            nnet.train(trainX, trainT, numberIterations)\n",
    "            resultsAppendage[3] += time.time() - startTime # stop the timer\n",
    "            \n",
    "            # Use the trained model to predict outcomes on both training and testing data. The\n",
    "            # model is allowed to see the test data now since it's no longer learning.\n",
    "            trainY = nnet.use(trainX)\n",
    "            testY = nnet.use(testX)\n",
    "            \n",
    "            # performance measurements are handled differently for classification vs regression\n",
    "            if classify:\n",
    "                trainPerformance = frac(trainT, trainY) # wrong / total\n",
    "                testPerformance = frac(testT, testY)\n",
    "            else:\n",
    "                trainPerformance = msqe(trainT, trainY) # see below\n",
    "                testPerformance = msqe(testT, testY)\n",
    "                \n",
    "            # Append the performance measurements\n",
    "            resultsAppendage[1].append(trainPerformance)\n",
    "            resultsAppendage[2].append(testPerformance)\n",
    "        \n",
    "        # record the results for the structure\n",
    "        results.append(resultsAppendage)\n",
    "    \n",
    "        if verbose: print(\"Training time:\", results[-1][3])\n",
    "    # and of course return them to whoever asked\n",
    "    return results\n",
    "\n",
    "def msqe(T, Y):\n",
    "    return np.sqrt(np.mean((T-Y)**2))\n",
    "\n",
    "def frac(T, Y):\n",
    "    # calculate the fraction of samples incorrectly classified for training and testing sets\n",
    "    right = 0\n",
    "    wrong = 0\n",
    "    for t, y in zip(T, Y):\n",
    "        if t==y:\n",
    "            right+=1\n",
    "        else:\n",
    "            wrong+=1\n",
    "    return wrong / (right + wrong)"
   ]
  },
  {
   "cell_type": "markdown",
   "metadata": {},
   "source": [
    "I define MSQE as follows:\n",
    "Let $E = T - Y$ where $T$ is actual values, $Y$ is predicted by the model, and $E,T,Y \\epsilon \\mathbb{R}^{n\\times m}$\n",
    "\n",
    "$MSQE = \\sqrt{\\frac{||E||_2^2}{nm}}$ where $||•||_2$ is $L_2$ matrix norm, $n$ is the number of samples, and $m$ is the number of features for the output of the model."
   ]
  },
  {
   "cell_type": "code",
   "execution_count": 3,
   "metadata": {},
   "outputs": [],
   "source": [
    "def summarize(results):\n",
    "    \"\"\"\n",
    "    Args:\n",
    "        The output of trainNNs()\n",
    "\n",
    "    Returns:\n",
    "        a list of lists like `results` but with the list of training performances\n",
    "        replaced by their mean and the list of testing performances replaced by\n",
    "        their mean.\n",
    "    \"\"\"\n",
    "    results = deepcopy(results)\n",
    "    for i,result in enumerate(results):\n",
    "        results[i] = result[0], np.mean(result[1]), np.mean(result[2]), result[3]\n",
    "    return results"
   ]
  },
  {
   "cell_type": "code",
   "execution_count": 4,
   "metadata": {},
   "outputs": [],
   "source": [
    "def bestNetwork(summary):\n",
    "    \"\"\"\n",
    "    Args:\n",
    "        The output of summarize\n",
    "        \n",
    "    Returns:\n",
    "        Returns the best element of `results`, determined by the element that has\n",
    "        the smallest test performance.\n",
    "    \"\"\"\n",
    "    best = 0\n",
    "    bestValue = np.inf\n",
    "    for i, result in enumerate(summary):\n",
    "        value = result[2]\n",
    "        if value < bestValue:\n",
    "            best = i\n",
    "            bestValue = value\n",
    "    return summary[best]"
   ]
  },
  {
   "cell_type": "markdown",
   "metadata": {},
   "source": [
    "These links helped me write the following:\n",
    "* https://stackoverflow.com/questions/14270391/python-matplotlib-multiple-bars\n",
    "* https://matplotlib.org/users/legend_guide.html"
   ]
  },
  {
   "cell_type": "code",
   "execution_count": 5,
   "metadata": {},
   "outputs": [],
   "source": [
    "def plotSummary(summary):\n",
    "    summary = sorted(deepcopy(summary), key=lambda x:x[2])\n",
    "    length = 1\n",
    "    x = np.arange(len(summary))*length\n",
    "    width=.4*length\n",
    "    plt.xticks(x, [str(e[0]) for e in summary])\n",
    "    plt.bar(x, [e[1] for e in summary], width, color='b', label=\"training\")\n",
    "    plt.bar(x+width, [e[2] for e in summary], width, color='g', label=\"testing\")\n",
    "    plt.legend()"
   ]
  },
  {
   "cell_type": "markdown",
   "metadata": {},
   "source": [
    "# Examples"
   ]
  },
  {
   "cell_type": "code",
   "execution_count": 6,
   "metadata": {},
   "outputs": [],
   "source": [
    "X = np.arange(10).reshape((-1,1))\n",
    "T = X + 1 + np.random.uniform(-1, 1, ((10,1)))"
   ]
  },
  {
   "cell_type": "code",
   "execution_count": 7,
   "metadata": {},
   "outputs": [
    {
     "data": {
      "image/png": "[encoded data removed]",
      "text/plain": [
       "<Figure size 432x288 with 1 Axes>"
      ]
     },
     "metadata": {
      "needs_background": "light"
     },
     "output_type": "display_data"
    }
   ],
   "source": [
    "plt.plot(X, T, 'o-');"
   ]
  },
  {
   "cell_type": "code",
   "execution_count": 8,
   "metadata": {},
   "outputs": [
    {
     "data": {
      "text/plain": [
       "[<matplotlib.lines.Line2D at 0x11d0d07b8>]"
      ]
     },
     "execution_count": 8,
     "metadata": {},
     "output_type": "execute_result"
    },
    {
     "data": {
      "image/png": "[encoded data removed]",
      "text/plain": [
       "<Figure size 432x288 with 1 Axes>"
      ]
     },
     "metadata": {
      "needs_background": "light"
     },
     "output_type": "display_data"
    }
   ],
   "source": [
    "nnet = nn.NeuralNetwork(X.shape[1], 2, T.shape[1])\n",
    "nnet.train(X, T, 100)\n",
    "plt.ylim(0)\n",
    "plt.plot(nnet.getErrorTrace())"
   ]
  },
  {
   "cell_type": "code",
   "execution_count": 9,
   "metadata": {},
   "outputs": [
    {
     "data": {
      "text/plain": [
       "[<matplotlib.lines.Line2D at 0x11d18ae80>]"
      ]
     },
     "execution_count": 9,
     "metadata": {},
     "output_type": "execute_result"
    },
    {
     "data": {
      "image/png": "[encoded data removed]",
      "text/plain": [
       "<Figure size 432x288 with 1 Axes>"
      ]
     },
     "metadata": {
      "needs_background": "light"
     },
     "output_type": "display_data"
    }
   ],
   "source": [
    "nnet = nn.NeuralNetwork(X.shape[1], [5, 5, 5], T.shape[1])\n",
    "nnet.train(X, T, 100)\n",
    "plt.ylim(0)\n",
    "plt.plot(nnet.getErrorTrace())"
   ]
  },
  {
   "cell_type": "markdown",
   "metadata": {},
   "source": [
    "## Remark:\n",
    "\n",
    "As you can see, it trains pretty quickly and accurately. Dr. Anderson mentioned in class how small weights make non-linear activation functions act linear. Since the original function is linear, the quick convergence makes sense."
   ]
  },
  {
   "cell_type": "code",
   "execution_count": 10,
   "metadata": {},
   "outputs": [],
   "source": [
    "results = trainNNs(X, T, 0.8, [0, 1, 2, 5, 10, [10, 10], [5, 5, 5, 5], [2]*5], 50, 100, classify=False)"
   ]
  },
  {
   "cell_type": "code",
   "execution_count": 11,
   "metadata": {},
   "outputs": [
    {
     "data": {
      "image/png": "[encoded data removed]",
      "text/plain": [
       "<Figure size 432x288 with 1 Axes>"
      ]
     },
     "metadata": {
      "needs_background": "light"
     },
     "output_type": "display_data"
    }
   ],
   "source": [
    "plotSummary(summarize(results))"
   ]
  },
  {
   "cell_type": "code",
   "execution_count": 12,
   "metadata": {},
   "outputs": [
    {
     "name": "stdout",
     "output_type": "stream",
     "text": [
      "(1, 0.6294101401088752, 0.9522406790431913, 0.4630744457244873)\n",
      "Hidden Layers 1 Average RMSE Training 0.63 Testing 0.95 Took 0.46 seconds\n"
     ]
    }
   ],
   "source": [
    "best = bestNetwork(summarize(results))\n",
    "print(best)\n",
    "print('Hidden Layers {} Average RMSE Training {:.2f} Testing {:.2f} Took {:.2f} seconds'.format(*best))"
   ]
  },
  {
   "cell_type": "markdown",
   "metadata": {},
   "source": [
    "## Remark: Analysis\n",
    "\n",
    "> Hummm...neural nets with no hidden layers did best on this simple data set.  Why?  Remember what \"best\" means.\n",
    "\n",
    "The reason a neural network without hidden layers performs better than more complex ones is because..\n",
    "\n",
    "1. A neural network without hidden layers is just linear and the actual function is linear, so naturally, the best model for a function is itself. That's why a no hidden layer neural network performs well.\n",
    "2. Since there are no hidden layers, it can't over-fit to the training data since it's not complex enough. However, the more complex models which do over-fit fit to the noise added, so they fail to perform well on testing data since the learned noise is useless.\n",
    "\n",
    "It's also interesting to note that as training performance increases, testing performance tends to decrease. This is because the model immediately begins to over-fit. I think that normally, both decrease, and at some point, testing begins to increase."
   ]
  },
  {
   "cell_type": "markdown",
   "metadata": {},
   "source": [
    "# Data for Regression Experiment\n",
    "\n",
    "## Data Collection"
   ]
  },
  {
   "cell_type": "code",
   "execution_count": 13,
   "metadata": {},
   "outputs": [],
   "source": [
    "!wget -nc -q http://archive.ics.uci.edu/ml/machine-learning-databases/00374/energydata_complete.csv"
   ]
  },
  {
   "cell_type": "code",
   "execution_count": 14,
   "metadata": {},
   "outputs": [],
   "source": [
    "def removeQuotes(word):\n",
    "    return word[1:-1]\n",
    "cols = tuple(range(1, 27))\n",
    "colConverter = {}\n",
    "for col in cols:\n",
    "    colConverter[col] = removeQuotes\n",
    "names = list(np.loadtxt('energydata_complete.csv', dtype=str, delimiter=\",\", usecols=cols, converters=colConverter)[0])\n",
    "data = np.loadtxt('energydata_complete.csv', delimiter=\",\", skiprows=1, usecols=cols, converters=colConverter)"
   ]
  },
  {
   "cell_type": "code",
   "execution_count": 15,
   "metadata": {
    "scrolled": true
   },
   "outputs": [
    {
     "data": {
      "text/plain": [
       "['lights', 'T1', 'RH_1', 'T2']"
      ]
     },
     "execution_count": 15,
     "metadata": {},
     "output_type": "execute_result"
    }
   ],
   "source": [
    "names[1:5] # only print some cuz space"
   ]
  },
  {
   "cell_type": "code",
   "execution_count": 16,
   "metadata": {},
   "outputs": [
    {
     "data": {
      "text/plain": [
       "(19735, 26)"
      ]
     },
     "execution_count": 16,
     "metadata": {},
     "output_type": "execute_result"
    }
   ],
   "source": [
    "data.shape"
   ]
  },
  {
   "cell_type": "code",
   "execution_count": 17,
   "metadata": {
    "scrolled": true
   },
   "outputs": [
    {
     "data": {
      "text/plain": [
       "((19735, 24), (19735, 2))"
      ]
     },
     "execution_count": 17,
     "metadata": {},
     "output_type": "execute_result"
    }
   ],
   "source": [
    "Xenergy, Xnames = data[:,2:], names[2:]\n",
    "Tenergy, Tnames = data[:,:2], names[:2]\n",
    "\n",
    "Xenergy.shape, Tenergy.shape"
   ]
  },
  {
   "cell_type": "code",
   "execution_count": 18,
   "metadata": {},
   "outputs": [
    {
     "data": {
      "text/plain": [
       "(['RH_2', 'T3'], ['Appliances', 'lights'])"
      ]
     },
     "execution_count": 18,
     "metadata": {},
     "output_type": "execute_result"
    }
   ],
   "source": [
    "Xnames[3:5], Tnames"
   ]
  },
  {
   "cell_type": "markdown",
   "metadata": {},
   "source": [
    "## Error analysis to determine number of iterations"
   ]
  },
  {
   "cell_type": "code",
   "execution_count": 19,
   "metadata": {
    "scrolled": true
   },
   "outputs": [
    {
     "data": {
      "text/plain": [
       "[<matplotlib.lines.Line2D at 0x11d277898>]"
      ]
     },
     "execution_count": 19,
     "metadata": {},
     "output_type": "execute_result"
    },
    {
     "data": {
      "image/png": "[encoded data removed]",
      "text/plain": [
       "<Figure size 432x288 with 1 Axes>"
      ]
     },
     "metadata": {
      "needs_background": "light"
     },
     "output_type": "display_data"
    }
   ],
   "source": [
    "trainFraction = 0.8\n",
    "trainX,trainT,testX,testT = ml.partition(Xenergy,Tenergy,(trainFraction,1-trainFraction),classification=False)\n",
    "nnet = nn.NeuralNetwork(Xenergy.shape[1], [20, 20], Tenergy.shape[1])\n",
    "nnet.train(trainX, trainT, 3000)\n",
    "plt.ylim(0)\n",
    "plt.plot(nnet.getErrorTrace())"
   ]
  },
  {
   "cell_type": "markdown",
   "metadata": {},
   "source": [
    "The error levels off around 500 but continues to decrease slightly."
   ]
  },
  {
   "cell_type": "markdown",
   "metadata": {},
   "source": [
    "## Structure performance analysis"
   ]
  },
  {
   "cell_type": "code",
   "execution_count": 20,
   "metadata": {
    "scrolled": true
   },
   "outputs": [
    {
     "name": "stdout",
     "output_type": "stream",
     "text": [
      "Measuring: 0\n",
      "Training time: 1.2715733051300049\n",
      "Measuring: 5\n",
      "Training time: 79.50997614860535\n",
      "Measuring: 20\n"
     ]
    },
    {
     "ename": "KeyboardInterrupt",
     "evalue": "",
     "output_type": "error",
     "traceback": [
      "\u001b[0;31m---------------------------------------------------------------------------\u001b[0m",
      "\u001b[0;31mKeyboardInterrupt\u001b[0m                         Traceback (most recent call last)",
      "\u001b[0;32m<ipython-input-20-0c11ae057814>\u001b[0m in \u001b[0;36m<module>\u001b[0;34m()\u001b[0m\n\u001b[1;32m      1\u001b[0m netsEnergy = [0, 5, 20, 50, [24, 12, 6],\n\u001b[1;32m      2\u001b[0m               [10, 5], [20, 20], [30, 30], [40, 10]]\n\u001b[0;32m----> 3\u001b[0;31m \u001b[0mresults\u001b[0m \u001b[0;34m=\u001b[0m \u001b[0mtrainNNs\u001b[0m\u001b[0;34m(\u001b[0m\u001b[0mXenergy\u001b[0m\u001b[0;34m,\u001b[0m \u001b[0mTenergy\u001b[0m\u001b[0;34m,\u001b[0m \u001b[0;36m0.8\u001b[0m\u001b[0;34m,\u001b[0m \u001b[0mnetsEnergy\u001b[0m\u001b[0;34m,\u001b[0m \u001b[0;36m10\u001b[0m\u001b[0;34m,\u001b[0m \u001b[0;36m700\u001b[0m\u001b[0;34m,\u001b[0m \u001b[0;32mFalse\u001b[0m\u001b[0;34m,\u001b[0m \u001b[0mverbose\u001b[0m\u001b[0;34m=\u001b[0m\u001b[0;32mTrue\u001b[0m\u001b[0;34m)\u001b[0m\u001b[0;34m\u001b[0m\u001b[0m\n\u001b[0m",
      "\u001b[0;32m<ipython-input-2-a415e769ea2a>\u001b[0m in \u001b[0;36mtrainNNs\u001b[0;34m(X, T, trainFraction, hiddenLayerStructures, numberRepetitions, numberIterations, classify, verbose)\u001b[0m\n\u001b[1;32m     49\u001b[0m             \u001b[0;31m# makes the training data performance so valuable)\u001b[0m\u001b[0;34m\u001b[0m\u001b[0;34m\u001b[0m\u001b[0m\n\u001b[1;32m     50\u001b[0m             \u001b[0mstartTime\u001b[0m \u001b[0;34m=\u001b[0m \u001b[0mtime\u001b[0m\u001b[0;34m.\u001b[0m\u001b[0mtime\u001b[0m\u001b[0;34m(\u001b[0m\u001b[0;34m)\u001b[0m \u001b[0;31m# start the timer\u001b[0m\u001b[0;34m\u001b[0m\u001b[0m\n\u001b[0;32m---> 51\u001b[0;31m             \u001b[0mnnet\u001b[0m\u001b[0;34m.\u001b[0m\u001b[0mtrain\u001b[0m\u001b[0;34m(\u001b[0m\u001b[0mtrainX\u001b[0m\u001b[0;34m,\u001b[0m \u001b[0mtrainT\u001b[0m\u001b[0;34m,\u001b[0m \u001b[0mnumberIterations\u001b[0m\u001b[0;34m)\u001b[0m\u001b[0;34m\u001b[0m\u001b[0m\n\u001b[0m\u001b[1;32m     52\u001b[0m             \u001b[0mresultsAppendage\u001b[0m\u001b[0;34m[\u001b[0m\u001b[0;36m3\u001b[0m\u001b[0;34m]\u001b[0m \u001b[0;34m+=\u001b[0m \u001b[0mtime\u001b[0m\u001b[0;34m.\u001b[0m\u001b[0mtime\u001b[0m\u001b[0;34m(\u001b[0m\u001b[0;34m)\u001b[0m \u001b[0;34m-\u001b[0m \u001b[0mstartTime\u001b[0m \u001b[0;31m# stop the timer\u001b[0m\u001b[0;34m\u001b[0m\u001b[0m\n\u001b[1;32m     53\u001b[0m \u001b[0;34m\u001b[0m\u001b[0m\n",
      "\u001b[0;32m/Volumes/pass/f/doc/school/files/y4/s1/c440/a5/neuralnetworks.py\u001b[0m in \u001b[0;36mtrain\u001b[0;34m(self, X, T, nIterations, verbose, weightPrecision, errorPrecision)\u001b[0m\n\u001b[1;32m     81\u001b[0m                             \u001b[0mnIterations\u001b[0m \u001b[0;34m=\u001b[0m \u001b[0mnIterations\u001b[0m\u001b[0;34m,\u001b[0m\u001b[0;34m\u001b[0m\u001b[0m\n\u001b[1;32m     82\u001b[0m                             \u001b[0mverbose\u001b[0m\u001b[0;34m=\u001b[0m\u001b[0mverbose\u001b[0m\u001b[0;34m,\u001b[0m\u001b[0;34m\u001b[0m\u001b[0m\n\u001b[0;32m---> 83\u001b[0;31m                             ftracep=True)\n\u001b[0m\u001b[1;32m     84\u001b[0m \u001b[0;34m\u001b[0m\u001b[0m\n\u001b[1;32m     85\u001b[0m         \u001b[0mself\u001b[0m\u001b[0;34m.\u001b[0m\u001b[0m_unpack\u001b[0m\u001b[0;34m(\u001b[0m\u001b[0mscgresult\u001b[0m\u001b[0;34m[\u001b[0m\u001b[0;34m'x'\u001b[0m\u001b[0;34m]\u001b[0m\u001b[0;34m)\u001b[0m\u001b[0;34m\u001b[0m\u001b[0m\n",
      "\u001b[0;32m/Volumes/pass/f/doc/school/files/y4/s1/c440/a5/scaledconjugategradient.py\u001b[0m in \u001b[0;36mscg\u001b[0;34m(x, f, gradf, *fargs, **params)\u001b[0m\n\u001b[1;32m    150\u001b[0m                 \u001b[0mfold\u001b[0m \u001b[0;34m=\u001b[0m \u001b[0mfnew\u001b[0m\u001b[0;34m\u001b[0m\u001b[0m\n\u001b[1;32m    151\u001b[0m                 \u001b[0mgradold\u001b[0m \u001b[0;34m=\u001b[0m \u001b[0mgradnew\u001b[0m\u001b[0;34m\u001b[0m\u001b[0m\n\u001b[0;32m--> 152\u001b[0;31m                 \u001b[0mgradnew\u001b[0m \u001b[0;34m=\u001b[0m \u001b[0mgradf\u001b[0m\u001b[0;34m(\u001b[0m\u001b[0mx\u001b[0m\u001b[0;34m,\u001b[0m \u001b[0;34m*\u001b[0m\u001b[0mfargs\u001b[0m\u001b[0;34m)\u001b[0m\u001b[0;34m\u001b[0m\u001b[0m\n\u001b[0m\u001b[1;32m    153\u001b[0m                 \u001b[0;31m## If the gradient is zero then we are done.\u001b[0m\u001b[0;34m\u001b[0m\u001b[0;34m\u001b[0m\u001b[0m\n\u001b[1;32m    154\u001b[0m                 \u001b[0;32mif\u001b[0m \u001b[0mnp\u001b[0m\u001b[0;34m.\u001b[0m\u001b[0mdot\u001b[0m\u001b[0;34m(\u001b[0m\u001b[0mgradnew\u001b[0m\u001b[0;34m,\u001b[0m \u001b[0mgradnew\u001b[0m\u001b[0;34m)\u001b[0m \u001b[0;34m==\u001b[0m \u001b[0;36m0\u001b[0m\u001b[0;34m:\u001b[0m\u001b[0;34m\u001b[0m\u001b[0m\n",
      "\u001b[0;32m/Volumes/pass/f/doc/school/files/y4/s1/c440/a5/neuralnetworks.py\u001b[0m in \u001b[0;36mgradF\u001b[0;34m(w)\u001b[0m\n\u001b[1;32m     73\u001b[0m             \u001b[0mY\u001b[0m\u001b[0;34m,\u001b[0m\u001b[0mZ\u001b[0m \u001b[0;34m=\u001b[0m \u001b[0mself\u001b[0m\u001b[0;34m.\u001b[0m\u001b[0m_forward_pass\u001b[0m\u001b[0;34m(\u001b[0m\u001b[0mX\u001b[0m\u001b[0;34m)\u001b[0m\u001b[0;34m\u001b[0m\u001b[0m\n\u001b[1;32m     74\u001b[0m             \u001b[0mdelta\u001b[0m \u001b[0;34m=\u001b[0m \u001b[0;34m(\u001b[0m\u001b[0mY\u001b[0m \u001b[0;34m-\u001b[0m \u001b[0mT\u001b[0m\u001b[0;34m)\u001b[0m \u001b[0;34m/\u001b[0m \u001b[0;34m(\u001b[0m\u001b[0mX\u001b[0m\u001b[0;34m.\u001b[0m\u001b[0mshape\u001b[0m\u001b[0;34m[\u001b[0m\u001b[0;36m0\u001b[0m\u001b[0;34m]\u001b[0m \u001b[0;34m*\u001b[0m \u001b[0mT\u001b[0m\u001b[0;34m.\u001b[0m\u001b[0mshape\u001b[0m\u001b[0;34m[\u001b[0m\u001b[0;36m1\u001b[0m\u001b[0;34m]\u001b[0m\u001b[0;34m)\u001b[0m\u001b[0;34m\u001b[0m\u001b[0m\n\u001b[0;32m---> 75\u001b[0;31m             \u001b[0mdVs\u001b[0m\u001b[0;34m,\u001b[0m\u001b[0mdW\u001b[0m \u001b[0;34m=\u001b[0m \u001b[0mself\u001b[0m\u001b[0;34m.\u001b[0m\u001b[0m_backward_pass\u001b[0m\u001b[0;34m(\u001b[0m\u001b[0mdelta\u001b[0m\u001b[0;34m,\u001b[0m\u001b[0mZ\u001b[0m\u001b[0;34m)\u001b[0m\u001b[0;34m\u001b[0m\u001b[0m\n\u001b[0m\u001b[1;32m     76\u001b[0m             \u001b[0;32mreturn\u001b[0m \u001b[0mself\u001b[0m\u001b[0;34m.\u001b[0m\u001b[0m_pack\u001b[0m\u001b[0;34m(\u001b[0m\u001b[0mdVs\u001b[0m\u001b[0;34m,\u001b[0m\u001b[0mdW\u001b[0m\u001b[0;34m)\u001b[0m\u001b[0;34m\u001b[0m\u001b[0m\n\u001b[1;32m     77\u001b[0m \u001b[0;34m\u001b[0m\u001b[0m\n",
      "\u001b[0;32m/Volumes/pass/f/doc/school/files/y4/s1/c440/a5/neuralnetworks.py\u001b[0m in \u001b[0;36m_backward_pass\u001b[0;34m(self, delta, Z)\u001b[0m\n\u001b[1;32m    131\u001b[0m             \u001b[0mdW\u001b[0m \u001b[0;34m=\u001b[0m \u001b[0mnp\u001b[0m\u001b[0;34m.\u001b[0m\u001b[0mvstack\u001b[0m\u001b[0;34m(\u001b[0m\u001b[0;34m(\u001b[0m\u001b[0mnp\u001b[0m\u001b[0;34m.\u001b[0m\u001b[0mdot\u001b[0m\u001b[0;34m(\u001b[0m\u001b[0mnp\u001b[0m\u001b[0;34m.\u001b[0m\u001b[0mones\u001b[0m\u001b[0;34m(\u001b[0m\u001b[0;34m(\u001b[0m\u001b[0;36m1\u001b[0m\u001b[0;34m,\u001b[0m\u001b[0mdelta\u001b[0m\u001b[0;34m.\u001b[0m\u001b[0mshape\u001b[0m\u001b[0;34m[\u001b[0m\u001b[0;36m0\u001b[0m\u001b[0;34m]\u001b[0m\u001b[0;34m)\u001b[0m\u001b[0;34m)\u001b[0m\u001b[0;34m,\u001b[0m\u001b[0mdelta\u001b[0m\u001b[0;34m)\u001b[0m\u001b[0;34m,\u001b[0m  \u001b[0mnp\u001b[0m\u001b[0;34m.\u001b[0m\u001b[0mdot\u001b[0m\u001b[0;34m(\u001b[0m \u001b[0mZ\u001b[0m\u001b[0;34m[\u001b[0m\u001b[0;34m-\u001b[0m\u001b[0;36m1\u001b[0m\u001b[0;34m]\u001b[0m\u001b[0;34m.\u001b[0m\u001b[0mT\u001b[0m\u001b[0;34m,\u001b[0m \u001b[0mdelta\u001b[0m\u001b[0;34m)\u001b[0m\u001b[0;34m)\u001b[0m\u001b[0;34m)\u001b[0m\u001b[0;34m\u001b[0m\u001b[0m\n\u001b[1;32m    132\u001b[0m             \u001b[0mdVs\u001b[0m \u001b[0;34m=\u001b[0m \u001b[0;34m[\u001b[0m\u001b[0;34m]\u001b[0m\u001b[0;34m\u001b[0m\u001b[0m\n\u001b[0;32m--> 133\u001b[0;31m             \u001b[0mdelta\u001b[0m \u001b[0;34m=\u001b[0m \u001b[0;34m(\u001b[0m\u001b[0;36m1\u001b[0m\u001b[0;34m-\u001b[0m\u001b[0mZ\u001b[0m\u001b[0;34m[\u001b[0m\u001b[0;34m-\u001b[0m\u001b[0;36m1\u001b[0m\u001b[0;34m]\u001b[0m\u001b[0;34m**\u001b[0m\u001b[0;36m2\u001b[0m\u001b[0;34m)\u001b[0m \u001b[0;34m*\u001b[0m \u001b[0mnp\u001b[0m\u001b[0;34m.\u001b[0m\u001b[0mdot\u001b[0m\u001b[0;34m(\u001b[0m \u001b[0mdelta\u001b[0m\u001b[0;34m,\u001b[0m \u001b[0mself\u001b[0m\u001b[0;34m.\u001b[0m\u001b[0mW\u001b[0m\u001b[0;34m[\u001b[0m\u001b[0;36m1\u001b[0m\u001b[0;34m:\u001b[0m\u001b[0;34m,\u001b[0m\u001b[0;34m:\u001b[0m\u001b[0;34m]\u001b[0m\u001b[0;34m.\u001b[0m\u001b[0mT\u001b[0m\u001b[0;34m)\u001b[0m\u001b[0;34m\u001b[0m\u001b[0m\n\u001b[0m\u001b[1;32m    134\u001b[0m             \u001b[0;32mfor\u001b[0m \u001b[0mZi\u001b[0m \u001b[0;32min\u001b[0m \u001b[0mrange\u001b[0m\u001b[0;34m(\u001b[0m\u001b[0mlen\u001b[0m\u001b[0;34m(\u001b[0m\u001b[0mself\u001b[0m\u001b[0;34m.\u001b[0m\u001b[0mnhs\u001b[0m\u001b[0;34m)\u001b[0m\u001b[0;34m,\u001b[0m\u001b[0;36m0\u001b[0m\u001b[0;34m,\u001b[0m\u001b[0;34m-\u001b[0m\u001b[0;36m1\u001b[0m\u001b[0;34m)\u001b[0m\u001b[0;34m:\u001b[0m\u001b[0;34m\u001b[0m\u001b[0m\n\u001b[1;32m    135\u001b[0m                 \u001b[0mVi\u001b[0m \u001b[0;34m=\u001b[0m \u001b[0mZi\u001b[0m \u001b[0;34m-\u001b[0m \u001b[0;36m1\u001b[0m \u001b[0;31m# because X is first element of Z\u001b[0m\u001b[0;34m\u001b[0m\u001b[0m\n",
      "\u001b[0;31mKeyboardInterrupt\u001b[0m: "
     ]
    }
   ],
   "source": [
    "netsEnergy = [0, 5, 20, 50, [24, 12, 6],\n",
    "              [10, 5], [20, 20], [30, 30], [40, 10]]\n",
    "results = trainNNs(Xenergy, Tenergy, 0.8, netsEnergy, 10, 700, False, verbose=True)"
   ]
  },
  {
   "cell_type": "code",
   "execution_count": null,
   "metadata": {
    "scrolled": true
   },
   "outputs": [],
   "source": [
    "plotSummary(summarize(results))"
   ]
  },
  {
   "cell_type": "code",
   "execution_count": null,
   "metadata": {},
   "outputs": [],
   "source": [
    "best = \n",
    "print('Hidden Layers {} Average RMSE Training {:.2f} Testing {:.2f} Took {:.2f} seconds'.format(*bestNetwork(summarize(results))))"
   ]
  },
  {
   "cell_type": "markdown",
   "metadata": {},
   "source": [
    "Notice that large numbers of layers tends to over-fit the data. Due to its complexity, it's capable of memorizing some of the data, so when we test it on testing data, it performs poorly because it is using what it's stored not what it's generalized.\n",
    "\n",
    "We can see that this is what it is doing when our training accuracy is much higher than our testing accuracy. Typically, we want to identify where testing accuracy stops lowering and starts rising. That threshold  is where the model begins to over-fit."
   ]
  },
  {
   "cell_type": "markdown",
   "metadata": {},
   "source": [
    "Now train another network with your best hidden layer structure on 0.8 of the data and use the trained network on the testing data (the remaining 0.2 of the date).  As before use `ml.partition` to produce the training and testing sets.\n",
    "\n",
    "For the testing data, plot the predicted and actual `Appliances` energy use, and the predicted and actual `lights` energy use, in two separate plots.  Discuss what you see."
   ]
  },
  {
   "cell_type": "markdown",
   "metadata": {},
   "source": [
    "# Classification\n",
    "\n",
    "## Data for Classification Experiment"
   ]
  },
  {
   "cell_type": "code",
   "execution_count": null,
   "metadata": {},
   "outputs": [],
   "source": [
    "!wget -nc -q 'http://archive.ics.uci.edu/ml/machine-learning-databases/00406/Anuran Calls (MFCCs).zip'\n",
    "![ -f Frogs_MFCCs.csv ] || unzip Anuran*zip"
   ]
  },
  {
   "cell_type": "code",
   "execution_count": null,
   "metadata": {},
   "outputs": [],
   "source": [
    "df = pd.read_csv('Frogs_MFCCs.csv')\n",
    "names = list(df.columns)\n",
    "data = np.array(df)"
   ]
  },
  {
   "cell_type": "code",
   "execution_count": null,
   "metadata": {},
   "outputs": [],
   "source": [
    "speciesIndex = names.index('Species')\n",
    "Xanuran, Tanuran = np.array(data[:,:-4], dtype=np.float64), data[:,speciesIndex]\n",
    "speciesMap = list(np.unique(Tanuran))\n",
    "Tanuran = np.array(list(map(lambda species:speciesMap.index(species), Tanuran)))\n",
    "Tanuran = Tanuran.reshape((Tanuran.shape[0], 1))"
   ]
  },
  {
   "cell_type": "code",
   "execution_count": null,
   "metadata": {},
   "outputs": [],
   "source": [
    "Xanuran.shape, Tanuran.shape"
   ]
  },
  {
   "cell_type": "code",
   "execution_count": null,
   "metadata": {},
   "outputs": [],
   "source": [
    "for i in range(10):\n",
    "    print('{} samples in class {}'.format(np.sum(Tanuran==i), i))"
   ]
  },
  {
   "cell_type": "code",
   "execution_count": null,
   "metadata": {
    "scrolled": true
   },
   "outputs": [],
   "source": [
    "trainFraction = 0.8\n",
    "trainX,trainT,testX,testT = ml.partition(Xanuran,Tanuran,(trainFraction,1-trainFraction),classification=True)\n",
    "trainX.shape,trainT.shape\n",
    "nnet = nn.NeuralNetworkClassifier(trainX.shape[1], [30, 30], len(np.unique(Tanuran)))\n",
    "nnet.train(trainX, trainT, 3000)\n",
    "plt.ylim(0)\n",
    "plt.plot(nnet.getErrorTrace())"
   ]
  },
  {
   "cell_type": "code",
   "execution_count": null,
   "metadata": {},
   "outputs": [],
   "source": [
    "netsAnuran = [0, 5, 20, 50, [24, 12, 6],\n",
    "              [10, 5], [20, 20], [30, 30], [40, 10]]\n",
    "results = trainNNs(Xanuran, Tanuran, 0.8, netsAnuran, 10, 900, True, verbose=True)"
   ]
  },
  {
   "cell_type": "code",
   "execution_count": null,
   "metadata": {},
   "outputs": [],
   "source": [
    "plotSummary(summarize(results))"
   ]
  },
  {
   "cell_type": "code",
   "execution_count": null,
   "metadata": {},
   "outputs": [],
   "source": [
    "best = bestNetwork(summarize(results))\n",
    "print(best)\n",
    "print('Hidden Layers {} Average fraction missed Training {:.2f} Testing {:.2f} Took {:.2f} seconds'.format(*best))"
   ]
  },
  {
   "cell_type": "markdown",
   "metadata": {},
   "source": [
    "Now do an investigation like you did for the regression data. \n",
    "\n",
    "Plot the predicted and actual `Species` for the testing data as an integer.  Discuss what you see."
   ]
  },
  {
   "cell_type": "markdown",
   "metadata": {},
   "source": [
    "## Grading\n",
    "\n",
    "Download [A5grader.tar](http://www.cs.colostate.edu/~anderson/cs440/notebooks/A5grader.tar) and extract `A5grader.py` from it."
   ]
  },
  {
   "cell_type": "code",
   "execution_count": null,
   "metadata": {
    "scrolled": true
   },
   "outputs": [],
   "source": [
    "%run -i \"A5grader.py\""
   ]
  },
  {
   "cell_type": "markdown",
   "metadata": {},
   "source": [
    "## Extra Credit\n",
    "\n",
    "  2. Repeat the above regression and classification experiments with a second regression data set and a second classification data set.\n",
    "  \n",
    "  2. Since you are collecting the performance of all repetitions for each network structure, you can calculate a confidence interval about the mean, to help judge significant differences. Do this for either the regression or the classification data and plot the mean test performance with confidence intervals for each network structure tested.  Discuss the statistical significance of the differences among the means.  One website I found to help with this is the site [Correct way to obtain confidence interval with scipy](https://stackoverflow.com/questions/28242593/correct-way-to-obtain-confidence-interval-with-scipy)."
   ]
  },
  {
   "cell_type": "markdown",
   "metadata": {},
   "source": [
    "# Regression analysis\n",
    "\n",
    "Data source:\n",
    "* http://archive.ics.uci.edu/ml/datasets/Student+Performance\n",
    "* http://archive.ics.uci.edu/ml/machine-learning-databases/00320/student.zip\n",
    "\n",
    "From the attributes, we see that we need to one hot encode all but the following:\n",
    "1. age\n",
    "1. failures\n",
    "1. famrel\n",
    "1. freetime\n",
    "1. goout\n",
    "1. Dalc\n",
    "1. Walc\n",
    "1. health\n",
    "1. absences\n",
    "1. G1\n",
    "1. G2\n",
    "1. G3\n",
    "\n",
    "Attributes:\n",
    "1. school - student's school (binary: \"GP\" - Gabriel Pereira or \"MS\" - Mousinho da Silveira)\n",
    "1. sex - student's sex (binary: \"F\" - female or \"M\" - male)\n",
    "1. age - student's age (numeric: from 15 to 22)\n",
    "1. address - student's home address type (binary: \"U\" - urban or \"R\" - rural)\n",
    "1. famsize - family size (binary: \"LE3\" - less or equal to 3 or \"GT3\" - greater than 3)\n",
    "1. Pstatus - parent's cohabitation status (binary: \"T\" - living together or \"A\" - apart)\n",
    "1. Medu - mother's education (numeric: 0 - none,  1 - primary education (4th grade), 2 – 5th to 9th grade, 3 – secondary education or 4 – higher education)\n",
    "1. Fedu - father's education (numeric: 0 - none,  1 - primary education (4th grade), 2 – 5th to 9th grade, 3 – secondary education or 4 – higher education)\n",
    "1. Mjob - mother's job (nominal: \"teacher\", \"health\" care related, civil \"services\" (e.g. administrative or police), \"at_home\" or \"other\")\n",
    "1. Fjob - father's job (nominal: \"teacher\", \"health\" care related, civil \"services\" (e.g. administrative or police), \"at_home\" or \"other\")\n",
    "1. reason - reason to choose this school (nominal: close to \"home\", school \"reputation\", \"course\" preference or \"other\")\n",
    "1. guardian - student's guardian (nominal: \"mother\", \"father\" or \"other\")\n",
    "1. traveltime - home to school travel time (numeric: 1 - <15 min., 2 - 15 to 30 min., 3 - 30 min. to 1 hour, or 4 - >1 hour)\n",
    "1. studytime - weekly study time (numeric: 1 - <2 hours, 2 - 2 to 5 hours, 3 - 5 to 10 hours, or 4 - >10 hours)\n",
    "1. failures - number of past class failures (numeric: n if 1<=n<3, else 4)\n",
    "1. schoolsup - extra educational support (binary: yes or no)\n",
    "1. famsup - family educational support (binary: yes or no)\n",
    "1. paid - extra paid classes within the course subject (Math or Portuguese) (binary: yes or no)\n",
    "1. activities - extra-curricular activities (binary: yes or no)\n",
    "1. nursery - attended nursery school (binary: yes or no)\n",
    "1. higher - wants to take higher education (binary: yes or no)\n",
    "1. internet - Internet access at home (binary: yes or no)\n",
    "1. romantic - with a romantic relationship (binary: yes or no)\n",
    "1. famrel - quality of family relationships (numeric: from 1 - very bad to 5 - excellent)\n",
    "1. freetime - free time after school (numeric: from 1 - very low to 5 - very high)\n",
    "1. goout - going out with friends (numeric: from 1 - very low to 5 - very high)\n",
    "1. Dalc - workday alcohol consumption (numeric: from 1 - very low to 5 - very high)\n",
    "1. Walc - weekend alcohol consumption (numeric: from 1 - very low to 5 - very high)\n",
    "1. health - current health status (numeric: from 1 - very bad to 5 - very good)\n",
    "1. absences - number of school absences (numeric: from 0 to 93)\n",
    "\n",
    "Output:\n",
    "1. G1 - first period grade (numeric: from 0 to 20)\n",
    "1. G2 - second period grade (numeric: from 0 to 20)\n",
    "1. G3 - final grade (numeric: from 0 to 20, output target)"
   ]
  },
  {
   "cell_type": "code",
   "execution_count": null,
   "metadata": {},
   "outputs": [],
   "source": [
    "!wget -nc -q 'http://archive.ics.uci.edu/ml/machine-learning-databases/00320/student.zip'\n",
    "![ -f student-mat.csv ] || unzip student.zip\n",
    "\n",
    "names = \"school;sex;age;address;famsize;Pstatus;Medu;Fedu;Mjob;Fjob;reason;guardian;traveltime;studytime;failures;schoolsup;famsup;paid;activities;nursery;higher;internet;romantic;famrel;freetime;goout;Dalc;Walc;health;absences;G1;G2;G3\".split(';')\n",
    "noohe =  [\"age\", \"failures\", \"famrel\", \"freetime\", \"goout\", \"Dalc\", \"Walc\", \"health\", \"absences\", \"G1\", \"G2\", \"G3\"]"
   ]
  },
  {
   "cell_type": "markdown",
   "metadata": {},
   "source": [
    "Now we have to do one-hot encoding. This post helped me:\n",
    "https://stackoverflow.com/questions/37292872/how-can-i-one-hot-encode-in-python"
   ]
  },
  {
   "cell_type": "markdown",
   "metadata": {},
   "source": [
    "## OneHotEncoding\n",
    "\n",
    "Here you can see school being onehot encoded. It is removed and replaced with an encoded form: GP and MS"
   ]
  },
  {
   "cell_type": "code",
   "execution_count": null,
   "metadata": {
    "scrolled": true
   },
   "outputs": [],
   "source": [
    "example = pd.read_csv('student-mat.csv', delimiter=\";\")"
   ]
  },
  {
   "cell_type": "code",
   "execution_count": null,
   "metadata": {
    "scrolled": true
   },
   "outputs": [],
   "source": [
    "name = 'school'\n",
    "dummy = pd.get_dummies(example.get(name))\n",
    "example = example.drop(name, axis=1)\n",
    "example = example.join(dummy, rsuffix=\"ohed\")\n",
    "example"
   ]
  },
  {
   "cell_type": "markdown",
   "metadata": {},
   "source": [
    "Now if we onehot encode them all:"
   ]
  },
  {
   "cell_type": "code",
   "execution_count": null,
   "metadata": {
    "scrolled": true
   },
   "outputs": [],
   "source": [
    "df = pd.read_csv('student-mat.csv', delimiter=\";\")\n",
    "# We don't care about progress grades; we only care about the main one\n",
    "df = df.drop('G1', axis=1)\n",
    "df = df.drop('G2', axis=1)\n",
    "\n",
    "# OHE\n",
    "for name in list(df.columns):\n",
    "    if not name in noohe:\n",
    "        dummy = pd.get_dummies(df.get(name))\n",
    "        df = df.drop(name, axis=1)\n",
    "        df = df.join(dummy, rsuffix=\"ohed\")\n",
    "\n",
    "# Here's an example data point\n",
    "np.array(df)[0,:]"
   ]
  },
  {
   "cell_type": "markdown",
   "metadata": {},
   "source": [
    "Here's the labels"
   ]
  },
  {
   "cell_type": "code",
   "execution_count": null,
   "metadata": {
    "scrolled": true
   },
   "outputs": [],
   "source": [
    "df.columns"
   ]
  },
  {
   "cell_type": "markdown",
   "metadata": {},
   "source": [
    "As you can see, they are now useless.."
   ]
  },
  {
   "cell_type": "code",
   "execution_count": null,
   "metadata": {
    "scrolled": true
   },
   "outputs": [],
   "source": [
    "np.array(df).shape"
   ]
  },
  {
   "cell_type": "markdown",
   "metadata": {},
   "source": [
    "## Data reformatting"
   ]
  },
  {
   "cell_type": "code",
   "execution_count": null,
   "metadata": {},
   "outputs": [],
   "source": [
    "data = np.array(df, dtype=np.float)\n",
    "G3col = list(df.columns).index('G3')\n",
    "Xschool = np.delete(data, G3col, 1)\n",
    "Tschool = data[:,G3col]\n",
    "Tschool = Tschool.reshape(Tschool.shape[0], 1)\n",
    "Xschool.shape, Tschool.shape"
   ]
  },
  {
   "cell_type": "markdown",
   "metadata": {},
   "source": [
    "## Iteration measurement"
   ]
  },
  {
   "cell_type": "code",
   "execution_count": null,
   "metadata": {
    "scrolled": true
   },
   "outputs": [],
   "source": [
    "trainFraction = 0.8\n",
    "trainX,trainT,testX,testT = ml.partition(Xenergy,Tenergy,(trainFraction,1-trainFraction),classification=False)\n",
    "nnet = nn.NeuralNetwork(Xenergy.shape[1], [20, 20], Tenergy.shape[1])\n",
    "nnet.train(trainX, trainT, 3000)\n",
    "plt.ylim(0)\n",
    "plt.plot(nnet.getErrorTrace())"
   ]
  },
  {
   "cell_type": "markdown",
   "metadata": {},
   "source": [
    "The error levels off around 500 but continues to decrease slightly."
   ]
  },
  {
   "cell_type": "markdown",
   "metadata": {},
   "source": [
    "## Structure performance analysis"
   ]
  },
  {
   "cell_type": "code",
   "execution_count": null,
   "metadata": {
    "scrolled": true
   },
   "outputs": [],
   "source": [
    "netsEnergy = [0, 30, 70, 100, [80, 40, 20],\n",
    "              [70, 35], [70, 70], [50, 50], [30, 10]]\n",
    "results = trainNNs(Xenergy, Tenergy, 0.8, netsEnergy, 10, 700, classify=False, verbose=True)"
   ]
  },
  {
   "cell_type": "code",
   "execution_count": null,
   "metadata": {
    "scrolled": true
   },
   "outputs": [],
   "source": [
    "plotSummary(summarize(results))"
   ]
  },
  {
   "cell_type": "code",
   "execution_count": null,
   "metadata": {},
   "outputs": [],
   "source": [
    "print('Hidden Layers {} Average RMSE Training {:.2f} Testing {:.2f} Took {:.2f} seconds'.format(*bestNetwork(summarize(results))))"
   ]
  },
  {
   "cell_type": "markdown",
   "metadata": {},
   "source": [
    "# Classification Analysis\n",
    "\n",
    "Data source:\n",
    "* http://archive.ics.uci.edu/ml/datasets/Breast+Cancer+Wisconsin+%28Diagnostic%29\n",
    "* http://archive.ics.uci.edu/ml/machine-learning-databases/breast-cancer-wisconsin/wdbc.data (the 05 feb 1996 dataset)"
   ]
  },
  {
   "cell_type": "markdown",
   "metadata": {},
   "source": [
    "1. ID number\n",
    "1. Diagnosis (M = malignant, B = benign)\n",
    "1. (3 cells)\n",
    "    1. radius (mean of distances from center to points on the perimeter)\n",
    "    1. texture (standard deviation of gray-scale values)\n",
    "    1. perimeter\n",
    "    1. area\n",
    "    1. smoothness (local variation in radius lengths)\n",
    "    1. compactness (perimeter^2 / area - 1.0)\n",
    "    1. concavity (severity of concave portions of the contour)\n",
    "    1. concave points (number of concave portions of the contour)\n",
    "    1. symmetry \n",
    "    1. fractal dimension (\"coastline approximation\" - 1)"
   ]
  },
  {
   "cell_type": "code",
   "execution_count": null,
   "metadata": {},
   "outputs": [],
   "source": [
    "!wget -nc -q 'http://archive.ics.uci.edu/ml/machine-learning-databases/breast-cancer-wisconsin/wdbc.data'\n",
    "\n",
    "names = ['id', 'diagnosis']\n",
    "cells = ['radius', 'texture', 'perimiter', 'area', 'smoothness', 'compactness', 'concavity', 'concave points', 'symmetry', 'fractal dimention']\n",
    "for cell in [[cell+str(i) for cell in cells] for i in range(1, 4)]:\n",
    "    names.extend(cell)\n",
    "df = pd.read_csv('wdbc.data', header=None, names=names)\n",
    "data = np.array(df)"
   ]
  },
  {
   "cell_type": "code",
   "execution_count": null,
   "metadata": {
    "scrolled": true
   },
   "outputs": [],
   "source": [
    "df"
   ]
  },
  {
   "cell_type": "code",
   "execution_count": null,
   "metadata": {},
   "outputs": [],
   "source": [
    "names = list(df.columns)\n",
    "data = np.array(df)\n",
    "Xcancer = np.array(data[:,2:], dtype=np.float)\n",
    "Tcancer = np.array([0 if diagnosis == 'B' else 1 for diagnosis in data[:,1]], dtype=np.int)\n",
    "Tcancer = Tcancer.reshape(Tcancer.shape[0], 1)\n",
    "Xcancer.shape, Tcancer.shape"
   ]
  },
  {
   "cell_type": "code",
   "execution_count": null,
   "metadata": {},
   "outputs": [],
   "source": [
    "for i in range(2):\n",
    "    print('{} samples in class {}'.format(np.sum(Tcancer==i), i))"
   ]
  },
  {
   "cell_type": "code",
   "execution_count": null,
   "metadata": {
    "scrolled": true
   },
   "outputs": [],
   "source": [
    "trainFraction = 0.8\n",
    "trainX,trainT,testX,testT = ml.partition(Xcancer,Tcancer,(trainFraction,1-trainFraction),classification=False)\n",
    "nnet = nn.NeuralNetwork(Xcancer.shape[1], [30, 30], Tcancer.shape[1])\n",
    "nnet.train(trainX, trainT, 3000)\n",
    "plt.ylim(0)\n",
    "plt.plot(nnet.getErrorTrace())"
   ]
  },
  {
   "cell_type": "code",
   "execution_count": null,
   "metadata": {
    "scrolled": true
   },
   "outputs": [],
   "source": [
    "netsCancer = [0, 3, 10, 30, 50, [30, 30], [30, 10], [10, 5], [5, 4, 3], [20, 20]]\n",
    "results = trainNNs(Xcancer, Tcancer, 0.8, netsCancer, 10, 300, classify=True, verbose=True)"
   ]
  },
  {
   "cell_type": "code",
   "execution_count": null,
   "metadata": {},
   "outputs": [],
   "source": [
    "plotSummary(summarize(results))"
   ]
  },
  {
   "cell_type": "code",
   "execution_count": null,
   "metadata": {},
   "outputs": [],
   "source": [
    "best = bestNetwork(summarize(results))\n",
    "print(best)\n",
    "print('Hidden Layers {} Average RMSE Training {:.2f} Testing {:.2f} Took {:.2f} seconds'.format(*best))"
   ]
  }
 ],
 "metadata": {
  "anaconda-cloud": {},
  "kernelspec": {
   "display_name": "Python 3",
   "language": "python",
   "name": "python3"
  },
  "language_info": {
   "codemirror_mode": {
    "name": "ipython",
    "version": 3
   },
   "file_extension": ".py",
   "mimetype": "text/x-python",
   "name": "python",
   "nbconvert_exporter": "python",
   "pygments_lexer": "ipython3",
   "version": "3.7.0"
  },
  "toc": {
   "nav_menu": {},
   "number_sections": true,
   "sideBar": true,
   "skip_h1_title": false,
   "toc_cell": false,
   "toc_position": {},
   "toc_section_display": "block",
   "toc_window_display": false
  }
 },
 "nbformat": 4,
 "nbformat_minor": 1
}
